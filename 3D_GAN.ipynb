{
  "nbformat": 4,
  "nbformat_minor": 0,
  "metadata": {
    "colab": {
      "name": "Preimage_task.ipynb",
      "provenance": [],
      "collapsed_sections": []
    },
    "kernelspec": {
      "display_name": "Python 3",
      "name": "python3"
    },
    "language_info": {
      "name": "python"
    },
    "accelerator": "GPU",
    "widgets": {
      "application/vnd.jupyter.widget-state+json": {
        "1f9110cde1b64b8f994d3661054e0a80": {
          "model_module": "@jupyter-widgets/controls",
          "model_name": "HBoxModel",
          "state": {
            "_view_name": "HBoxView",
            "_dom_classes": [],
            "_model_name": "HBoxModel",
            "_view_module": "@jupyter-widgets/controls",
            "_model_module_version": "1.5.0",
            "_view_count": null,
            "_view_module_version": "1.5.0",
            "box_style": "",
            "layout": "IPY_MODEL_f10c8b7b95e348119eabe18dfe44beaf",
            "_model_module": "@jupyter-widgets/controls",
            "children": [
              "IPY_MODEL_7e0fd87a32144759b3f6b42203376d51",
              "IPY_MODEL_59477e10a25b4a24a81ee37d4f59ac29"
            ]
          }
        },
        "f10c8b7b95e348119eabe18dfe44beaf": {
          "model_module": "@jupyter-widgets/base",
          "model_name": "LayoutModel",
          "state": {
            "_view_name": "LayoutView",
            "grid_template_rows": null,
            "right": null,
            "justify_content": null,
            "_view_module": "@jupyter-widgets/base",
            "overflow": null,
            "_model_module_version": "1.2.0",
            "_view_count": null,
            "flex_flow": null,
            "width": null,
            "min_width": null,
            "border": null,
            "align_items": null,
            "bottom": null,
            "_model_module": "@jupyter-widgets/base",
            "top": null,
            "grid_column": null,
            "overflow_y": null,
            "overflow_x": null,
            "grid_auto_flow": null,
            "grid_area": null,
            "grid_template_columns": null,
            "flex": null,
            "_model_name": "LayoutModel",
            "justify_items": null,
            "grid_row": null,
            "max_height": null,
            "align_content": null,
            "visibility": null,
            "align_self": null,
            "height": null,
            "min_height": null,
            "padding": null,
            "grid_auto_rows": null,
            "grid_gap": null,
            "max_width": null,
            "order": null,
            "_view_module_version": "1.2.0",
            "grid_template_areas": null,
            "object_position": null,
            "object_fit": null,
            "grid_auto_columns": null,
            "margin": null,
            "display": null,
            "left": null
          }
        },
        "7e0fd87a32144759b3f6b42203376d51": {
          "model_module": "@jupyter-widgets/controls",
          "model_name": "FloatProgressModel",
          "state": {
            "_view_name": "ProgressView",
            "style": "IPY_MODEL_5e518d3860f04840b0eee6907ff90426",
            "_dom_classes": [],
            "description": "100%",
            "_model_name": "FloatProgressModel",
            "bar_style": "success",
            "max": 5000,
            "_view_module": "@jupyter-widgets/controls",
            "_model_module_version": "1.5.0",
            "value": 5000,
            "_view_count": null,
            "_view_module_version": "1.5.0",
            "orientation": "horizontal",
            "min": 0,
            "description_tooltip": null,
            "_model_module": "@jupyter-widgets/controls",
            "layout": "IPY_MODEL_9181fa7d50f9446093517bce2b539526"
          }
        },
        "59477e10a25b4a24a81ee37d4f59ac29": {
          "model_module": "@jupyter-widgets/controls",
          "model_name": "HTMLModel",
          "state": {
            "_view_name": "HTMLView",
            "style": "IPY_MODEL_e05e3cda66ad4ce294efec52c8f75ab9",
            "_dom_classes": [],
            "description": "",
            "_model_name": "HTMLModel",
            "placeholder": "​",
            "_view_module": "@jupyter-widgets/controls",
            "_model_module_version": "1.5.0",
            "value": " 5000/5000 [46:39&lt;00:00,  1.79it/s]",
            "_view_count": null,
            "_view_module_version": "1.5.0",
            "description_tooltip": null,
            "_model_module": "@jupyter-widgets/controls",
            "layout": "IPY_MODEL_ed4ac9f6cabd448e9f581e171aacbb49"
          }
        },
        "5e518d3860f04840b0eee6907ff90426": {
          "model_module": "@jupyter-widgets/controls",
          "model_name": "ProgressStyleModel",
          "state": {
            "_view_name": "StyleView",
            "_model_name": "ProgressStyleModel",
            "description_width": "initial",
            "_view_module": "@jupyter-widgets/base",
            "_model_module_version": "1.5.0",
            "_view_count": null,
            "_view_module_version": "1.2.0",
            "bar_color": null,
            "_model_module": "@jupyter-widgets/controls"
          }
        },
        "9181fa7d50f9446093517bce2b539526": {
          "model_module": "@jupyter-widgets/base",
          "model_name": "LayoutModel",
          "state": {
            "_view_name": "LayoutView",
            "grid_template_rows": null,
            "right": null,
            "justify_content": null,
            "_view_module": "@jupyter-widgets/base",
            "overflow": null,
            "_model_module_version": "1.2.0",
            "_view_count": null,
            "flex_flow": null,
            "width": null,
            "min_width": null,
            "border": null,
            "align_items": null,
            "bottom": null,
            "_model_module": "@jupyter-widgets/base",
            "top": null,
            "grid_column": null,
            "overflow_y": null,
            "overflow_x": null,
            "grid_auto_flow": null,
            "grid_area": null,
            "grid_template_columns": null,
            "flex": null,
            "_model_name": "LayoutModel",
            "justify_items": null,
            "grid_row": null,
            "max_height": null,
            "align_content": null,
            "visibility": null,
            "align_self": null,
            "height": null,
            "min_height": null,
            "padding": null,
            "grid_auto_rows": null,
            "grid_gap": null,
            "max_width": null,
            "order": null,
            "_view_module_version": "1.2.0",
            "grid_template_areas": null,
            "object_position": null,
            "object_fit": null,
            "grid_auto_columns": null,
            "margin": null,
            "display": null,
            "left": null
          }
        },
        "e05e3cda66ad4ce294efec52c8f75ab9": {
          "model_module": "@jupyter-widgets/controls",
          "model_name": "DescriptionStyleModel",
          "state": {
            "_view_name": "StyleView",
            "_model_name": "DescriptionStyleModel",
            "description_width": "",
            "_view_module": "@jupyter-widgets/base",
            "_model_module_version": "1.5.0",
            "_view_count": null,
            "_view_module_version": "1.2.0",
            "_model_module": "@jupyter-widgets/controls"
          }
        },
        "ed4ac9f6cabd448e9f581e171aacbb49": {
          "model_module": "@jupyter-widgets/base",
          "model_name": "LayoutModel",
          "state": {
            "_view_name": "LayoutView",
            "grid_template_rows": null,
            "right": null,
            "justify_content": null,
            "_view_module": "@jupyter-widgets/base",
            "overflow": null,
            "_model_module_version": "1.2.0",
            "_view_count": null,
            "flex_flow": null,
            "width": null,
            "min_width": null,
            "border": null,
            "align_items": null,
            "bottom": null,
            "_model_module": "@jupyter-widgets/base",
            "top": null,
            "grid_column": null,
            "overflow_y": null,
            "overflow_x": null,
            "grid_auto_flow": null,
            "grid_area": null,
            "grid_template_columns": null,
            "flex": null,
            "_model_name": "LayoutModel",
            "justify_items": null,
            "grid_row": null,
            "max_height": null,
            "align_content": null,
            "visibility": null,
            "align_self": null,
            "height": null,
            "min_height": null,
            "padding": null,
            "grid_auto_rows": null,
            "grid_gap": null,
            "max_width": null,
            "order": null,
            "_view_module_version": "1.2.0",
            "grid_template_areas": null,
            "object_position": null,
            "object_fit": null,
            "grid_auto_columns": null,
            "margin": null,
            "display": null,
            "left": null
          }
        },
        "b347e0d1c1c04b82a9864e67375c8739": {
          "model_module": "@jupyter-widgets/controls",
          "model_name": "HBoxModel",
          "state": {
            "_view_name": "HBoxView",
            "_dom_classes": [],
            "_model_name": "HBoxModel",
            "_view_module": "@jupyter-widgets/controls",
            "_model_module_version": "1.5.0",
            "_view_count": null,
            "_view_module_version": "1.5.0",
            "box_style": "",
            "layout": "IPY_MODEL_70d1219efda84c0eb5d7ce24f736335d",
            "_model_module": "@jupyter-widgets/controls",
            "children": [
              "IPY_MODEL_c102b9f8c05f415ba6f847b049027b36",
              "IPY_MODEL_540de84f606146d0b1bba19825e3a709"
            ]
          }
        },
        "70d1219efda84c0eb5d7ce24f736335d": {
          "model_module": "@jupyter-widgets/base",
          "model_name": "LayoutModel",
          "state": {
            "_view_name": "LayoutView",
            "grid_template_rows": null,
            "right": null,
            "justify_content": null,
            "_view_module": "@jupyter-widgets/base",
            "overflow": null,
            "_model_module_version": "1.2.0",
            "_view_count": null,
            "flex_flow": null,
            "width": null,
            "min_width": null,
            "border": null,
            "align_items": null,
            "bottom": null,
            "_model_module": "@jupyter-widgets/base",
            "top": null,
            "grid_column": null,
            "overflow_y": null,
            "overflow_x": null,
            "grid_auto_flow": null,
            "grid_area": null,
            "grid_template_columns": null,
            "flex": null,
            "_model_name": "LayoutModel",
            "justify_items": null,
            "grid_row": null,
            "max_height": null,
            "align_content": null,
            "visibility": null,
            "align_self": null,
            "height": null,
            "min_height": null,
            "padding": null,
            "grid_auto_rows": null,
            "grid_gap": null,
            "max_width": null,
            "order": null,
            "_view_module_version": "1.2.0",
            "grid_template_areas": null,
            "object_position": null,
            "object_fit": null,
            "grid_auto_columns": null,
            "margin": null,
            "display": null,
            "left": null
          }
        },
        "c102b9f8c05f415ba6f847b049027b36": {
          "model_module": "@jupyter-widgets/controls",
          "model_name": "FloatProgressModel",
          "state": {
            "_view_name": "ProgressView",
            "style": "IPY_MODEL_6bfe86c250a64f1bbec42164bed395ec",
            "_dom_classes": [],
            "description": "100%",
            "_model_name": "FloatProgressModel",
            "bar_style": "success",
            "max": 5000,
            "_view_module": "@jupyter-widgets/controls",
            "_model_module_version": "1.5.0",
            "value": 5000,
            "_view_count": null,
            "_view_module_version": "1.5.0",
            "orientation": "horizontal",
            "min": 0,
            "description_tooltip": null,
            "_model_module": "@jupyter-widgets/controls",
            "layout": "IPY_MODEL_05b87f8a8a8546fcaa91c496eab527a6"
          }
        },
        "540de84f606146d0b1bba19825e3a709": {
          "model_module": "@jupyter-widgets/controls",
          "model_name": "HTMLModel",
          "state": {
            "_view_name": "HTMLView",
            "style": "IPY_MODEL_5e59407862b54bb2b608a71a47fb3243",
            "_dom_classes": [],
            "description": "",
            "_model_name": "HTMLModel",
            "placeholder": "​",
            "_view_module": "@jupyter-widgets/controls",
            "_model_module_version": "1.5.0",
            "value": " 5000/5000 [44:38&lt;00:00,  1.87it/s]",
            "_view_count": null,
            "_view_module_version": "1.5.0",
            "description_tooltip": null,
            "_model_module": "@jupyter-widgets/controls",
            "layout": "IPY_MODEL_9b8ba7f838e94de7beb012367f31e12d"
          }
        },
        "6bfe86c250a64f1bbec42164bed395ec": {
          "model_module": "@jupyter-widgets/controls",
          "model_name": "ProgressStyleModel",
          "state": {
            "_view_name": "StyleView",
            "_model_name": "ProgressStyleModel",
            "description_width": "initial",
            "_view_module": "@jupyter-widgets/base",
            "_model_module_version": "1.5.0",
            "_view_count": null,
            "_view_module_version": "1.2.0",
            "bar_color": null,
            "_model_module": "@jupyter-widgets/controls"
          }
        },
        "05b87f8a8a8546fcaa91c496eab527a6": {
          "model_module": "@jupyter-widgets/base",
          "model_name": "LayoutModel",
          "state": {
            "_view_name": "LayoutView",
            "grid_template_rows": null,
            "right": null,
            "justify_content": null,
            "_view_module": "@jupyter-widgets/base",
            "overflow": null,
            "_model_module_version": "1.2.0",
            "_view_count": null,
            "flex_flow": null,
            "width": null,
            "min_width": null,
            "border": null,
            "align_items": null,
            "bottom": null,
            "_model_module": "@jupyter-widgets/base",
            "top": null,
            "grid_column": null,
            "overflow_y": null,
            "overflow_x": null,
            "grid_auto_flow": null,
            "grid_area": null,
            "grid_template_columns": null,
            "flex": null,
            "_model_name": "LayoutModel",
            "justify_items": null,
            "grid_row": null,
            "max_height": null,
            "align_content": null,
            "visibility": null,
            "align_self": null,
            "height": null,
            "min_height": null,
            "padding": null,
            "grid_auto_rows": null,
            "grid_gap": null,
            "max_width": null,
            "order": null,
            "_view_module_version": "1.2.0",
            "grid_template_areas": null,
            "object_position": null,
            "object_fit": null,
            "grid_auto_columns": null,
            "margin": null,
            "display": null,
            "left": null
          }
        },
        "5e59407862b54bb2b608a71a47fb3243": {
          "model_module": "@jupyter-widgets/controls",
          "model_name": "DescriptionStyleModel",
          "state": {
            "_view_name": "StyleView",
            "_model_name": "DescriptionStyleModel",
            "description_width": "",
            "_view_module": "@jupyter-widgets/base",
            "_model_module_version": "1.5.0",
            "_view_count": null,
            "_view_module_version": "1.2.0",
            "_model_module": "@jupyter-widgets/controls"
          }
        },
        "9b8ba7f838e94de7beb012367f31e12d": {
          "model_module": "@jupyter-widgets/base",
          "model_name": "LayoutModel",
          "state": {
            "_view_name": "LayoutView",
            "grid_template_rows": null,
            "right": null,
            "justify_content": null,
            "_view_module": "@jupyter-widgets/base",
            "overflow": null,
            "_model_module_version": "1.2.0",
            "_view_count": null,
            "flex_flow": null,
            "width": null,
            "min_width": null,
            "border": null,
            "align_items": null,
            "bottom": null,
            "_model_module": "@jupyter-widgets/base",
            "top": null,
            "grid_column": null,
            "overflow_y": null,
            "overflow_x": null,
            "grid_auto_flow": null,
            "grid_area": null,
            "grid_template_columns": null,
            "flex": null,
            "_model_name": "LayoutModel",
            "justify_items": null,
            "grid_row": null,
            "max_height": null,
            "align_content": null,
            "visibility": null,
            "align_self": null,
            "height": null,
            "min_height": null,
            "padding": null,
            "grid_auto_rows": null,
            "grid_gap": null,
            "max_width": null,
            "order": null,
            "_view_module_version": "1.2.0",
            "grid_template_areas": null,
            "object_position": null,
            "object_fit": null,
            "grid_auto_columns": null,
            "margin": null,
            "display": null,
            "left": null
          }
        },
        "11734fdae18e40cbb02ceb6b71ef4dd2": {
          "model_module": "@jupyter-widgets/controls",
          "model_name": "HBoxModel",
          "state": {
            "_view_name": "HBoxView",
            "_dom_classes": [],
            "_model_name": "HBoxModel",
            "_view_module": "@jupyter-widgets/controls",
            "_model_module_version": "1.5.0",
            "_view_count": null,
            "_view_module_version": "1.5.0",
            "box_style": "",
            "layout": "IPY_MODEL_07659b838b7c4a82a68ac97d1b90ba02",
            "_model_module": "@jupyter-widgets/controls",
            "children": [
              "IPY_MODEL_2832edb8476a44028e9cec1ca18fb98d",
              "IPY_MODEL_6425ea870dfb4232b7a3e21cda78ac56"
            ]
          }
        },
        "07659b838b7c4a82a68ac97d1b90ba02": {
          "model_module": "@jupyter-widgets/base",
          "model_name": "LayoutModel",
          "state": {
            "_view_name": "LayoutView",
            "grid_template_rows": null,
            "right": null,
            "justify_content": null,
            "_view_module": "@jupyter-widgets/base",
            "overflow": null,
            "_model_module_version": "1.2.0",
            "_view_count": null,
            "flex_flow": null,
            "width": null,
            "min_width": null,
            "border": null,
            "align_items": null,
            "bottom": null,
            "_model_module": "@jupyter-widgets/base",
            "top": null,
            "grid_column": null,
            "overflow_y": null,
            "overflow_x": null,
            "grid_auto_flow": null,
            "grid_area": null,
            "grid_template_columns": null,
            "flex": null,
            "_model_name": "LayoutModel",
            "justify_items": null,
            "grid_row": null,
            "max_height": null,
            "align_content": null,
            "visibility": null,
            "align_self": null,
            "height": null,
            "min_height": null,
            "padding": null,
            "grid_auto_rows": null,
            "grid_gap": null,
            "max_width": null,
            "order": null,
            "_view_module_version": "1.2.0",
            "grid_template_areas": null,
            "object_position": null,
            "object_fit": null,
            "grid_auto_columns": null,
            "margin": null,
            "display": null,
            "left": null
          }
        },
        "2832edb8476a44028e9cec1ca18fb98d": {
          "model_module": "@jupyter-widgets/controls",
          "model_name": "FloatProgressModel",
          "state": {
            "_view_name": "ProgressView",
            "style": "IPY_MODEL_81aad9edcf9d48fcb861defdd241d677",
            "_dom_classes": [],
            "description": "100%",
            "_model_name": "FloatProgressModel",
            "bar_style": "success",
            "max": 5000,
            "_view_module": "@jupyter-widgets/controls",
            "_model_module_version": "1.5.0",
            "value": 5000,
            "_view_count": null,
            "_view_module_version": "1.5.0",
            "orientation": "horizontal",
            "min": 0,
            "description_tooltip": null,
            "_model_module": "@jupyter-widgets/controls",
            "layout": "IPY_MODEL_984f624c0926499b9c5d4cc06f551629"
          }
        },
        "6425ea870dfb4232b7a3e21cda78ac56": {
          "model_module": "@jupyter-widgets/controls",
          "model_name": "HTMLModel",
          "state": {
            "_view_name": "HTMLView",
            "style": "IPY_MODEL_c1855899cfeb46f59b9a995cc64b040a",
            "_dom_classes": [],
            "description": "",
            "_model_name": "HTMLModel",
            "placeholder": "​",
            "_view_module": "@jupyter-widgets/controls",
            "_model_module_version": "1.5.0",
            "value": " 5000/5000 [1:41:16&lt;00:00,  1.22s/it]",
            "_view_count": null,
            "_view_module_version": "1.5.0",
            "description_tooltip": null,
            "_model_module": "@jupyter-widgets/controls",
            "layout": "IPY_MODEL_d0dacd317d644795adf1b7036eb3f870"
          }
        },
        "81aad9edcf9d48fcb861defdd241d677": {
          "model_module": "@jupyter-widgets/controls",
          "model_name": "ProgressStyleModel",
          "state": {
            "_view_name": "StyleView",
            "_model_name": "ProgressStyleModel",
            "description_width": "initial",
            "_view_module": "@jupyter-widgets/base",
            "_model_module_version": "1.5.0",
            "_view_count": null,
            "_view_module_version": "1.2.0",
            "bar_color": null,
            "_model_module": "@jupyter-widgets/controls"
          }
        },
        "984f624c0926499b9c5d4cc06f551629": {
          "model_module": "@jupyter-widgets/base",
          "model_name": "LayoutModel",
          "state": {
            "_view_name": "LayoutView",
            "grid_template_rows": null,
            "right": null,
            "justify_content": null,
            "_view_module": "@jupyter-widgets/base",
            "overflow": null,
            "_model_module_version": "1.2.0",
            "_view_count": null,
            "flex_flow": null,
            "width": null,
            "min_width": null,
            "border": null,
            "align_items": null,
            "bottom": null,
            "_model_module": "@jupyter-widgets/base",
            "top": null,
            "grid_column": null,
            "overflow_y": null,
            "overflow_x": null,
            "grid_auto_flow": null,
            "grid_area": null,
            "grid_template_columns": null,
            "flex": null,
            "_model_name": "LayoutModel",
            "justify_items": null,
            "grid_row": null,
            "max_height": null,
            "align_content": null,
            "visibility": null,
            "align_self": null,
            "height": null,
            "min_height": null,
            "padding": null,
            "grid_auto_rows": null,
            "grid_gap": null,
            "max_width": null,
            "order": null,
            "_view_module_version": "1.2.0",
            "grid_template_areas": null,
            "object_position": null,
            "object_fit": null,
            "grid_auto_columns": null,
            "margin": null,
            "display": null,
            "left": null
          }
        },
        "c1855899cfeb46f59b9a995cc64b040a": {
          "model_module": "@jupyter-widgets/controls",
          "model_name": "DescriptionStyleModel",
          "state": {
            "_view_name": "StyleView",
            "_model_name": "DescriptionStyleModel",
            "description_width": "",
            "_view_module": "@jupyter-widgets/base",
            "_model_module_version": "1.5.0",
            "_view_count": null,
            "_view_module_version": "1.2.0",
            "_model_module": "@jupyter-widgets/controls"
          }
        },
        "d0dacd317d644795adf1b7036eb3f870": {
          "model_module": "@jupyter-widgets/base",
          "model_name": "LayoutModel",
          "state": {
            "_view_name": "LayoutView",
            "grid_template_rows": null,
            "right": null,
            "justify_content": null,
            "_view_module": "@jupyter-widgets/base",
            "overflow": null,
            "_model_module_version": "1.2.0",
            "_view_count": null,
            "flex_flow": null,
            "width": null,
            "min_width": null,
            "border": null,
            "align_items": null,
            "bottom": null,
            "_model_module": "@jupyter-widgets/base",
            "top": null,
            "grid_column": null,
            "overflow_y": null,
            "overflow_x": null,
            "grid_auto_flow": null,
            "grid_area": null,
            "grid_template_columns": null,
            "flex": null,
            "_model_name": "LayoutModel",
            "justify_items": null,
            "grid_row": null,
            "max_height": null,
            "align_content": null,
            "visibility": null,
            "align_self": null,
            "height": null,
            "min_height": null,
            "padding": null,
            "grid_auto_rows": null,
            "grid_gap": null,
            "max_width": null,
            "order": null,
            "_view_module_version": "1.2.0",
            "grid_template_areas": null,
            "object_position": null,
            "object_fit": null,
            "grid_auto_columns": null,
            "margin": null,
            "display": null,
            "left": null
          }
        },
        "17a194d71dfd4253bf9b724e2e7473eb": {
          "model_module": "@jupyter-widgets/controls",
          "model_name": "HBoxModel",
          "state": {
            "_view_name": "HBoxView",
            "_dom_classes": [],
            "_model_name": "HBoxModel",
            "_view_module": "@jupyter-widgets/controls",
            "_model_module_version": "1.5.0",
            "_view_count": null,
            "_view_module_version": "1.5.0",
            "box_style": "",
            "layout": "IPY_MODEL_80b9cbb3ba1a4261a6c8cb9ccae87676",
            "_model_module": "@jupyter-widgets/controls",
            "children": [
              "IPY_MODEL_68c7d5457122434fa21d84f9b5a8b99d",
              "IPY_MODEL_bdc8aa34b254487b91722202c29a9ea9"
            ]
          }
        },
        "80b9cbb3ba1a4261a6c8cb9ccae87676": {
          "model_module": "@jupyter-widgets/base",
          "model_name": "LayoutModel",
          "state": {
            "_view_name": "LayoutView",
            "grid_template_rows": null,
            "right": null,
            "justify_content": null,
            "_view_module": "@jupyter-widgets/base",
            "overflow": null,
            "_model_module_version": "1.2.0",
            "_view_count": null,
            "flex_flow": null,
            "width": null,
            "min_width": null,
            "border": null,
            "align_items": null,
            "bottom": null,
            "_model_module": "@jupyter-widgets/base",
            "top": null,
            "grid_column": null,
            "overflow_y": null,
            "overflow_x": null,
            "grid_auto_flow": null,
            "grid_area": null,
            "grid_template_columns": null,
            "flex": null,
            "_model_name": "LayoutModel",
            "justify_items": null,
            "grid_row": null,
            "max_height": null,
            "align_content": null,
            "visibility": null,
            "align_self": null,
            "height": null,
            "min_height": null,
            "padding": null,
            "grid_auto_rows": null,
            "grid_gap": null,
            "max_width": null,
            "order": null,
            "_view_module_version": "1.2.0",
            "grid_template_areas": null,
            "object_position": null,
            "object_fit": null,
            "grid_auto_columns": null,
            "margin": null,
            "display": null,
            "left": null
          }
        },
        "68c7d5457122434fa21d84f9b5a8b99d": {
          "model_module": "@jupyter-widgets/controls",
          "model_name": "FloatProgressModel",
          "state": {
            "_view_name": "ProgressView",
            "style": "IPY_MODEL_846dbe30fee741348d252f9c9eaa06d9",
            "_dom_classes": [],
            "description": "100%",
            "_model_name": "FloatProgressModel",
            "bar_style": "success",
            "max": 5000,
            "_view_module": "@jupyter-widgets/controls",
            "_model_module_version": "1.5.0",
            "value": 5000,
            "_view_count": null,
            "_view_module_version": "1.5.0",
            "orientation": "horizontal",
            "min": 0,
            "description_tooltip": null,
            "_model_module": "@jupyter-widgets/controls",
            "layout": "IPY_MODEL_1ff8bfce2e2447fb907495cc09a85afe"
          }
        },
        "bdc8aa34b254487b91722202c29a9ea9": {
          "model_module": "@jupyter-widgets/controls",
          "model_name": "HTMLModel",
          "state": {
            "_view_name": "HTMLView",
            "style": "IPY_MODEL_167cc8b7793b4a1f8201067cbfce39f5",
            "_dom_classes": [],
            "description": "",
            "_model_name": "HTMLModel",
            "placeholder": "​",
            "_view_module": "@jupyter-widgets/controls",
            "_model_module_version": "1.5.0",
            "value": " 5000/5000 [56:06&lt;00:00,  1.49it/s]",
            "_view_count": null,
            "_view_module_version": "1.5.0",
            "description_tooltip": null,
            "_model_module": "@jupyter-widgets/controls",
            "layout": "IPY_MODEL_65873a6efa7e4a3782d57b9850c5391b"
          }
        },
        "846dbe30fee741348d252f9c9eaa06d9": {
          "model_module": "@jupyter-widgets/controls",
          "model_name": "ProgressStyleModel",
          "state": {
            "_view_name": "StyleView",
            "_model_name": "ProgressStyleModel",
            "description_width": "initial",
            "_view_module": "@jupyter-widgets/base",
            "_model_module_version": "1.5.0",
            "_view_count": null,
            "_view_module_version": "1.2.0",
            "bar_color": null,
            "_model_module": "@jupyter-widgets/controls"
          }
        },
        "1ff8bfce2e2447fb907495cc09a85afe": {
          "model_module": "@jupyter-widgets/base",
          "model_name": "LayoutModel",
          "state": {
            "_view_name": "LayoutView",
            "grid_template_rows": null,
            "right": null,
            "justify_content": null,
            "_view_module": "@jupyter-widgets/base",
            "overflow": null,
            "_model_module_version": "1.2.0",
            "_view_count": null,
            "flex_flow": null,
            "width": null,
            "min_width": null,
            "border": null,
            "align_items": null,
            "bottom": null,
            "_model_module": "@jupyter-widgets/base",
            "top": null,
            "grid_column": null,
            "overflow_y": null,
            "overflow_x": null,
            "grid_auto_flow": null,
            "grid_area": null,
            "grid_template_columns": null,
            "flex": null,
            "_model_name": "LayoutModel",
            "justify_items": null,
            "grid_row": null,
            "max_height": null,
            "align_content": null,
            "visibility": null,
            "align_self": null,
            "height": null,
            "min_height": null,
            "padding": null,
            "grid_auto_rows": null,
            "grid_gap": null,
            "max_width": null,
            "order": null,
            "_view_module_version": "1.2.0",
            "grid_template_areas": null,
            "object_position": null,
            "object_fit": null,
            "grid_auto_columns": null,
            "margin": null,
            "display": null,
            "left": null
          }
        },
        "167cc8b7793b4a1f8201067cbfce39f5": {
          "model_module": "@jupyter-widgets/controls",
          "model_name": "DescriptionStyleModel",
          "state": {
            "_view_name": "StyleView",
            "_model_name": "DescriptionStyleModel",
            "description_width": "",
            "_view_module": "@jupyter-widgets/base",
            "_model_module_version": "1.5.0",
            "_view_count": null,
            "_view_module_version": "1.2.0",
            "_model_module": "@jupyter-widgets/controls"
          }
        },
        "65873a6efa7e4a3782d57b9850c5391b": {
          "model_module": "@jupyter-widgets/base",
          "model_name": "LayoutModel",
          "state": {
            "_view_name": "LayoutView",
            "grid_template_rows": null,
            "right": null,
            "justify_content": null,
            "_view_module": "@jupyter-widgets/base",
            "overflow": null,
            "_model_module_version": "1.2.0",
            "_view_count": null,
            "flex_flow": null,
            "width": null,
            "min_width": null,
            "border": null,
            "align_items": null,
            "bottom": null,
            "_model_module": "@jupyter-widgets/base",
            "top": null,
            "grid_column": null,
            "overflow_y": null,
            "overflow_x": null,
            "grid_auto_flow": null,
            "grid_area": null,
            "grid_template_columns": null,
            "flex": null,
            "_model_name": "LayoutModel",
            "justify_items": null,
            "grid_row": null,
            "max_height": null,
            "align_content": null,
            "visibility": null,
            "align_self": null,
            "height": null,
            "min_height": null,
            "padding": null,
            "grid_auto_rows": null,
            "grid_gap": null,
            "max_width": null,
            "order": null,
            "_view_module_version": "1.2.0",
            "grid_template_areas": null,
            "object_position": null,
            "object_fit": null,
            "grid_auto_columns": null,
            "margin": null,
            "display": null,
            "left": null
          }
        },
        "6c55149f78ae455bb1058c69fae5acf4": {
          "model_module": "@jupyter-widgets/controls",
          "model_name": "HBoxModel",
          "state": {
            "_view_name": "HBoxView",
            "_dom_classes": [],
            "_model_name": "HBoxModel",
            "_view_module": "@jupyter-widgets/controls",
            "_model_module_version": "1.5.0",
            "_view_count": null,
            "_view_module_version": "1.5.0",
            "box_style": "",
            "layout": "IPY_MODEL_2be77173b1bf4ea78e9536850f1ead92",
            "_model_module": "@jupyter-widgets/controls",
            "children": [
              "IPY_MODEL_8496c01c369345e0a8ce3b083b7f345e",
              "IPY_MODEL_e64e64be865140b3b983a852e576a619"
            ]
          }
        },
        "2be77173b1bf4ea78e9536850f1ead92": {
          "model_module": "@jupyter-widgets/base",
          "model_name": "LayoutModel",
          "state": {
            "_view_name": "LayoutView",
            "grid_template_rows": null,
            "right": null,
            "justify_content": null,
            "_view_module": "@jupyter-widgets/base",
            "overflow": null,
            "_model_module_version": "1.2.0",
            "_view_count": null,
            "flex_flow": null,
            "width": null,
            "min_width": null,
            "border": null,
            "align_items": null,
            "bottom": null,
            "_model_module": "@jupyter-widgets/base",
            "top": null,
            "grid_column": null,
            "overflow_y": null,
            "overflow_x": null,
            "grid_auto_flow": null,
            "grid_area": null,
            "grid_template_columns": null,
            "flex": null,
            "_model_name": "LayoutModel",
            "justify_items": null,
            "grid_row": null,
            "max_height": null,
            "align_content": null,
            "visibility": null,
            "align_self": null,
            "height": null,
            "min_height": null,
            "padding": null,
            "grid_auto_rows": null,
            "grid_gap": null,
            "max_width": null,
            "order": null,
            "_view_module_version": "1.2.0",
            "grid_template_areas": null,
            "object_position": null,
            "object_fit": null,
            "grid_auto_columns": null,
            "margin": null,
            "display": null,
            "left": null
          }
        },
        "8496c01c369345e0a8ce3b083b7f345e": {
          "model_module": "@jupyter-widgets/controls",
          "model_name": "FloatProgressModel",
          "state": {
            "_view_name": "ProgressView",
            "style": "IPY_MODEL_6ddd0b9a5e704b87aed60d6a92c71a31",
            "_dom_classes": [],
            "description": "100%",
            "_model_name": "FloatProgressModel",
            "bar_style": "success",
            "max": 5000,
            "_view_module": "@jupyter-widgets/controls",
            "_model_module_version": "1.5.0",
            "value": 5000,
            "_view_count": null,
            "_view_module_version": "1.5.0",
            "orientation": "horizontal",
            "min": 0,
            "description_tooltip": null,
            "_model_module": "@jupyter-widgets/controls",
            "layout": "IPY_MODEL_8ccbb17b256647f3be5d098bb5073c74"
          }
        },
        "e64e64be865140b3b983a852e576a619": {
          "model_module": "@jupyter-widgets/controls",
          "model_name": "HTMLModel",
          "state": {
            "_view_name": "HTMLView",
            "style": "IPY_MODEL_9e2c65482b1e4ec8947408ba65fb8578",
            "_dom_classes": [],
            "description": "",
            "_model_name": "HTMLModel",
            "placeholder": "​",
            "_view_module": "@jupyter-widgets/controls",
            "_model_module_version": "1.5.0",
            "value": " 5000/5000 [46:19&lt;00:00,  1.80it/s]",
            "_view_count": null,
            "_view_module_version": "1.5.0",
            "description_tooltip": null,
            "_model_module": "@jupyter-widgets/controls",
            "layout": "IPY_MODEL_e2f5ad61ad914584b4255a46e2a2f87e"
          }
        },
        "6ddd0b9a5e704b87aed60d6a92c71a31": {
          "model_module": "@jupyter-widgets/controls",
          "model_name": "ProgressStyleModel",
          "state": {
            "_view_name": "StyleView",
            "_model_name": "ProgressStyleModel",
            "description_width": "initial",
            "_view_module": "@jupyter-widgets/base",
            "_model_module_version": "1.5.0",
            "_view_count": null,
            "_view_module_version": "1.2.0",
            "bar_color": null,
            "_model_module": "@jupyter-widgets/controls"
          }
        },
        "8ccbb17b256647f3be5d098bb5073c74": {
          "model_module": "@jupyter-widgets/base",
          "model_name": "LayoutModel",
          "state": {
            "_view_name": "LayoutView",
            "grid_template_rows": null,
            "right": null,
            "justify_content": null,
            "_view_module": "@jupyter-widgets/base",
            "overflow": null,
            "_model_module_version": "1.2.0",
            "_view_count": null,
            "flex_flow": null,
            "width": null,
            "min_width": null,
            "border": null,
            "align_items": null,
            "bottom": null,
            "_model_module": "@jupyter-widgets/base",
            "top": null,
            "grid_column": null,
            "overflow_y": null,
            "overflow_x": null,
            "grid_auto_flow": null,
            "grid_area": null,
            "grid_template_columns": null,
            "flex": null,
            "_model_name": "LayoutModel",
            "justify_items": null,
            "grid_row": null,
            "max_height": null,
            "align_content": null,
            "visibility": null,
            "align_self": null,
            "height": null,
            "min_height": null,
            "padding": null,
            "grid_auto_rows": null,
            "grid_gap": null,
            "max_width": null,
            "order": null,
            "_view_module_version": "1.2.0",
            "grid_template_areas": null,
            "object_position": null,
            "object_fit": null,
            "grid_auto_columns": null,
            "margin": null,
            "display": null,
            "left": null
          }
        },
        "9e2c65482b1e4ec8947408ba65fb8578": {
          "model_module": "@jupyter-widgets/controls",
          "model_name": "DescriptionStyleModel",
          "state": {
            "_view_name": "StyleView",
            "_model_name": "DescriptionStyleModel",
            "description_width": "",
            "_view_module": "@jupyter-widgets/base",
            "_model_module_version": "1.5.0",
            "_view_count": null,
            "_view_module_version": "1.2.0",
            "_model_module": "@jupyter-widgets/controls"
          }
        },
        "e2f5ad61ad914584b4255a46e2a2f87e": {
          "model_module": "@jupyter-widgets/base",
          "model_name": "LayoutModel",
          "state": {
            "_view_name": "LayoutView",
            "grid_template_rows": null,
            "right": null,
            "justify_content": null,
            "_view_module": "@jupyter-widgets/base",
            "overflow": null,
            "_model_module_version": "1.2.0",
            "_view_count": null,
            "flex_flow": null,
            "width": null,
            "min_width": null,
            "border": null,
            "align_items": null,
            "bottom": null,
            "_model_module": "@jupyter-widgets/base",
            "top": null,
            "grid_column": null,
            "overflow_y": null,
            "overflow_x": null,
            "grid_auto_flow": null,
            "grid_area": null,
            "grid_template_columns": null,
            "flex": null,
            "_model_name": "LayoutModel",
            "justify_items": null,
            "grid_row": null,
            "max_height": null,
            "align_content": null,
            "visibility": null,
            "align_self": null,
            "height": null,
            "min_height": null,
            "padding": null,
            "grid_auto_rows": null,
            "grid_gap": null,
            "max_width": null,
            "order": null,
            "_view_module_version": "1.2.0",
            "grid_template_areas": null,
            "object_position": null,
            "object_fit": null,
            "grid_auto_columns": null,
            "margin": null,
            "display": null,
            "left": null
          }
        },
        "c21637b411a54f808fbe5aa1be1dd23c": {
          "model_module": "@jupyter-widgets/controls",
          "model_name": "HBoxModel",
          "state": {
            "_view_name": "HBoxView",
            "_dom_classes": [],
            "_model_name": "HBoxModel",
            "_view_module": "@jupyter-widgets/controls",
            "_model_module_version": "1.5.0",
            "_view_count": null,
            "_view_module_version": "1.5.0",
            "box_style": "",
            "layout": "IPY_MODEL_662386ade9ec42b39dc399d36c24a770",
            "_model_module": "@jupyter-widgets/controls",
            "children": [
              "IPY_MODEL_a0d04494231c445d83c2943beb2c9374",
              "IPY_MODEL_d57cd0635a644bc88ee3826056091a65"
            ]
          }
        },
        "662386ade9ec42b39dc399d36c24a770": {
          "model_module": "@jupyter-widgets/base",
          "model_name": "LayoutModel",
          "state": {
            "_view_name": "LayoutView",
            "grid_template_rows": null,
            "right": null,
            "justify_content": null,
            "_view_module": "@jupyter-widgets/base",
            "overflow": null,
            "_model_module_version": "1.2.0",
            "_view_count": null,
            "flex_flow": null,
            "width": null,
            "min_width": null,
            "border": null,
            "align_items": null,
            "bottom": null,
            "_model_module": "@jupyter-widgets/base",
            "top": null,
            "grid_column": null,
            "overflow_y": null,
            "overflow_x": null,
            "grid_auto_flow": null,
            "grid_area": null,
            "grid_template_columns": null,
            "flex": null,
            "_model_name": "LayoutModel",
            "justify_items": null,
            "grid_row": null,
            "max_height": null,
            "align_content": null,
            "visibility": null,
            "align_self": null,
            "height": null,
            "min_height": null,
            "padding": null,
            "grid_auto_rows": null,
            "grid_gap": null,
            "max_width": null,
            "order": null,
            "_view_module_version": "1.2.0",
            "grid_template_areas": null,
            "object_position": null,
            "object_fit": null,
            "grid_auto_columns": null,
            "margin": null,
            "display": null,
            "left": null
          }
        },
        "a0d04494231c445d83c2943beb2c9374": {
          "model_module": "@jupyter-widgets/controls",
          "model_name": "FloatProgressModel",
          "state": {
            "_view_name": "ProgressView",
            "style": "IPY_MODEL_9ff719a823e14aab9f35279a01596a9b",
            "_dom_classes": [],
            "description": "100%",
            "_model_name": "FloatProgressModel",
            "bar_style": "success",
            "max": 5000,
            "_view_module": "@jupyter-widgets/controls",
            "_model_module_version": "1.5.0",
            "value": 5000,
            "_view_count": null,
            "_view_module_version": "1.5.0",
            "orientation": "horizontal",
            "min": 0,
            "description_tooltip": null,
            "_model_module": "@jupyter-widgets/controls",
            "layout": "IPY_MODEL_ef3cc5a0aa6a4efbb9c7bf4d6d99de87"
          }
        },
        "d57cd0635a644bc88ee3826056091a65": {
          "model_module": "@jupyter-widgets/controls",
          "model_name": "HTMLModel",
          "state": {
            "_view_name": "HTMLView",
            "style": "IPY_MODEL_c8dc28b21d894ebc8204179a9a6f2dcb",
            "_dom_classes": [],
            "description": "",
            "_model_name": "HTMLModel",
            "placeholder": "​",
            "_view_module": "@jupyter-widgets/controls",
            "_model_module_version": "1.5.0",
            "value": " 5000/5000 [48:02&lt;00:00,  1.73it/s]",
            "_view_count": null,
            "_view_module_version": "1.5.0",
            "description_tooltip": null,
            "_model_module": "@jupyter-widgets/controls",
            "layout": "IPY_MODEL_4cb85fbf01ed4e49a09bbe02783efc3c"
          }
        },
        "9ff719a823e14aab9f35279a01596a9b": {
          "model_module": "@jupyter-widgets/controls",
          "model_name": "ProgressStyleModel",
          "state": {
            "_view_name": "StyleView",
            "_model_name": "ProgressStyleModel",
            "description_width": "initial",
            "_view_module": "@jupyter-widgets/base",
            "_model_module_version": "1.5.0",
            "_view_count": null,
            "_view_module_version": "1.2.0",
            "bar_color": null,
            "_model_module": "@jupyter-widgets/controls"
          }
        },
        "ef3cc5a0aa6a4efbb9c7bf4d6d99de87": {
          "model_module": "@jupyter-widgets/base",
          "model_name": "LayoutModel",
          "state": {
            "_view_name": "LayoutView",
            "grid_template_rows": null,
            "right": null,
            "justify_content": null,
            "_view_module": "@jupyter-widgets/base",
            "overflow": null,
            "_model_module_version": "1.2.0",
            "_view_count": null,
            "flex_flow": null,
            "width": null,
            "min_width": null,
            "border": null,
            "align_items": null,
            "bottom": null,
            "_model_module": "@jupyter-widgets/base",
            "top": null,
            "grid_column": null,
            "overflow_y": null,
            "overflow_x": null,
            "grid_auto_flow": null,
            "grid_area": null,
            "grid_template_columns": null,
            "flex": null,
            "_model_name": "LayoutModel",
            "justify_items": null,
            "grid_row": null,
            "max_height": null,
            "align_content": null,
            "visibility": null,
            "align_self": null,
            "height": null,
            "min_height": null,
            "padding": null,
            "grid_auto_rows": null,
            "grid_gap": null,
            "max_width": null,
            "order": null,
            "_view_module_version": "1.2.0",
            "grid_template_areas": null,
            "object_position": null,
            "object_fit": null,
            "grid_auto_columns": null,
            "margin": null,
            "display": null,
            "left": null
          }
        },
        "c8dc28b21d894ebc8204179a9a6f2dcb": {
          "model_module": "@jupyter-widgets/controls",
          "model_name": "DescriptionStyleModel",
          "state": {
            "_view_name": "StyleView",
            "_model_name": "DescriptionStyleModel",
            "description_width": "",
            "_view_module": "@jupyter-widgets/base",
            "_model_module_version": "1.5.0",
            "_view_count": null,
            "_view_module_version": "1.2.0",
            "_model_module": "@jupyter-widgets/controls"
          }
        },
        "4cb85fbf01ed4e49a09bbe02783efc3c": {
          "model_module": "@jupyter-widgets/base",
          "model_name": "LayoutModel",
          "state": {
            "_view_name": "LayoutView",
            "grid_template_rows": null,
            "right": null,
            "justify_content": null,
            "_view_module": "@jupyter-widgets/base",
            "overflow": null,
            "_model_module_version": "1.2.0",
            "_view_count": null,
            "flex_flow": null,
            "width": null,
            "min_width": null,
            "border": null,
            "align_items": null,
            "bottom": null,
            "_model_module": "@jupyter-widgets/base",
            "top": null,
            "grid_column": null,
            "overflow_y": null,
            "overflow_x": null,
            "grid_auto_flow": null,
            "grid_area": null,
            "grid_template_columns": null,
            "flex": null,
            "_model_name": "LayoutModel",
            "justify_items": null,
            "grid_row": null,
            "max_height": null,
            "align_content": null,
            "visibility": null,
            "align_self": null,
            "height": null,
            "min_height": null,
            "padding": null,
            "grid_auto_rows": null,
            "grid_gap": null,
            "max_width": null,
            "order": null,
            "_view_module_version": "1.2.0",
            "grid_template_areas": null,
            "object_position": null,
            "object_fit": null,
            "grid_auto_columns": null,
            "margin": null,
            "display": null,
            "left": null
          }
        },
        "4371a1ada95d4525a56cdd27145a5622": {
          "model_module": "@jupyter-widgets/controls",
          "model_name": "HBoxModel",
          "state": {
            "_view_name": "HBoxView",
            "_dom_classes": [],
            "_model_name": "HBoxModel",
            "_view_module": "@jupyter-widgets/controls",
            "_model_module_version": "1.5.0",
            "_view_count": null,
            "_view_module_version": "1.5.0",
            "box_style": "",
            "layout": "IPY_MODEL_bec9b04ee48f4a11aca79e5fe25500c6",
            "_model_module": "@jupyter-widgets/controls",
            "children": [
              "IPY_MODEL_d55a042626f3445eba15ce59ccd4e762",
              "IPY_MODEL_72707700fdc148cb88d3b263218ba186"
            ]
          }
        },
        "bec9b04ee48f4a11aca79e5fe25500c6": {
          "model_module": "@jupyter-widgets/base",
          "model_name": "LayoutModel",
          "state": {
            "_view_name": "LayoutView",
            "grid_template_rows": null,
            "right": null,
            "justify_content": null,
            "_view_module": "@jupyter-widgets/base",
            "overflow": null,
            "_model_module_version": "1.2.0",
            "_view_count": null,
            "flex_flow": null,
            "width": null,
            "min_width": null,
            "border": null,
            "align_items": null,
            "bottom": null,
            "_model_module": "@jupyter-widgets/base",
            "top": null,
            "grid_column": null,
            "overflow_y": null,
            "overflow_x": null,
            "grid_auto_flow": null,
            "grid_area": null,
            "grid_template_columns": null,
            "flex": null,
            "_model_name": "LayoutModel",
            "justify_items": null,
            "grid_row": null,
            "max_height": null,
            "align_content": null,
            "visibility": null,
            "align_self": null,
            "height": null,
            "min_height": null,
            "padding": null,
            "grid_auto_rows": null,
            "grid_gap": null,
            "max_width": null,
            "order": null,
            "_view_module_version": "1.2.0",
            "grid_template_areas": null,
            "object_position": null,
            "object_fit": null,
            "grid_auto_columns": null,
            "margin": null,
            "display": null,
            "left": null
          }
        },
        "d55a042626f3445eba15ce59ccd4e762": {
          "model_module": "@jupyter-widgets/controls",
          "model_name": "FloatProgressModel",
          "state": {
            "_view_name": "ProgressView",
            "style": "IPY_MODEL_afb7cbc6b4a1444092d19b132250a63d",
            "_dom_classes": [],
            "description": "  2%",
            "_model_name": "FloatProgressModel",
            "bar_style": "",
            "max": 5000,
            "_view_module": "@jupyter-widgets/controls",
            "_model_module_version": "1.5.0",
            "value": 92,
            "_view_count": null,
            "_view_module_version": "1.5.0",
            "orientation": "horizontal",
            "min": 0,
            "description_tooltip": null,
            "_model_module": "@jupyter-widgets/controls",
            "layout": "IPY_MODEL_29f207888f7a4acfb3a3a77a1ced6f69"
          }
        },
        "72707700fdc148cb88d3b263218ba186": {
          "model_module": "@jupyter-widgets/controls",
          "model_name": "HTMLModel",
          "state": {
            "_view_name": "HTMLView",
            "style": "IPY_MODEL_391c98fd9f6c49209975e87fd6606061",
            "_dom_classes": [],
            "description": "",
            "_model_name": "HTMLModel",
            "placeholder": "​",
            "_view_module": "@jupyter-widgets/controls",
            "_model_module_version": "1.5.0",
            "value": " 92/5000 [00:53&lt;47:15,  1.73it/s]",
            "_view_count": null,
            "_view_module_version": "1.5.0",
            "description_tooltip": null,
            "_model_module": "@jupyter-widgets/controls",
            "layout": "IPY_MODEL_e93cde5be9b4447baf09dd81108422a3"
          }
        },
        "afb7cbc6b4a1444092d19b132250a63d": {
          "model_module": "@jupyter-widgets/controls",
          "model_name": "ProgressStyleModel",
          "state": {
            "_view_name": "StyleView",
            "_model_name": "ProgressStyleModel",
            "description_width": "initial",
            "_view_module": "@jupyter-widgets/base",
            "_model_module_version": "1.5.0",
            "_view_count": null,
            "_view_module_version": "1.2.0",
            "bar_color": null,
            "_model_module": "@jupyter-widgets/controls"
          }
        },
        "29f207888f7a4acfb3a3a77a1ced6f69": {
          "model_module": "@jupyter-widgets/base",
          "model_name": "LayoutModel",
          "state": {
            "_view_name": "LayoutView",
            "grid_template_rows": null,
            "right": null,
            "justify_content": null,
            "_view_module": "@jupyter-widgets/base",
            "overflow": null,
            "_model_module_version": "1.2.0",
            "_view_count": null,
            "flex_flow": null,
            "width": null,
            "min_width": null,
            "border": null,
            "align_items": null,
            "bottom": null,
            "_model_module": "@jupyter-widgets/base",
            "top": null,
            "grid_column": null,
            "overflow_y": null,
            "overflow_x": null,
            "grid_auto_flow": null,
            "grid_area": null,
            "grid_template_columns": null,
            "flex": null,
            "_model_name": "LayoutModel",
            "justify_items": null,
            "grid_row": null,
            "max_height": null,
            "align_content": null,
            "visibility": null,
            "align_self": null,
            "height": null,
            "min_height": null,
            "padding": null,
            "grid_auto_rows": null,
            "grid_gap": null,
            "max_width": null,
            "order": null,
            "_view_module_version": "1.2.0",
            "grid_template_areas": null,
            "object_position": null,
            "object_fit": null,
            "grid_auto_columns": null,
            "margin": null,
            "display": null,
            "left": null
          }
        },
        "391c98fd9f6c49209975e87fd6606061": {
          "model_module": "@jupyter-widgets/controls",
          "model_name": "DescriptionStyleModel",
          "state": {
            "_view_name": "StyleView",
            "_model_name": "DescriptionStyleModel",
            "description_width": "",
            "_view_module": "@jupyter-widgets/base",
            "_model_module_version": "1.5.0",
            "_view_count": null,
            "_view_module_version": "1.2.0",
            "_model_module": "@jupyter-widgets/controls"
          }
        },
        "e93cde5be9b4447baf09dd81108422a3": {
          "model_module": "@jupyter-widgets/base",
          "model_name": "LayoutModel",
          "state": {
            "_view_name": "LayoutView",
            "grid_template_rows": null,
            "right": null,
            "justify_content": null,
            "_view_module": "@jupyter-widgets/base",
            "overflow": null,
            "_model_module_version": "1.2.0",
            "_view_count": null,
            "flex_flow": null,
            "width": null,
            "min_width": null,
            "border": null,
            "align_items": null,
            "bottom": null,
            "_model_module": "@jupyter-widgets/base",
            "top": null,
            "grid_column": null,
            "overflow_y": null,
            "overflow_x": null,
            "grid_auto_flow": null,
            "grid_area": null,
            "grid_template_columns": null,
            "flex": null,
            "_model_name": "LayoutModel",
            "justify_items": null,
            "grid_row": null,
            "max_height": null,
            "align_content": null,
            "visibility": null,
            "align_self": null,
            "height": null,
            "min_height": null,
            "padding": null,
            "grid_auto_rows": null,
            "grid_gap": null,
            "max_width": null,
            "order": null,
            "_view_module_version": "1.2.0",
            "grid_template_areas": null,
            "object_position": null,
            "object_fit": null,
            "grid_auto_columns": null,
            "margin": null,
            "display": null,
            "left": null
          }
        }
      }
    }
  },
  "cells": [
    {
      "cell_type": "code",
      "metadata": {
        "id": "C6VVp_4ms_MR"
      },
      "source": [
        "!unzip /content/drive/MyDrive/shapenet-chairs-pcd.zip\n",
        "!pip3 install open3d\n",
        "data_folder = \"/content/shapenet-chairs-pcd\""
      ],
      "execution_count": null,
      "outputs": []
    },
    {
      "cell_type": "markdown",
      "metadata": {
        "id": "OGRt6iga8Ybm"
      },
      "source": [
        "# Preprocessing\n"
      ]
    },
    {
      "cell_type": "markdown",
      "metadata": {
        "id": "iqkJyHhExc7w"
      },
      "source": [
        "**Kdtree helper function to reorder the pointcloud**"
      ]
    },
    {
      "cell_type": "code",
      "metadata": {
        "id": "ucZUdX0elo4P",
        "colab": {
          "base_uri": "https://localhost:8080/"
        },
        "outputId": "76b54c17-50ca-4918-d800-ae1b579b4bbc"
      },
      "source": [
        "import numpy as np\n",
        "import open3d as o3d\n",
        "import os\n",
        "import numpy as np\n",
        "\n",
        "def kdtree(point_list,l,r, depth: int = 0):\n",
        "    if  l>=r:\n",
        "        return None\n",
        "\n",
        "    k = len(point_list[0])  # assumes all points have the same dimension\n",
        "    \n",
        "    axis = depth % k\n",
        "    \n",
        "    temp = point_list[l:r].copy()\n",
        "    point_list[l:r] = temp[np.argsort(temp[:, axis])] #sorting the array along axis\n",
        "    median = l+(r-l) // 2\n",
        "    \n",
        "    \n",
        "    kdtree(point_list,l,median, depth + 1),  #build the left tree\n",
        "    kdtree(point_list,median + 1,r, depth + 1) #build the right tree\n",
        "\n",
        "def main():\n",
        "    \"\"\"Example usage\"\"\"\n",
        "    array = np.array([(7, 2), (5, 4), (9, 6), (4, 7), (8, 1), (2, 3),(2,7),(6,4),(3,9),(9,8),(12,3)])\n",
        "    kdtree(array, 0,len(array))\n",
        "    print(array)\n",
        "if __name__ == \"__main__\":\n",
        "    main()"
      ],
      "execution_count": 2,
      "outputs": [
        {
          "output_type": "stream",
          "text": [
            "[[ 2  3]\n",
            " [ 5  4]\n",
            " [ 2  7]\n",
            " [ 3  9]\n",
            " [ 4  7]\n",
            " [ 6  4]\n",
            " [ 7  2]\n",
            " [ 8  1]\n",
            " [12  3]\n",
            " [ 9  6]\n",
            " [ 9  8]]\n"
          ],
          "name": "stdout"
        }
      ]
    },
    {
      "cell_type": "markdown",
      "metadata": {
        "id": "hn1U6bPrxz1T"
      },
      "source": [
        "**Reordering Function**"
      ]
    },
    {
      "cell_type": "code",
      "metadata": {
        "id": "56ibTNE5u9zo"
      },
      "source": [
        "def reordering_pcd(pcd):\n",
        "  array = np.array(pcd.points)\n",
        "  kdtree(array,0,len(array)) \n",
        "  pcd.points = o3d.utility.Vector3dVector(array)\n",
        "  return pcd\n",
        "\n",
        "# new_pcd = reordering_pcd(pcd)\n",
        "# print(np.asarray(new_pcd.points))\n",
        "\n",
        "\n"
      ],
      "execution_count": 3,
      "outputs": []
    },
    {
      "cell_type": "code",
      "metadata": {
        "colab": {
          "base_uri": "https://localhost:8080/"
        },
        "id": "6UmGlxup9bcJ",
        "outputId": "cf39c951-a48f-4b1d-d2d4-4be5c15baa6d"
      },
      "source": [
        "import glob\n",
        "pcd_files = glob.glob(os.path.join(data_folder,\"*.pcd\"))\n",
        "print(len(pcd_files))"
      ],
      "execution_count": 4,
      "outputs": [
        {
          "output_type": "stream",
          "text": [
            "5000\n"
          ],
          "name": "stdout"
        }
      ]
    },
    {
      "cell_type": "markdown",
      "metadata": {
        "id": "KPdSovMyU4rB"
      },
      "source": [
        "**Creating P matrix with 3NxS dimensions**"
      ]
    },
    {
      "cell_type": "code",
      "metadata": {
        "id": "X386bY4V7dYL",
        "colab": {
          "base_uri": "https://localhost:8080/"
        },
        "outputId": "bc193abe-3d4d-4cf6-8c3b-659c04790c44"
      },
      "source": [
        "P = []\n",
        "N = 1000\n",
        "for file in pcd_files:\n",
        "  pcd = reordering_pcd(o3d.io.read_point_cloud(file)) #reordering using kdtree\n",
        "  pcd_array = np.asarray(pcd.points).reshape(3*N,1) #converting to (3N,1)\n",
        "  P.append(pcd_array)\n",
        "\n",
        "P = np.concatenate(P,axis=1) #converting to (3N,S)\n",
        "print(P.shape)"
      ],
      "execution_count": 5,
      "outputs": [
        {
          "output_type": "stream",
          "text": [
            "(3000, 5000)\n"
          ],
          "name": "stdout"
        }
      ]
    },
    {
      "cell_type": "markdown",
      "metadata": {
        "id": "hj0YpnrxVFaR"
      },
      "source": [
        "**PCA**"
      ]
    },
    {
      "cell_type": "code",
      "metadata": {
        "colab": {
          "base_uri": "https://localhost:8080/"
        },
        "id": "Pm_J09R5Sqa-",
        "outputId": "37b15926-d1f0-4b88-9403-4b75d051a1f9"
      },
      "source": [
        "from sklearn.decomposition import PCA\n",
        "basis = 100 #100 shape basis\n",
        "pca = PCA(basis) \n",
        "pca.fit(P)\n",
        "# print(pca.components_.shape) \n",
        "# print(pca.explained_variance_.shape)\n",
        "V = pca.transform(P) #Projections\n",
        "coeffs = pca.components_.T\n",
        "print(V.shape)\n",
        "print(coeffs.shape)"
      ],
      "execution_count": 6,
      "outputs": [
        {
          "output_type": "stream",
          "text": [
            "(3000, 100)\n",
            "(5000, 100)\n"
          ],
          "name": "stdout"
        }
      ]
    },
    {
      "cell_type": "markdown",
      "metadata": {
        "id": "AbXNfgDr8qT6"
      },
      "source": [
        "# Model and Dataloader"
      ]
    },
    {
      "cell_type": "markdown",
      "metadata": {
        "id": "bWfyn3MGhh6B"
      },
      "source": [
        "**Dataloader**"
      ]
    },
    {
      "cell_type": "code",
      "metadata": {
        "id": "j3TNcsedghIG",
        "colab": {
          "base_uri": "https://localhost:8080/"
        },
        "outputId": "dab2ce8c-1055-45f8-c40c-63b4d860e433"
      },
      "source": [
        "import torch\n",
        "from torch.utils.data import Dataset\n",
        "import torch.nn as nn\n",
        "import torch.optim as optim\n",
        "\n",
        "class RealCoeff(Dataset):\n",
        "  def __init__(self, coeffs):\n",
        "      self.coeffs = coeffs \n",
        "\n",
        "  def __len__(self):\n",
        "      return len(self.coeffs)\n",
        "\n",
        "  def __getitem__(self, idx):\n",
        "      return self.coeffs[idx]\n",
        "\n",
        "batch_size = 16\n",
        "RealData = RealCoeff(torch.from_numpy(coeffs))\n",
        "RealDataLoader = torch.utils.data.DataLoader(RealData, batch_size = batch_size,shuffle = True)\n",
        "\n",
        "device = torch.device(\"cuda:0\" if (torch.cuda.is_available()) else \"cpu\")\n",
        "print(\"Device: \", device)\n"
      ],
      "execution_count": 10,
      "outputs": [
        {
          "output_type": "stream",
          "text": [
            "Device:  cuda:0\n"
          ],
          "name": "stdout"
        }
      ]
    },
    {
      "cell_type": "markdown",
      "metadata": {
        "id": "tzl0cShuhl4B"
      },
      "source": [
        "**Generator and Discriminator models**"
      ]
    },
    {
      "cell_type": "code",
      "metadata": {
        "id": "smOqrSmC2BjN"
      },
      "source": [
        "class Generator(nn.Module):\n",
        "    def __init__(self,input_size = 100,output_size = 100):\n",
        "      super(Generator, self).__init__()\n",
        "      self.L1 = nn.Sequential(nn.Linear(input_size, 100),nn.BatchNorm1d(100),nn.ReLU())\n",
        "      self.L2 = nn.Sequential(nn.Linear(100, 100),nn.BatchNorm1d(100),nn.ReLU())\n",
        "      self.L3 = nn.Sequential(nn.Linear(100, 100),nn.BatchNorm1d(100),nn.ReLU())\n",
        "      self.L4 = nn.Sequential(nn.Linear(100, 100),nn.BatchNorm1d(100),nn.ReLU())\n",
        "      self.L5 = nn.Linear(100,output_size)\n",
        "    def forward(self, input):\n",
        "      l1 = self.L1(input)\n",
        "      l2 = self.L2(l1)\n",
        "      l3 = self.L3(l2)\n",
        "      #l4 = self.L4(l3)\n",
        "      output = self.L5(l3)\n",
        "      return output\n",
        "\n",
        "class Discriminator(nn.Module):\n",
        "    def __init__(self,input_size = 100,output_size = 1):\n",
        "      super(Discriminator, self).__init__()\n",
        "      self.L1 = nn.Sequential(nn.Linear(input_size, 100),nn.BatchNorm1d(100),nn.LeakyReLU())\n",
        "      self.L2 = nn.Sequential(nn.Linear(100, 100),nn.BatchNorm1d(100),nn.LeakyReLU())\n",
        "      self.L3 = nn.Sequential(nn.Linear(100, 100),nn.BatchNorm1d(100),nn.LeakyReLU())\n",
        "      self.L4 = nn.Sequential(nn.Linear(100, 100),nn.BatchNorm1d(100),nn.LeakyReLU())\n",
        "      self.output_layer = nn.Sequential(nn.Linear(100,output_size),nn.Sigmoid())\n",
        "    def forward(self, input):\n",
        "      l1 = self.L1(input)\n",
        "      l2 = self.L2(l1)\n",
        "      l3 = self.L3(l2)\n",
        "      l4 = self.L4(l3)\n",
        "      output = self.output_layer(l4)\n",
        "      return l1,l2,l3,l4,output\n",
        "\n"
      ],
      "execution_count": 11,
      "outputs": []
    },
    {
      "cell_type": "markdown",
      "metadata": {
        "id": "pu_3BYp78yBf"
      },
      "source": [
        "# Training"
      ]
    },
    {
      "cell_type": "code",
      "metadata": {
        "colab": {
          "base_uri": "https://localhost:8080/"
        },
        "id": "nvwtVqaK5-eA",
        "outputId": "d68189cf-ebf4-4f3a-9ae1-8f6fe9a95322"
      },
      "source": [
        "#Hyperparameters\n",
        "lr_d = 0.0001\n",
        "lr_g = 0.0025\n",
        "beta1 = 0.5\n",
        "num_epochs = 40\n",
        "\n",
        "# Initialize BCELoss function\n",
        "criterion1 = nn.BCELoss()\n",
        "criterion2 = nn.MSELoss()\n",
        "# Create batch of latent vectors that we will use to visualize\n",
        "#  the progression of the generator\n",
        "fixed_noise = torch.randn(batch_size,100, device=device)\n",
        "print(fixed_noise.shape)\n",
        "\n",
        "# Establish convention for real and fake labels during training\n",
        "real_label = 1.\n",
        "fake_label = 0.\n",
        "\n",
        "netD = Discriminator().to(device)\n",
        "netG = Generator().to(device)\n",
        "# Setup Adam optimizers for both G and D\n",
        "optimizerD = optim.Adam(netD.parameters(), lr=lr_d, betas=(beta1, 0.999))\n",
        "optimizerG = optim.Adam(netG.parameters(), lr=lr_g, betas=(beta1, 0.999))"
      ],
      "execution_count": 14,
      "outputs": [
        {
          "output_type": "stream",
          "text": [
            "torch.Size([16, 100])\n"
          ],
          "name": "stdout"
        }
      ]
    },
    {
      "cell_type": "markdown",
      "metadata": {
        "id": "jL2890m3SJSH"
      },
      "source": [
        "**Normal Training Loop, with conventional Loss function for Generator**"
      ]
    },
    {
      "cell_type": "code",
      "metadata": {
        "colab": {
          "base_uri": "https://localhost:8080/"
        },
        "id": "38z5iFYC7C8D",
        "outputId": "08d0ca68-5fad-4d1d-adea-5838dbacf4f1"
      },
      "source": [
        "# Training Loop\n",
        "\n",
        "# Lists to keep track of progress\n",
        "G_losses = []\n",
        "D_losses = []\n",
        "iters = 0\n",
        "\n",
        "print(\"Starting Training Loop...\")\n",
        "# For each epoch\n",
        "for epoch in range(num_epochs):\n",
        "    # For each batch in the dataloader\n",
        "    for i, data in enumerate(RealDataLoader, 0):\n",
        "\n",
        "        ############################\n",
        "        # (1) Update D network: maximize log(D(x)) + log(1 - D(G(z)))\n",
        "        ###########################\n",
        "        ## Train with all-real batch\n",
        "        netD.zero_grad()\n",
        "        # Format batch\n",
        "        real_cpu = data.float().to(device)\n",
        "        # print(real_cpu.shape)\n",
        "        b_size = real_cpu.size(0)\n",
        "        label = torch.full((b_size,), real_label, dtype=torch.float, device=device)\n",
        "        # Forward pass real batch through D\n",
        "        _,_,_,_,output = netD(real_cpu)\n",
        "        output = output.view(-1)\n",
        "        # Calculate loss on all-real batch\n",
        "        errD_real = criterion1(output, label)\n",
        "        # Calculate gradients for D in backward pass\n",
        "        errD_real.backward()\n",
        "        D_x = output.mean().item()\n",
        "\n",
        "        ## Train with all-fake batch\n",
        "        # Generate batch of latent vectors\n",
        "        noise = torch.randn(b_size, 100, device=device)\n",
        "        # Generate fake image batch with G\n",
        "        fake = netG(noise)\n",
        "        label.fill_(fake_label)\n",
        "        # Classify all fake batch with D\n",
        "        _,_,_,_,output = netD(fake.detach())\n",
        "        output = output.view(-1)\n",
        "        # Calculate D's loss on the all-fake batch\n",
        "        errD_fake = criterion1(output, label)\n",
        "        # Calculate the gradients for this batch\n",
        "        errD_fake.backward()\n",
        "        D_G_z1 = output.mean().item()\n",
        "        # Add the gradients from the all-real and all-fake batches\n",
        "        errD = errD_real + errD_fake\n",
        "        # Update D, check if the accuracy of the Discriminator is below 80%\n",
        "        DAcc = (D_x + 1-D_G_z1)/2\n",
        "        if DAcc<0.8:\n",
        "          optimizerD.step()\n",
        "\n",
        "        ############################\n",
        "        # (2) Update G network: maximize log(D(G(z)))\n",
        "        ###########################\n",
        "        netG.zero_grad()\n",
        "        label.fill_(real_label)  # fake labels are real for generator cost\n",
        "        # Since we just updated D, perform another forward pass of all-fake batch through D\n",
        "        _,_,_,_,output = netD(fake)\n",
        "        output = output.view(-1)\n",
        "        # Calculate G's loss based on this output\n",
        "        errG = criterion1(output, label)\n",
        "        # Calculate gradients for G\n",
        "        errG.backward()\n",
        "        D_G_z2 = output.mean().item()\n",
        "        # Update G\n",
        "        optimizerG.step()\n",
        "\n",
        "        # Output training stats\n",
        "        if i % 100 == 0:\n",
        "            print('[%d/%d][%d/%d]\\tLoss_D: %.4f\\tLoss_G: %.4f\\tD(x): %.4f\\tD(G(z)): %.4f / %.4f'\n",
        "                  % (epoch, num_epochs, i, len(RealDataLoader),\n",
        "                     errD.item(), errG.item(), D_x, D_G_z1, D_G_z2))\n",
        "\n",
        "        # Save Losses for plotting later\n",
        "        G_losses.append(errG.item())\n",
        "        D_losses.append(errD.item())\n",
        "\n",
        "        # Check how the generator is doing by saving G's output on fixed_noise\n",
        "        # if (iters % 500 == 0) or ((epoch == num_epochs-1) and (i == len(dataloader)-1)):\n",
        "        #     with torch.no_grad():\n",
        "        #         fake = netG(fixed_noise).detach().cpu()\n",
        "        #     img_list.append(vutils.make_grid(fake, padding=2, normalize=True))\n",
        "\n",
        "        iters += 1"
      ],
      "execution_count": 15,
      "outputs": [
        {
          "output_type": "stream",
          "text": [
            "Starting Training Loop...\n",
            "[0/40][0/313]\tLoss_D: 1.3931\tLoss_G: 0.6957\tD(x): 0.5146\tD(G(z)): 0.5094 / 0.5039\n",
            "[0/40][100/313]\tLoss_D: 1.4062\tLoss_G: 0.6909\tD(x): 0.4983\tD(G(z)): 0.5052 / 0.5027\n",
            "[0/40][200/313]\tLoss_D: 1.3772\tLoss_G: 0.7081\tD(x): 0.5054\tD(G(z)): 0.4968 / 0.4947\n",
            "[0/40][300/313]\tLoss_D: 1.4023\tLoss_G: 0.6892\tD(x): 0.5005\tD(G(z)): 0.5049 / 0.5024\n",
            "[1/40][0/313]\tLoss_D: 1.4037\tLoss_G: 0.6907\tD(x): 0.4979\tD(G(z)): 0.5040 / 0.5022\n",
            "[1/40][100/313]\tLoss_D: 1.3970\tLoss_G: 0.6978\tD(x): 0.5006\tD(G(z)): 0.5019 / 0.4994\n",
            "[1/40][200/313]\tLoss_D: 1.3826\tLoss_G: 0.7072\tD(x): 0.5016\tD(G(z)): 0.4964 / 0.4939\n",
            "[1/40][300/313]\tLoss_D: 1.4022\tLoss_G: 0.6964\tD(x): 0.4967\tD(G(z)): 0.5018 / 0.4998\n",
            "[2/40][0/313]\tLoss_D: 1.3963\tLoss_G: 0.6940\tD(x): 0.4981\tD(G(z)): 0.5021 / 0.5000\n",
            "[2/40][100/313]\tLoss_D: 1.3744\tLoss_G: 0.7048\tD(x): 0.5049\tD(G(z)): 0.4973 / 0.4951\n",
            "[2/40][200/313]\tLoss_D: 1.3810\tLoss_G: 0.6949\tD(x): 0.5061\tD(G(z)): 0.5015 / 0.4998\n",
            "[2/40][300/313]\tLoss_D: 1.3803\tLoss_G: 0.7029\tD(x): 0.5026\tD(G(z)): 0.4978 / 0.4960\n",
            "[3/40][0/313]\tLoss_D: 1.3926\tLoss_G: 0.6939\tD(x): 0.5005\tD(G(z)): 0.5023 / 0.5003\n",
            "[3/40][100/313]\tLoss_D: 1.3973\tLoss_G: 0.6984\tD(x): 0.4968\tD(G(z)): 0.5005 / 0.4984\n",
            "[3/40][200/313]\tLoss_D: 1.3842\tLoss_G: 0.7045\tD(x): 0.4990\tD(G(z)): 0.4967 / 0.4950\n",
            "[3/40][300/313]\tLoss_D: 1.3958\tLoss_G: 0.6889\tD(x): 0.5015\tD(G(z)): 0.5048 / 0.5028\n",
            "[4/40][0/313]\tLoss_D: 1.3877\tLoss_G: 0.7012\tD(x): 0.4996\tD(G(z)): 0.4987 / 0.4968\n",
            "[4/40][100/313]\tLoss_D: 1.3821\tLoss_G: 0.6982\tD(x): 0.5028\tD(G(z)): 0.4999 / 0.4980\n",
            "[4/40][200/313]\tLoss_D: 1.3750\tLoss_G: 0.7041\tD(x): 0.5041\tD(G(z)): 0.4969 / 0.4950\n",
            "[4/40][300/313]\tLoss_D: 1.3938\tLoss_G: 0.6908\tD(x): 0.5010\tD(G(z)): 0.5032 / 0.5018\n",
            "[5/40][0/313]\tLoss_D: 1.3836\tLoss_G: 0.6915\tD(x): 0.5062\tD(G(z)): 0.5034 / 0.5015\n",
            "[5/40][100/313]\tLoss_D: 1.3863\tLoss_G: 0.6880\tD(x): 0.5061\tD(G(z)): 0.5050 / 0.5032\n",
            "[5/40][200/313]\tLoss_D: 1.3857\tLoss_G: 0.6997\tD(x): 0.4998\tD(G(z)): 0.4985 / 0.4970\n",
            "[5/40][300/313]\tLoss_D: 1.3906\tLoss_G: 0.7049\tD(x): 0.4951\tD(G(z)): 0.4960 / 0.4944\n",
            "[6/40][0/313]\tLoss_D: 1.3831\tLoss_G: 0.7014\tD(x): 0.5013\tD(G(z)): 0.4982 / 0.4964\n",
            "[6/40][100/313]\tLoss_D: 1.3894\tLoss_G: 0.7002\tD(x): 0.4979\tD(G(z)): 0.4985 / 0.4968\n",
            "[6/40][200/313]\tLoss_D: 1.3989\tLoss_G: 0.6873\tD(x): 0.5002\tD(G(z)): 0.5053 / 0.5034\n",
            "[6/40][300/313]\tLoss_D: 1.3872\tLoss_G: 0.6950\tD(x): 0.5016\tD(G(z)): 0.5010 / 0.4994\n",
            "[7/40][0/313]\tLoss_D: 1.3907\tLoss_G: 0.6937\tD(x): 0.5009\tD(G(z)): 0.5023 / 0.5003\n",
            "[7/40][100/313]\tLoss_D: 1.3874\tLoss_G: 0.6953\tD(x): 0.5010\tD(G(z)): 0.5010 / 0.4991\n",
            "[7/40][200/313]\tLoss_D: 1.3799\tLoss_G: 0.6976\tD(x): 0.5032\tD(G(z)): 0.4995 / 0.4979\n",
            "[7/40][300/313]\tLoss_D: 1.3834\tLoss_G: 0.7020\tD(x): 0.4998\tD(G(z)): 0.4977 / 0.4959\n",
            "[8/40][0/313]\tLoss_D: 1.3876\tLoss_G: 0.7047\tD(x): 0.4972\tD(G(z)): 0.4964 / 0.4949\n",
            "[8/40][100/313]\tLoss_D: 1.3840\tLoss_G: 0.7004\tD(x): 0.5004\tD(G(z)): 0.4982 / 0.4967\n",
            "[8/40][200/313]\tLoss_D: 1.3799\tLoss_G: 0.6991\tD(x): 0.5026\tD(G(z)): 0.4988 / 0.4974\n",
            "[8/40][300/313]\tLoss_D: 1.3768\tLoss_G: 0.7006\tD(x): 0.5040\tD(G(z)): 0.4984 / 0.4968\n",
            "[9/40][0/313]\tLoss_D: 1.3767\tLoss_G: 0.7033\tD(x): 0.5027\tD(G(z)): 0.4972 / 0.4953\n",
            "[9/40][100/313]\tLoss_D: 1.3844\tLoss_G: 0.7009\tD(x): 0.5002\tD(G(z)): 0.4983 / 0.4964\n",
            "[9/40][200/313]\tLoss_D: 1.3930\tLoss_G: 0.6959\tD(x): 0.4975\tD(G(z)): 0.5002 / 0.4988\n",
            "[9/40][300/313]\tLoss_D: 1.3923\tLoss_G: 0.6926\tD(x): 0.4999\tD(G(z)): 0.5020 / 0.5006\n",
            "[10/40][0/313]\tLoss_D: 1.3781\tLoss_G: 0.7004\tD(x): 0.5035\tD(G(z)): 0.4985 / 0.4969\n",
            "[10/40][100/313]\tLoss_D: 1.3852\tLoss_G: 0.7036\tD(x): 0.4984\tD(G(z)): 0.4965 / 0.4950\n",
            "[10/40][200/313]\tLoss_D: 1.3852\tLoss_G: 0.6941\tD(x): 0.5029\tD(G(z)): 0.5014 / 0.5000\n",
            "[10/40][300/313]\tLoss_D: 1.3908\tLoss_G: 0.6905\tD(x): 0.5013\tD(G(z)): 0.5029 / 0.5015\n",
            "[11/40][0/313]\tLoss_D: 1.3833\tLoss_G: 0.7015\tD(x): 0.4995\tD(G(z)): 0.4975 / 0.4961\n",
            "[11/40][100/313]\tLoss_D: 1.3963\tLoss_G: 0.6915\tD(x): 0.4982\tD(G(z)): 0.5025 / 0.5011\n",
            "[11/40][200/313]\tLoss_D: 1.3927\tLoss_G: 0.6946\tD(x): 0.4985\tD(G(z)): 0.5007 / 0.4996\n",
            "[11/40][300/313]\tLoss_D: 1.3939\tLoss_G: 0.6907\tD(x): 0.5003\tD(G(z)): 0.5030 / 0.5016\n",
            "[12/40][0/313]\tLoss_D: 1.3785\tLoss_G: 0.7029\tD(x): 0.5024\tD(G(z)): 0.4973 / 0.4957\n",
            "[12/40][100/313]\tLoss_D: 1.3799\tLoss_G: 0.7034\tD(x): 0.5004\tD(G(z)): 0.4965 / 0.4951\n",
            "[12/40][200/313]\tLoss_D: 1.3932\tLoss_G: 0.6976\tD(x): 0.4974\tD(G(z)): 0.4998 / 0.4985\n",
            "[12/40][300/313]\tLoss_D: 1.3858\tLoss_G: 0.7006\tD(x): 0.4994\tD(G(z)): 0.4980 / 0.4967\n",
            "[13/40][0/313]\tLoss_D: 1.3871\tLoss_G: 0.7002\tD(x): 0.4977\tD(G(z)): 0.4978 / 0.4967\n",
            "[13/40][100/313]\tLoss_D: 1.3890\tLoss_G: 0.6910\tD(x): 0.5025\tD(G(z)): 0.5029 / 0.5014\n",
            "[13/40][200/313]\tLoss_D: 1.3836\tLoss_G: 0.6994\tD(x): 0.5006\tD(G(z)): 0.4987 / 0.4972\n",
            "[13/40][300/313]\tLoss_D: 1.3866\tLoss_G: 0.6940\tD(x): 0.5025\tD(G(z)): 0.5020 / 0.4999\n",
            "[14/40][0/313]\tLoss_D: 1.3814\tLoss_G: 0.6973\tD(x): 0.5027\tD(G(z)): 0.4996 / 0.4982\n",
            "[14/40][100/313]\tLoss_D: 1.3932\tLoss_G: 0.6891\tD(x): 0.5014\tD(G(z)): 0.5038 / 0.5025\n",
            "[14/40][200/313]\tLoss_D: 1.3809\tLoss_G: 0.6984\tD(x): 0.5036\tD(G(z)): 0.4995 / 0.4979\n",
            "[14/40][300/313]\tLoss_D: 1.3890\tLoss_G: 0.6990\tD(x): 0.4981\tD(G(z)): 0.4985 / 0.4975\n",
            "[15/40][0/313]\tLoss_D: 1.3923\tLoss_G: 0.6957\tD(x): 0.4980\tD(G(z)): 0.5004 / 0.4990\n",
            "[15/40][100/313]\tLoss_D: 1.3904\tLoss_G: 0.6970\tD(x): 0.4982\tD(G(z)): 0.4997 / 0.4983\n",
            "[15/40][200/313]\tLoss_D: 1.3903\tLoss_G: 0.6948\tD(x): 0.4995\tD(G(z)): 0.5008 / 0.4996\n",
            "[15/40][300/313]\tLoss_D: 1.3850\tLoss_G: 0.6951\tD(x): 0.5021\tD(G(z)): 0.5006 / 0.4993\n",
            "[16/40][0/313]\tLoss_D: 1.3811\tLoss_G: 0.6996\tD(x): 0.5018\tD(G(z)): 0.4984 / 0.4971\n",
            "[16/40][100/313]\tLoss_D: 1.3758\tLoss_G: 0.7025\tD(x): 0.5028\tD(G(z)): 0.4970 / 0.4956\n",
            "[16/40][200/313]\tLoss_D: 1.3879\tLoss_G: 0.6977\tD(x): 0.4991\tD(G(z)): 0.4994 / 0.4980\n",
            "[16/40][300/313]\tLoss_D: 1.3843\tLoss_G: 0.6976\tD(x): 0.5011\tD(G(z)): 0.4994 / 0.4980\n",
            "[17/40][0/313]\tLoss_D: 1.3928\tLoss_G: 0.6951\tD(x): 0.4988\tD(G(z)): 0.5009 / 0.4997\n",
            "[17/40][100/313]\tLoss_D: 1.3786\tLoss_G: 0.6990\tD(x): 0.5035\tD(G(z)): 0.4989 / 0.4973\n",
            "[17/40][200/313]\tLoss_D: 1.4031\tLoss_G: 0.6911\tD(x): 0.4949\tD(G(z)): 0.5027 / 0.5012\n",
            "[17/40][300/313]\tLoss_D: 1.3886\tLoss_G: 0.6946\tD(x): 0.5003\tD(G(z)): 0.5009 / 0.4995\n",
            "[18/40][0/313]\tLoss_D: 1.3837\tLoss_G: 0.6987\tD(x): 0.5007\tD(G(z)): 0.4989 / 0.4975\n",
            "[18/40][100/313]\tLoss_D: 1.3816\tLoss_G: 0.6994\tD(x): 0.5014\tD(G(z)): 0.4987 / 0.4972\n",
            "[18/40][200/313]\tLoss_D: 1.3877\tLoss_G: 0.6944\tD(x): 0.5007\tD(G(z)): 0.5008 / 0.4995\n",
            "[18/40][300/313]\tLoss_D: 1.3859\tLoss_G: 0.6988\tD(x): 0.5002\tD(G(z)): 0.4991 / 0.4976\n",
            "[19/40][0/313]\tLoss_D: 1.3926\tLoss_G: 0.6962\tD(x): 0.4981\tD(G(z)): 0.5002 / 0.4988\n",
            "[19/40][100/313]\tLoss_D: 1.3838\tLoss_G: 0.6998\tD(x): 0.5000\tD(G(z)): 0.4979 / 0.4969\n",
            "[19/40][200/313]\tLoss_D: 1.3964\tLoss_G: 0.6904\tD(x): 0.4992\tD(G(z)): 0.5034 / 0.5017\n",
            "[19/40][300/313]\tLoss_D: 1.3890\tLoss_G: 0.6954\tD(x): 0.4995\tD(G(z)): 0.5001 / 0.4991\n",
            "[20/40][0/313]\tLoss_D: 1.3804\tLoss_G: 0.7018\tD(x): 0.5008\tD(G(z)): 0.4972 / 0.4959\n",
            "[20/40][100/313]\tLoss_D: 1.3878\tLoss_G: 0.7015\tD(x): 0.4981\tD(G(z)): 0.4978 / 0.4961\n",
            "[20/40][200/313]\tLoss_D: 1.3785\tLoss_G: 0.6998\tD(x): 0.5027\tD(G(z)): 0.4981 / 0.4968\n",
            "[20/40][300/313]\tLoss_D: 1.3904\tLoss_G: 0.6997\tD(x): 0.4974\tD(G(z)): 0.4990 / 0.4971\n",
            "[21/40][0/313]\tLoss_D: 1.3715\tLoss_G: 0.7032\tD(x): 0.5050\tD(G(z)): 0.4969 / 0.4953\n",
            "[21/40][100/313]\tLoss_D: 1.3801\tLoss_G: 0.7024\tD(x): 0.5010\tD(G(z)): 0.4970 / 0.4957\n",
            "[21/40][200/313]\tLoss_D: 1.3841\tLoss_G: 0.6993\tD(x): 0.5008\tD(G(z)): 0.4990 / 0.4971\n",
            "[21/40][300/313]\tLoss_D: 1.3802\tLoss_G: 0.7005\tD(x): 0.5016\tD(G(z)): 0.4980 / 0.4965\n",
            "[22/40][0/313]\tLoss_D: 1.3874\tLoss_G: 0.6985\tD(x): 0.4992\tD(G(z)): 0.4990 / 0.4978\n",
            "[22/40][100/313]\tLoss_D: 1.3903\tLoss_G: 0.6950\tD(x): 0.4995\tD(G(z)): 0.5007 / 0.4994\n",
            "[22/40][200/313]\tLoss_D: 1.3933\tLoss_G: 0.6977\tD(x): 0.4971\tD(G(z)): 0.5001 / 0.4980\n",
            "[22/40][300/313]\tLoss_D: 1.3844\tLoss_G: 0.6940\tD(x): 0.5033\tD(G(z)): 0.5018 / 0.4997\n",
            "[23/40][0/313]\tLoss_D: 1.3780\tLoss_G: 0.7051\tD(x): 0.5001\tD(G(z)): 0.4956 / 0.4943\n",
            "[23/40][100/313]\tLoss_D: 1.3864\tLoss_G: 0.6987\tD(x): 0.5003\tD(G(z)): 0.4993 / 0.4977\n",
            "[23/40][200/313]\tLoss_D: 1.3826\tLoss_G: 0.6976\tD(x): 0.5019\tD(G(z)): 0.4996 / 0.4981\n",
            "[23/40][300/313]\tLoss_D: 1.3756\tLoss_G: 0.6948\tD(x): 0.5072\tD(G(z)): 0.5010 / 0.4995\n",
            "[24/40][0/313]\tLoss_D: 1.3876\tLoss_G: 0.7011\tD(x): 0.4975\tD(G(z)): 0.4974 / 0.4963\n",
            "[24/40][100/313]\tLoss_D: 1.3931\tLoss_G: 0.6916\tD(x): 0.4994\tD(G(z)): 0.5024 / 0.5010\n",
            "[24/40][200/313]\tLoss_D: 1.3949\tLoss_G: 0.6911\tD(x): 0.4995\tD(G(z)): 0.5029 / 0.5014\n",
            "[24/40][300/313]\tLoss_D: 1.3818\tLoss_G: 0.6992\tD(x): 0.5019\tD(G(z)): 0.4987 / 0.4974\n",
            "[25/40][0/313]\tLoss_D: 1.3886\tLoss_G: 0.6911\tD(x): 0.5020\tD(G(z)): 0.5027 / 0.5012\n",
            "[25/40][100/313]\tLoss_D: 1.3877\tLoss_G: 0.6955\tD(x): 0.5006\tD(G(z)): 0.5007 / 0.4990\n",
            "[25/40][200/313]\tLoss_D: 1.3915\tLoss_G: 0.6950\tD(x): 0.5000\tD(G(z)): 0.5014 / 0.4994\n",
            "[25/40][300/313]\tLoss_D: 1.3920\tLoss_G: 0.6989\tD(x): 0.4973\tD(G(z)): 0.4991 / 0.4975\n",
            "[26/40][0/313]\tLoss_D: 1.3853\tLoss_G: 0.6992\tD(x): 0.5010\tD(G(z)): 0.4997 / 0.4974\n",
            "[26/40][100/313]\tLoss_D: 1.3807\tLoss_G: 0.6968\tD(x): 0.5036\tD(G(z)): 0.5000 / 0.4984\n",
            "[26/40][200/313]\tLoss_D: 1.3818\tLoss_G: 0.7040\tD(x): 0.5004\tD(G(z)): 0.4970 / 0.4951\n",
            "[26/40][300/313]\tLoss_D: 1.3842\tLoss_G: 0.7034\tD(x): 0.4998\tD(G(z)): 0.4975 / 0.4954\n",
            "[27/40][0/313]\tLoss_D: 1.3907\tLoss_G: 0.6947\tD(x): 0.4997\tD(G(z)): 0.5011 / 0.4995\n",
            "[27/40][100/313]\tLoss_D: 1.3832\tLoss_G: 0.6919\tD(x): 0.5053\tD(G(z)): 0.5030 / 0.5010\n",
            "[27/40][200/313]\tLoss_D: 1.3871\tLoss_G: 0.6978\tD(x): 0.4999\tD(G(z)): 0.4995 / 0.4978\n",
            "[27/40][300/313]\tLoss_D: 1.3876\tLoss_G: 0.7007\tD(x): 0.4987\tD(G(z)): 0.4984 / 0.4966\n",
            "[28/40][0/313]\tLoss_D: 1.3911\tLoss_G: 0.6957\tD(x): 0.4990\tD(G(z)): 0.5005 / 0.4990\n",
            "[28/40][100/313]\tLoss_D: 1.3740\tLoss_G: 0.7072\tD(x): 0.5022\tD(G(z)): 0.4950 / 0.4935\n",
            "[28/40][200/313]\tLoss_D: 1.3706\tLoss_G: 0.7070\tD(x): 0.5035\tD(G(z)): 0.4950 / 0.4933\n",
            "[28/40][300/313]\tLoss_D: 1.3877\tLoss_G: 0.6963\tD(x): 0.5010\tD(G(z)): 0.5006 / 0.4991\n",
            "[29/40][0/313]\tLoss_D: 1.3872\tLoss_G: 0.6922\tD(x): 0.5034\tD(G(z)): 0.5027 / 0.5010\n",
            "[29/40][100/313]\tLoss_D: 1.3888\tLoss_G: 0.6922\tD(x): 0.5022\tD(G(z)): 0.5026 / 0.5009\n",
            "[29/40][200/313]\tLoss_D: 1.3879\tLoss_G: 0.6969\tD(x): 0.4999\tD(G(z)): 0.5001 / 0.4984\n",
            "[29/40][300/313]\tLoss_D: 1.3938\tLoss_G: 0.6928\tD(x): 0.4994\tD(G(z)): 0.5021 / 0.5007\n",
            "[30/40][0/313]\tLoss_D: 1.3776\tLoss_G: 0.7009\tD(x): 0.5026\tD(G(z)): 0.4978 / 0.4963\n",
            "[30/40][100/313]\tLoss_D: 1.3882\tLoss_G: 0.6962\tD(x): 0.5004\tD(G(z)): 0.5002 / 0.4989\n",
            "[30/40][200/313]\tLoss_D: 1.3741\tLoss_G: 0.7055\tD(x): 0.5020\tD(G(z)): 0.4954 / 0.4941\n",
            "[30/40][300/313]\tLoss_D: 1.3909\tLoss_G: 0.6952\tD(x): 0.4991\tD(G(z)): 0.5007 / 0.4991\n",
            "[31/40][0/313]\tLoss_D: 1.3917\tLoss_G: 0.6932\tD(x): 0.5000\tD(G(z)): 0.5017 / 0.5002\n",
            "[31/40][100/313]\tLoss_D: 1.3889\tLoss_G: 0.6953\tD(x): 0.5004\tD(G(z)): 0.5009 / 0.4991\n",
            "[31/40][200/313]\tLoss_D: 1.3871\tLoss_G: 0.7036\tD(x): 0.4972\tD(G(z)): 0.4967 / 0.4951\n",
            "[31/40][300/313]\tLoss_D: 1.3938\tLoss_G: 0.7031\tD(x): 0.4945\tD(G(z)): 0.4975 / 0.4954\n",
            "[32/40][0/313]\tLoss_D: 1.3952\tLoss_G: 0.7055\tD(x): 0.4926\tD(G(z)): 0.4962 / 0.4944\n",
            "[32/40][100/313]\tLoss_D: 1.3817\tLoss_G: 0.6989\tD(x): 0.5026\tD(G(z)): 0.4995 / 0.4974\n",
            "[32/40][200/313]\tLoss_D: 1.3839\tLoss_G: 0.6975\tD(x): 0.5009\tD(G(z)): 0.4991 / 0.4981\n",
            "[32/40][300/313]\tLoss_D: 1.3884\tLoss_G: 0.6940\tD(x): 0.5011\tD(G(z)): 0.5013 / 0.4998\n",
            "[33/40][0/313]\tLoss_D: 1.3836\tLoss_G: 0.7083\tD(x): 0.4970\tD(G(z)): 0.4947 / 0.4930\n",
            "[33/40][100/313]\tLoss_D: 1.3907\tLoss_G: 0.7012\tD(x): 0.4962\tD(G(z)): 0.4978 / 0.4962\n",
            "[33/40][200/313]\tLoss_D: 1.3857\tLoss_G: 0.6963\tD(x): 0.5015\tD(G(z)): 0.5005 / 0.4986\n",
            "[33/40][300/313]\tLoss_D: 1.3782\tLoss_G: 0.7091\tD(x): 0.4994\tD(G(z)): 0.4945 / 0.4924\n",
            "[34/40][0/313]\tLoss_D: 1.3717\tLoss_G: 0.7077\tD(x): 0.5032\tD(G(z)): 0.4952 / 0.4931\n",
            "[34/40][100/313]\tLoss_D: 1.3862\tLoss_G: 0.6960\tD(x): 0.5019\tD(G(z)): 0.5009 / 0.4990\n",
            "[34/40][200/313]\tLoss_D: 1.3840\tLoss_G: 0.7029\tD(x): 0.4997\tD(G(z)): 0.4976 / 0.4956\n",
            "[34/40][300/313]\tLoss_D: 1.3789\tLoss_G: 0.7033\tD(x): 0.5013\tD(G(z)): 0.4973 / 0.4952\n",
            "[35/40][0/313]\tLoss_D: 1.3773\tLoss_G: 0.7079\tD(x): 0.5011\tD(G(z)): 0.4955 / 0.4933\n",
            "[35/40][100/313]\tLoss_D: 1.3825\tLoss_G: 0.7000\tD(x): 0.5017\tD(G(z)): 0.4989 / 0.4970\n",
            "[35/40][200/313]\tLoss_D: 1.3829\tLoss_G: 0.7074\tD(x): 0.4977\tD(G(z)): 0.4947 / 0.4932\n",
            "[35/40][300/313]\tLoss_D: 1.3925\tLoss_G: 0.6993\tD(x): 0.4976\tD(G(z)): 0.4996 / 0.4976\n",
            "[36/40][0/313]\tLoss_D: 1.3893\tLoss_G: 0.7088\tD(x): 0.4948\tD(G(z)): 0.4952 / 0.4927\n",
            "[36/40][100/313]\tLoss_D: 1.3714\tLoss_G: 0.7102\tD(x): 0.5023\tD(G(z)): 0.4940 / 0.4919\n",
            "[36/40][200/313]\tLoss_D: 1.3643\tLoss_G: 0.7057\tD(x): 0.5083\tD(G(z)): 0.4961 / 0.4942\n",
            "[36/40][300/313]\tLoss_D: 1.3895\tLoss_G: 0.6883\tD(x): 0.5042\tD(G(z)): 0.5048 / 0.5028\n",
            "[37/40][0/313]\tLoss_D: 1.3914\tLoss_G: 0.6996\tD(x): 0.4980\tD(G(z)): 0.4990 / 0.4972\n",
            "[37/40][100/313]\tLoss_D: 1.3737\tLoss_G: 0.6997\tD(x): 0.5057\tD(G(z)): 0.4988 / 0.4971\n",
            "[37/40][200/313]\tLoss_D: 1.3857\tLoss_G: 0.7020\tD(x): 0.4981\tD(G(z)): 0.4972 / 0.4958\n",
            "[37/40][300/313]\tLoss_D: 1.3667\tLoss_G: 0.7037\tD(x): 0.5080\tD(G(z)): 0.4972 / 0.4952\n",
            "[38/40][0/313]\tLoss_D: 1.3653\tLoss_G: 0.7038\tD(x): 0.5085\tD(G(z)): 0.4974 / 0.4949\n",
            "[38/40][100/313]\tLoss_D: 1.3741\tLoss_G: 0.6978\tD(x): 0.5076\tD(G(z)): 0.5001 / 0.4981\n",
            "[38/40][200/313]\tLoss_D: 1.3843\tLoss_G: 0.7025\tD(x): 0.4994\tD(G(z)): 0.4976 / 0.4957\n",
            "[38/40][300/313]\tLoss_D: 1.3943\tLoss_G: 0.7012\tD(x): 0.4964\tD(G(z)): 0.4991 / 0.4967\n",
            "[39/40][0/313]\tLoss_D: 1.3864\tLoss_G: 0.6973\tD(x): 0.5008\tD(G(z)): 0.5001 / 0.4983\n",
            "[39/40][100/313]\tLoss_D: 1.3866\tLoss_G: 0.7003\tD(x): 0.5003\tD(G(z)): 0.4993 / 0.4969\n",
            "[39/40][200/313]\tLoss_D: 1.3913\tLoss_G: 0.6997\tD(x): 0.4979\tD(G(z)): 0.4992 / 0.4975\n",
            "[39/40][300/313]\tLoss_D: 1.3662\tLoss_G: 0.7107\tD(x): 0.5052\tD(G(z)): 0.4938 / 0.4920\n"
          ],
          "name": "stdout"
        }
      ]
    },
    {
      "cell_type": "code",
      "metadata": {
        "id": "YuKB1KIpcngV"
      },
      "source": [
        "# function to get the covariance tensor\n",
        "def cov(tensor, rowvar=False, bias=False):\n",
        "    \"\"\"Estimate a covariance matrix (np.cov)\"\"\"\n",
        "    tensor = tensor if rowvar else tensor.transpose(-1, -2)\n",
        "    tensor = tensor - tensor.mean(dim=-1, keepdim=True)\n",
        "    factor = 1 / (tensor.shape[-1] - int(not bool(bias)))\n",
        "    return factor * tensor @ tensor.transpose(-1, -2).conj()"
      ],
      "execution_count": 16,
      "outputs": []
    },
    {
      "cell_type": "code",
      "metadata": {
        "id": "mCLVjevB7b2s"
      },
      "source": [
        "netD = Discriminator().to(device)\n",
        "netG = Generator().to(device)\n",
        "# Setup Adam optimizers for both G and D\n",
        "optimizerD = optim.Adam(netD.parameters(), lr=lr_d, betas=(beta1, 0.999))\n",
        "optimizerG = optim.Adam(netG.parameters(), lr=lr_g, betas=(beta1, 0.999))"
      ],
      "execution_count": 17,
      "outputs": []
    },
    {
      "cell_type": "markdown",
      "metadata": {
        "id": "csR6A1ddSSPu"
      },
      "source": [
        "**Modified Training with new loss function for Generator**"
      ]
    },
    {
      "cell_type": "code",
      "metadata": {
        "colab": {
          "base_uri": "https://localhost:8080/"
        },
        "id": "XqcGRVwYNfky",
        "outputId": "23389e4e-18d4-4078-f821-4c89c363b9fb"
      },
      "source": [
        "# Training Loop\n",
        "\n",
        "# Lists to keep track of progress\n",
        "G_losses = []\n",
        "D_losses = []\n",
        "iters = 0\n",
        "\n",
        "print(\"Starting Training Loop...\")\n",
        "# For each epoch\n",
        "for epoch in range(num_epochs):\n",
        "    # For each batch in the dataloader\n",
        "    for i, data in enumerate(RealDataLoader, 0):\n",
        "\n",
        "        ############################\n",
        "        # (1) Update D network: maximize log(D(x)) + log(1 - D(G(z)))\n",
        "        ###########################\n",
        "        ## Train with all-real batch\n",
        "        netD.zero_grad()\n",
        "        # Format batch\n",
        "        real = data.float().to(device)\n",
        "        # print(real.shape)\n",
        "        b_size = real.size(0)\n",
        "        label = torch.full((b_size,), real_label, dtype=torch.float, device=device)\n",
        "        # Forward pass real batch through D\n",
        "        _,_,_,_,output = netD(real)\n",
        "        output = output.view(-1)\n",
        "        # Calculate loss on all-real batch\n",
        "        errD_real = criterion1(output, label)\n",
        "        # Calculate gradients for D in backward pass\n",
        "        errD_real.backward()\n",
        "        D_x = output.mean().item()\n",
        "\n",
        "        ## Train with all-fake batch\n",
        "        # Generate batch of latent vectors\n",
        "        noise = torch.randn(b_size, 100, device=device)\n",
        "        # Generate fake image batch with G\n",
        "        fake = netG(noise)\n",
        "        label.fill_(fake_label)\n",
        "        # Classify all fake batch with D\n",
        "        _,_,_,_,output = netD(fake.detach())\n",
        "        output = output.view(-1)\n",
        "        # Calculate D's loss on the all-fake batch\n",
        "        errD_fake = criterion1(output, label)\n",
        "        # Calculate the gradients for this batch\n",
        "        errD_fake.backward()\n",
        "        D_G_z1 = output.mean().item()\n",
        "        # Add the gradients from the all-real and all-fake batches\n",
        "        errD = errD_real + errD_fake\n",
        "        # Update D\n",
        "        DAcc = (D_x + 1-D_G_z1)/2\n",
        "        if DAcc<0.8:\n",
        "          optimizerD.step()\n",
        "\n",
        "        ############################\n",
        "        # (2) Update G network: \n",
        "        ###########################\n",
        "        netG.zero_grad()\n",
        "        label.fill_(real_label)  # fake labels are real for generator cost\n",
        "        # Since we just updated D, perform another forward pass of all-fake batch through D\n",
        "        l1_fake,l2_fake,l3_fake,l4_fake,output = netD(fake)\n",
        "        l1_real,l2_real,l3_real,l4_real,_ = netD(real)\n",
        "        output = output.view(-1)\n",
        "\n",
        "        # Calculate G's loss based on this output\n",
        "        # G's loss = errG_mean + errG_cov\n",
        "        # errG_mean = rmse(mean(activations(real)),mean(activations(fake)))\n",
        "        # errG_cov = rmse(mean(activations(real)),mean(activations(fake)))\n",
        "        # choose 3rd layer as an intermidiate layer as the activation to compute the loss\n",
        "        errG_mean = criterion2(l3_fake.mean(axis=1), l3_real.mean(axis=1))\n",
        "        errG_cov = criterion2(cov(l3_fake),cov(l3_real))\n",
        "        # Calculate gradients for G\n",
        "        errG = errG_mean + errG_cov\n",
        "        errG.backward()\n",
        "        D_G_z2 = output.mean().item()\n",
        "        # Update G\n",
        "        optimizerG.step()\n",
        "\n",
        "        # Output training stats\n",
        "        if i % 100 == 0:\n",
        "            print('[%d/%d][%d/%d]\\tLoss_D: %.4f\\tLoss_G: %.4f\\tD(x): %.4f\\tD(G(z)): %.4f / %.4f'\n",
        "                  % (epoch, num_epochs, i, len(RealDataLoader),\n",
        "                     errD.item(), errG.item(), D_x, D_G_z1, D_G_z2))\n",
        "\n",
        "        # Save Losses for plotting later\n",
        "        G_losses.append(errG.item())\n",
        "        D_losses.append(errD.item())\n",
        "\n",
        "        iters += 1"
      ],
      "execution_count": 19,
      "outputs": [
        {
          "output_type": "stream",
          "text": [
            "Starting Training Loop...\n",
            "[0/40][0/313]\tLoss_D: 1.3596\tLoss_G: 0.0245\tD(x): 0.5066\tD(G(z)): 0.4901 / 0.4870\n",
            "[0/40][100/313]\tLoss_D: 1.3551\tLoss_G: 0.0335\tD(x): 0.5039\tD(G(z)): 0.4846 / 0.4819\n",
            "[0/40][200/313]\tLoss_D: 1.3802\tLoss_G: 0.0299\tD(x): 0.4978\tD(G(z)): 0.4915 / 0.4877\n",
            "[0/40][300/313]\tLoss_D: 1.3550\tLoss_G: 0.0276\tD(x): 0.5037\tD(G(z)): 0.4849 / 0.4821\n",
            "[1/40][0/313]\tLoss_D: 1.3492\tLoss_G: 0.0338\tD(x): 0.5077\tD(G(z)): 0.4868 / 0.4837\n",
            "[1/40][100/313]\tLoss_D: 1.3577\tLoss_G: 0.0273\tD(x): 0.5083\tD(G(z)): 0.4905 / 0.4878\n",
            "[1/40][200/313]\tLoss_D: 1.3381\tLoss_G: 0.0342\tD(x): 0.5115\tD(G(z)): 0.4834 / 0.4800\n",
            "[1/40][300/313]\tLoss_D: 1.3329\tLoss_G: 0.0244\tD(x): 0.5123\tD(G(z)): 0.4810 / 0.4776\n",
            "[2/40][0/313]\tLoss_D: 1.3579\tLoss_G: 0.0203\tD(x): 0.5063\tD(G(z)): 0.4877 / 0.4848\n",
            "[2/40][100/313]\tLoss_D: 1.3308\tLoss_G: 0.0370\tD(x): 0.5144\tD(G(z)): 0.4827 / 0.4791\n",
            "[2/40][200/313]\tLoss_D: 1.3510\tLoss_G: 0.0426\tD(x): 0.5095\tD(G(z)): 0.4857 / 0.4818\n",
            "[2/40][300/313]\tLoss_D: 1.2921\tLoss_G: 0.0279\tD(x): 0.5207\tD(G(z)): 0.4681 / 0.4645\n",
            "[3/40][0/313]\tLoss_D: 1.3221\tLoss_G: 0.0259\tD(x): 0.5084\tD(G(z)): 0.4709 / 0.4670\n",
            "[3/40][100/313]\tLoss_D: 1.3508\tLoss_G: 0.0339\tD(x): 0.5051\tD(G(z)): 0.4820 / 0.4784\n",
            "[3/40][200/313]\tLoss_D: 1.2467\tLoss_G: 0.0345\tD(x): 0.5291\tD(G(z)): 0.4520 / 0.4482\n",
            "[3/40][300/313]\tLoss_D: 1.2737\tLoss_G: 0.0414\tD(x): 0.5330\tD(G(z)): 0.4702 / 0.4654\n",
            "[4/40][0/313]\tLoss_D: 1.2292\tLoss_G: 0.0422\tD(x): 0.5427\tD(G(z)): 0.4556 / 0.4514\n",
            "[4/40][100/313]\tLoss_D: 1.2546\tLoss_G: 0.0359\tD(x): 0.5304\tD(G(z)): 0.4519 / 0.4481\n",
            "[4/40][200/313]\tLoss_D: 1.3698\tLoss_G: 0.0319\tD(x): 0.5186\tD(G(z)): 0.4997 / 0.4936\n",
            "[4/40][300/313]\tLoss_D: 1.2103\tLoss_G: 0.0612\tD(x): 0.5547\tD(G(z)): 0.4560 / 0.4518\n",
            "[5/40][0/313]\tLoss_D: 1.2414\tLoss_G: 0.0506\tD(x): 0.5361\tD(G(z)): 0.4531 / 0.4484\n",
            "[5/40][100/313]\tLoss_D: 1.2576\tLoss_G: 0.0444\tD(x): 0.5315\tD(G(z)): 0.4594 / 0.4543\n",
            "[5/40][200/313]\tLoss_D: 1.2079\tLoss_G: 0.0546\tD(x): 0.5401\tD(G(z)): 0.4382 / 0.4335\n",
            "[5/40][300/313]\tLoss_D: 1.1700\tLoss_G: 0.0728\tD(x): 0.5796\tD(G(z)): 0.4565 / 0.4512\n",
            "[6/40][0/313]\tLoss_D: 1.2365\tLoss_G: 0.0438\tD(x): 0.5280\tD(G(z)): 0.4356 / 0.4307\n",
            "[6/40][100/313]\tLoss_D: 1.2079\tLoss_G: 0.0443\tD(x): 0.5369\tD(G(z)): 0.4310 / 0.4260\n",
            "[6/40][200/313]\tLoss_D: 1.1443\tLoss_G: 0.0722\tD(x): 0.5595\tD(G(z)): 0.4233 / 0.4179\n",
            "[6/40][300/313]\tLoss_D: 1.2284\tLoss_G: 0.0807\tD(x): 0.5329\tD(G(z)): 0.4368 / 0.4310\n",
            "[7/40][0/313]\tLoss_D: 1.1636\tLoss_G: 0.0478\tD(x): 0.5427\tD(G(z)): 0.4117 / 0.4037\n",
            "[7/40][100/313]\tLoss_D: 1.1033\tLoss_G: 0.0603\tD(x): 0.5874\tD(G(z)): 0.4284 / 0.4192\n",
            "[7/40][200/313]\tLoss_D: 1.0544\tLoss_G: 0.1208\tD(x): 0.5975\tD(G(z)): 0.4063 / 0.4000\n",
            "[7/40][300/313]\tLoss_D: 1.0464\tLoss_G: 0.0886\tD(x): 0.5987\tD(G(z)): 0.4038 / 0.3980\n",
            "[8/40][0/313]\tLoss_D: 0.9823\tLoss_G: 0.0813\tD(x): 0.6040\tD(G(z)): 0.3701 / 0.3648\n",
            "[8/40][100/313]\tLoss_D: 1.1369\tLoss_G: 0.0567\tD(x): 0.5753\tD(G(z)): 0.4171 / 0.4106\n",
            "[8/40][200/313]\tLoss_D: 0.9717\tLoss_G: 0.0573\tD(x): 0.6291\tD(G(z)): 0.3810 / 0.3731\n",
            "[8/40][300/313]\tLoss_D: 0.9888\tLoss_G: 0.0981\tD(x): 0.6109\tD(G(z)): 0.3714 / 0.3620\n",
            "[9/40][0/313]\tLoss_D: 1.0999\tLoss_G: 0.0333\tD(x): 0.5292\tD(G(z)): 0.3449 / 0.3400\n",
            "[9/40][100/313]\tLoss_D: 1.1342\tLoss_G: 0.0924\tD(x): 0.6069\tD(G(z)): 0.4392 / 0.4292\n",
            "[9/40][200/313]\tLoss_D: 0.9187\tLoss_G: 0.0615\tD(x): 0.6238\tD(G(z)): 0.3468 / 0.3410\n",
            "[9/40][300/313]\tLoss_D: 1.0027\tLoss_G: 0.0632\tD(x): 0.5817\tD(G(z)): 0.3356 / 0.3285\n",
            "[10/40][0/313]\tLoss_D: 0.8484\tLoss_G: 0.0765\tD(x): 0.6531\tD(G(z)): 0.3329 / 0.3258\n",
            "[10/40][100/313]\tLoss_D: 0.9572\tLoss_G: 0.0948\tD(x): 0.6265\tD(G(z)): 0.3671 / 0.3550\n",
            "[10/40][200/313]\tLoss_D: 0.6949\tLoss_G: 0.1853\tD(x): 0.7306\tD(G(z)): 0.3089 / 0.3016\n",
            "[10/40][300/313]\tLoss_D: 0.8049\tLoss_G: 0.1005\tD(x): 0.7098\tD(G(z)): 0.3570 / 0.3466\n",
            "[11/40][0/313]\tLoss_D: 0.6592\tLoss_G: 0.1059\tD(x): 0.7436\tD(G(z)): 0.2916 / 0.2837\n",
            "[11/40][100/313]\tLoss_D: 0.8423\tLoss_G: 0.1178\tD(x): 0.7028\tD(G(z)): 0.3725 / 0.3587\n",
            "[11/40][200/313]\tLoss_D: 0.7993\tLoss_G: 0.0757\tD(x): 0.6197\tD(G(z)): 0.2546 / 0.2499\n",
            "[11/40][300/313]\tLoss_D: 0.7324\tLoss_G: 0.0922\tD(x): 0.6678\tD(G(z)): 0.2588 / 0.2507\n",
            "[12/40][0/313]\tLoss_D: 0.7479\tLoss_G: 0.0886\tD(x): 0.6469\tD(G(z)): 0.2510 / 0.2452\n",
            "[12/40][100/313]\tLoss_D: 0.6289\tLoss_G: 0.1787\tD(x): 0.7535\tD(G(z)): 0.2820 / 0.2724\n",
            "[12/40][200/313]\tLoss_D: 0.6276\tLoss_G: 0.1689\tD(x): 0.7407\tD(G(z)): 0.2645 / 0.2569\n",
            "[12/40][300/313]\tLoss_D: 0.3941\tLoss_G: 0.2325\tD(x): 0.8112\tD(G(z)): 0.1657 / 0.1657\n",
            "[13/40][0/313]\tLoss_D: 0.6090\tLoss_G: 0.1534\tD(x): 0.7444\tD(G(z)): 0.2608 / 0.2498\n",
            "[13/40][100/313]\tLoss_D: 0.6261\tLoss_G: 0.1664\tD(x): 0.7576\tD(G(z)): 0.2839 / 0.2741\n",
            "[13/40][200/313]\tLoss_D: 0.6937\tLoss_G: 0.1687\tD(x): 0.7586\tD(G(z)): 0.3321 / 0.3191\n",
            "[13/40][300/313]\tLoss_D: 0.5070\tLoss_G: 0.1472\tD(x): 0.7455\tD(G(z)): 0.1797 / 0.1751\n",
            "[14/40][0/313]\tLoss_D: 0.5783\tLoss_G: 0.2086\tD(x): 0.8106\tD(G(z)): 0.2974 / 0.2860\n",
            "[14/40][100/313]\tLoss_D: 0.6140\tLoss_G: 0.2379\tD(x): 0.6894\tD(G(z)): 0.1972 / 0.1909\n",
            "[14/40][200/313]\tLoss_D: 0.4658\tLoss_G: 0.1285\tD(x): 0.7746\tD(G(z)): 0.1768 / 0.1733\n",
            "[14/40][300/313]\tLoss_D: 0.3654\tLoss_G: 0.2445\tD(x): 0.8504\tD(G(z)): 0.1774 / 0.1774\n",
            "[15/40][0/313]\tLoss_D: 0.5393\tLoss_G: 0.1004\tD(x): 0.7913\tD(G(z)): 0.2507 / 0.2378\n",
            "[15/40][100/313]\tLoss_D: 0.4047\tLoss_G: 0.1460\tD(x): 0.8651\tD(G(z)): 0.2198 / 0.2198\n",
            "[15/40][200/313]\tLoss_D: 0.5272\tLoss_G: 0.1950\tD(x): 0.7656\tD(G(z)): 0.2166 / 0.2085\n",
            "[15/40][300/313]\tLoss_D: 0.4268\tLoss_G: 0.1116\tD(x): 0.7712\tD(G(z)): 0.1441 / 0.1441\n",
            "[16/40][0/313]\tLoss_D: 0.4484\tLoss_G: 0.1763\tD(x): 0.7745\tD(G(z)): 0.1670 / 0.1670\n",
            "[16/40][100/313]\tLoss_D: 0.5187\tLoss_G: 0.1029\tD(x): 0.7730\tD(G(z)): 0.2130 / 0.2026\n",
            "[16/40][200/313]\tLoss_D: 0.3973\tLoss_G: 0.2479\tD(x): 0.8589\tD(G(z)): 0.2085 / 0.2085\n",
            "[16/40][300/313]\tLoss_D: 0.6491\tLoss_G: 0.1827\tD(x): 0.6797\tD(G(z)): 0.1811 / 0.1733\n",
            "[17/40][0/313]\tLoss_D: 0.5802\tLoss_G: 0.1099\tD(x): 0.7751\tD(G(z)): 0.2647 / 0.2507\n",
            "[17/40][100/313]\tLoss_D: 0.4307\tLoss_G: 0.0803\tD(x): 0.7709\tD(G(z)): 0.1430 / 0.1430\n",
            "[17/40][200/313]\tLoss_D: 0.4110\tLoss_G: 0.2285\tD(x): 0.8417\tD(G(z)): 0.1997 / 0.1997\n",
            "[17/40][300/313]\tLoss_D: 0.3469\tLoss_G: 0.2758\tD(x): 0.8731\tD(G(z)): 0.1821 / 0.1821\n",
            "[18/40][0/313]\tLoss_D: 0.4604\tLoss_G: 0.1923\tD(x): 0.8157\tD(G(z)): 0.1976 / 0.1976\n",
            "[18/40][100/313]\tLoss_D: 0.4839\tLoss_G: 0.1142\tD(x): 0.7989\tD(G(z)): 0.2210 / 0.2087\n",
            "[18/40][200/313]\tLoss_D: 0.3703\tLoss_G: 0.1989\tD(x): 0.8289\tD(G(z)): 0.1616 / 0.1616\n",
            "[18/40][300/313]\tLoss_D: 0.3156\tLoss_G: 0.2271\tD(x): 0.8809\tD(G(z)): 0.1661 / 0.1661\n",
            "[19/40][0/313]\tLoss_D: 0.3969\tLoss_G: 0.2373\tD(x): 0.9055\tD(G(z)): 0.2435 / 0.2435\n",
            "[19/40][100/313]\tLoss_D: 0.4485\tLoss_G: 0.2092\tD(x): 0.8523\tD(G(z)): 0.2421 / 0.2421\n",
            "[19/40][200/313]\tLoss_D: 0.3174\tLoss_G: 0.2629\tD(x): 0.8770\tD(G(z)): 0.1665 / 0.1665\n",
            "[19/40][300/313]\tLoss_D: 0.3715\tLoss_G: 0.2053\tD(x): 0.8188\tD(G(z)): 0.1501 / 0.1501\n",
            "[20/40][0/313]\tLoss_D: 0.3405\tLoss_G: 0.2672\tD(x): 0.8940\tD(G(z)): 0.1873 / 0.1873\n",
            "[20/40][100/313]\tLoss_D: 0.3650\tLoss_G: 0.3764\tD(x): 0.8915\tD(G(z)): 0.2110 / 0.2110\n",
            "[20/40][200/313]\tLoss_D: 0.4650\tLoss_G: 0.2546\tD(x): 0.8528\tD(G(z)): 0.2522 / 0.2522\n",
            "[20/40][300/313]\tLoss_D: 0.3406\tLoss_G: 0.3493\tD(x): 0.9023\tD(G(z)): 0.2010 / 0.2010\n",
            "[21/40][0/313]\tLoss_D: 0.4786\tLoss_G: 0.1282\tD(x): 0.7578\tD(G(z)): 0.1661 / 0.1574\n",
            "[21/40][100/313]\tLoss_D: 0.4274\tLoss_G: 0.2765\tD(x): 0.8521\tD(G(z)): 0.2263 / 0.2263\n",
            "[21/40][200/313]\tLoss_D: 0.4426\tLoss_G: 0.2165\tD(x): 0.7841\tD(G(z)): 0.1663 / 0.1663\n",
            "[21/40][300/313]\tLoss_D: 0.2822\tLoss_G: 0.3438\tD(x): 0.9231\tD(G(z)): 0.1791 / 0.1791\n",
            "[22/40][0/313]\tLoss_D: 0.5269\tLoss_G: 0.2747\tD(x): 0.8089\tD(G(z)): 0.2593 / 0.2398\n",
            "[22/40][100/313]\tLoss_D: 0.4753\tLoss_G: 0.1976\tD(x): 0.8520\tD(G(z)): 0.2522 / 0.2320\n",
            "[22/40][200/313]\tLoss_D: 0.4385\tLoss_G: 0.1297\tD(x): 0.7845\tD(G(z)): 0.1684 / 0.1684\n",
            "[22/40][300/313]\tLoss_D: 0.3280\tLoss_G: 0.3263\tD(x): 0.9016\tD(G(z)): 0.1985 / 0.1985\n",
            "[23/40][0/313]\tLoss_D: 0.4551\tLoss_G: 0.1493\tD(x): 0.8288\tD(G(z)): 0.2251 / 0.2251\n",
            "[23/40][100/313]\tLoss_D: 0.3367\tLoss_G: 0.1756\tD(x): 0.8268\tD(G(z)): 0.1142 / 0.1142\n",
            "[23/40][200/313]\tLoss_D: 0.2966\tLoss_G: 0.2174\tD(x): 0.8776\tD(G(z)): 0.1477 / 0.1477\n",
            "[23/40][300/313]\tLoss_D: 0.4376\tLoss_G: 0.1587\tD(x): 0.8362\tD(G(z)): 0.2139 / 0.2139\n",
            "[24/40][0/313]\tLoss_D: 0.3254\tLoss_G: 0.3856\tD(x): 0.8702\tD(G(z)): 0.1661 / 0.1661\n",
            "[24/40][100/313]\tLoss_D: 0.5354\tLoss_G: 0.2210\tD(x): 0.7909\tD(G(z)): 0.2388 / 0.2206\n",
            "[24/40][200/313]\tLoss_D: 0.3384\tLoss_G: 0.3005\tD(x): 0.9115\tD(G(z)): 0.2013 / 0.2013\n",
            "[24/40][300/313]\tLoss_D: 0.3756\tLoss_G: 0.2821\tD(x): 0.8521\tD(G(z)): 0.1874 / 0.1874\n",
            "[25/40][0/313]\tLoss_D: 0.2740\tLoss_G: 0.2641\tD(x): 0.8795\tD(G(z)): 0.1315 / 0.1315\n",
            "[25/40][100/313]\tLoss_D: 0.4222\tLoss_G: 0.2037\tD(x): 0.8647\tD(G(z)): 0.2327 / 0.2327\n",
            "[25/40][200/313]\tLoss_D: 0.6211\tLoss_G: 0.1621\tD(x): 0.6927\tD(G(z)): 0.1818 / 0.1733\n",
            "[25/40][300/313]\tLoss_D: 0.4568\tLoss_G: 0.2343\tD(x): 0.9001\tD(G(z)): 0.2831 / 0.2831\n",
            "[26/40][0/313]\tLoss_D: 0.5413\tLoss_G: 0.1057\tD(x): 0.7175\tD(G(z)): 0.1712 / 0.1597\n",
            "[26/40][100/313]\tLoss_D: 0.3058\tLoss_G: 0.2999\tD(x): 0.8900\tD(G(z)): 0.1689 / 0.1689\n",
            "[26/40][200/313]\tLoss_D: 0.3853\tLoss_G: 0.1614\tD(x): 0.8395\tD(G(z)): 0.1815 / 0.1815\n",
            "[26/40][300/313]\tLoss_D: 0.3333\tLoss_G: 0.2399\tD(x): 0.8363\tD(G(z)): 0.1321 / 0.1321\n",
            "[27/40][0/313]\tLoss_D: 0.3359\tLoss_G: 0.2327\tD(x): 0.8542\tD(G(z)): 0.1567 / 0.1567\n",
            "[27/40][100/313]\tLoss_D: 0.4472\tLoss_G: 0.2528\tD(x): 0.8131\tD(G(z)): 0.1967 / 0.1967\n",
            "[27/40][200/313]\tLoss_D: 0.2951\tLoss_G: 0.2560\tD(x): 0.8524\tD(G(z)): 0.1221 / 0.1221\n",
            "[27/40][300/313]\tLoss_D: 0.4473\tLoss_G: 0.2479\tD(x): 0.8777\tD(G(z)): 0.2548 / 0.2548\n",
            "[28/40][0/313]\tLoss_D: 0.4224\tLoss_G: 0.1587\tD(x): 0.8585\tD(G(z)): 0.2266 / 0.2266\n",
            "[28/40][100/313]\tLoss_D: 0.2353\tLoss_G: 0.1673\tD(x): 0.8848\tD(G(z)): 0.1034 / 0.1034\n",
            "[28/40][200/313]\tLoss_D: 0.3472\tLoss_G: 0.2421\tD(x): 0.8275\tD(G(z)): 0.1409 / 0.1409\n",
            "[28/40][300/313]\tLoss_D: 0.4329\tLoss_G: 0.2064\tD(x): 0.8629\tD(G(z)): 0.2396 / 0.2396\n",
            "[29/40][0/313]\tLoss_D: 0.3714\tLoss_G: 0.1632\tD(x): 0.8200\tD(G(z)): 0.1479 / 0.1479\n",
            "[29/40][100/313]\tLoss_D: 0.2427\tLoss_G: 0.2830\tD(x): 0.9140\tD(G(z)): 0.1385 / 0.1385\n",
            "[29/40][200/313]\tLoss_D: 0.2973\tLoss_G: 0.2147\tD(x): 0.8655\tD(G(z)): 0.1378 / 0.1378\n",
            "[29/40][300/313]\tLoss_D: 0.4791\tLoss_G: 0.1379\tD(x): 0.8190\tD(G(z)): 0.2241 / 0.2113\n",
            "[30/40][0/313]\tLoss_D: 0.4033\tLoss_G: 0.1525\tD(x): 0.7803\tD(G(z)): 0.1333 / 0.1333\n",
            "[30/40][100/313]\tLoss_D: 0.3053\tLoss_G: 0.3073\tD(x): 0.8687\tD(G(z)): 0.1454 / 0.1454\n",
            "[30/40][200/313]\tLoss_D: 0.3930\tLoss_G: 0.1948\tD(x): 0.8875\tD(G(z)): 0.2312 / 0.2312\n",
            "[30/40][300/313]\tLoss_D: 0.3342\tLoss_G: 0.1870\tD(x): 0.8670\tD(G(z)): 0.1648 / 0.1648\n",
            "[31/40][0/313]\tLoss_D: 0.4938\tLoss_G: 0.1319\tD(x): 0.7838\tD(G(z)): 0.2011 / 0.1891\n",
            "[31/40][100/313]\tLoss_D: 0.3746\tLoss_G: 0.1699\tD(x): 0.8199\tD(G(z)): 0.1542 / 0.1542\n",
            "[31/40][200/313]\tLoss_D: 0.3550\tLoss_G: 0.2787\tD(x): 0.8925\tD(G(z)): 0.2051 / 0.2051\n",
            "[31/40][300/313]\tLoss_D: 0.3784\tLoss_G: 0.2045\tD(x): 0.8749\tD(G(z)): 0.2085 / 0.2085\n",
            "[32/40][0/313]\tLoss_D: 0.4679\tLoss_G: 0.2410\tD(x): 0.8175\tD(G(z)): 0.2202 / 0.2030\n",
            "[32/40][100/313]\tLoss_D: 0.2700\tLoss_G: 0.4308\tD(x): 0.9278\tD(G(z)): 0.1734 / 0.1734\n",
            "[32/40][200/313]\tLoss_D: 0.3573\tLoss_G: 0.1521\tD(x): 0.8614\tD(G(z)): 0.1830 / 0.1830\n",
            "[32/40][300/313]\tLoss_D: 0.2960\tLoss_G: 0.2301\tD(x): 0.8879\tD(G(z)): 0.1562 / 0.1562\n",
            "[33/40][0/313]\tLoss_D: 0.3788\tLoss_G: 0.2187\tD(x): 0.8533\tD(G(z)): 0.1868 / 0.1868\n",
            "[33/40][100/313]\tLoss_D: 0.5877\tLoss_G: 0.1507\tD(x): 0.7547\tD(G(z)): 0.2421 / 0.2158\n",
            "[33/40][200/313]\tLoss_D: 0.3273\tLoss_G: 0.1877\tD(x): 0.8701\tD(G(z)): 0.1690 / 0.1690\n",
            "[33/40][300/313]\tLoss_D: 0.4615\tLoss_G: 0.1674\tD(x): 0.8082\tD(G(z)): 0.2034 / 0.2034\n",
            "[34/40][0/313]\tLoss_D: 0.2936\tLoss_G: 0.3146\tD(x): 0.8794\tD(G(z)): 0.1460 / 0.1460\n",
            "[34/40][100/313]\tLoss_D: 0.3009\tLoss_G: 0.3064\tD(x): 0.9165\tD(G(z)): 0.1877 / 0.1877\n",
            "[34/40][200/313]\tLoss_D: 0.5199\tLoss_G: 0.1412\tD(x): 0.7118\tD(G(z)): 0.1531 / 0.1451\n",
            "[34/40][300/313]\tLoss_D: 0.4414\tLoss_G: 0.1284\tD(x): 0.7640\tD(G(z)): 0.1296 / 0.1296\n",
            "[35/40][0/313]\tLoss_D: 0.3379\tLoss_G: 0.1666\tD(x): 0.8690\tD(G(z)): 0.1732 / 0.1732\n",
            "[35/40][100/313]\tLoss_D: 0.2527\tLoss_G: 0.2485\tD(x): 0.8876\tD(G(z)): 0.1187 / 0.1187\n",
            "[35/40][200/313]\tLoss_D: 0.3722\tLoss_G: 0.1671\tD(x): 0.8805\tD(G(z)): 0.2123 / 0.2123\n",
            "[35/40][300/313]\tLoss_D: 0.2641\tLoss_G: 0.3226\tD(x): 0.9026\tD(G(z)): 0.1445 / 0.1445\n",
            "[36/40][0/313]\tLoss_D: 0.3737\tLoss_G: 0.1832\tD(x): 0.8643\tD(G(z)): 0.1966 / 0.1966\n",
            "[36/40][100/313]\tLoss_D: 0.4710\tLoss_G: 0.3948\tD(x): 0.8954\tD(G(z)): 0.2904 / 0.2904\n",
            "[36/40][200/313]\tLoss_D: 0.3647\tLoss_G: 0.1146\tD(x): 0.8183\tD(G(z)): 0.1446 / 0.1446\n",
            "[36/40][300/313]\tLoss_D: 0.3806\tLoss_G: 0.2440\tD(x): 0.8065\tD(G(z)): 0.1371 / 0.1371\n",
            "[37/40][0/313]\tLoss_D: 0.3469\tLoss_G: 0.3031\tD(x): 0.8986\tD(G(z)): 0.2048 / 0.2048\n",
            "[37/40][100/313]\tLoss_D: 0.4451\tLoss_G: 0.1319\tD(x): 0.8369\tD(G(z)): 0.2105 / 0.2105\n",
            "[37/40][200/313]\tLoss_D: 0.3178\tLoss_G: 0.1422\tD(x): 0.8274\tD(G(z)): 0.1134 / 0.1134\n",
            "[37/40][300/313]\tLoss_D: 0.3699\tLoss_G: 0.1166\tD(x): 0.7957\tD(G(z)): 0.1237 / 0.1237\n",
            "[38/40][0/313]\tLoss_D: 0.2406\tLoss_G: 0.1865\tD(x): 0.8839\tD(G(z)): 0.1058 / 0.1058\n",
            "[38/40][100/313]\tLoss_D: 0.3151\tLoss_G: 0.3533\tD(x): 0.9297\tD(G(z)): 0.2112 / 0.2112\n",
            "[38/40][200/313]\tLoss_D: 0.2716\tLoss_G: 0.3943\tD(x): 0.9057\tD(G(z)): 0.1519 / 0.1519\n",
            "[38/40][300/313]\tLoss_D: 0.3439\tLoss_G: 0.1940\tD(x): 0.8556\tD(G(z)): 0.1650 / 0.1650\n",
            "[39/40][0/313]\tLoss_D: 0.2923\tLoss_G: 0.3147\tD(x): 0.8860\tD(G(z)): 0.1492 / 0.1492\n",
            "[39/40][100/313]\tLoss_D: 0.3656\tLoss_G: 0.3341\tD(x): 0.8665\tD(G(z)): 0.1905 / 0.1905\n",
            "[39/40][200/313]\tLoss_D: 0.3987\tLoss_G: 0.1465\tD(x): 0.7843\tD(G(z)): 0.1189 / 0.1189\n",
            "[39/40][300/313]\tLoss_D: 0.5996\tLoss_G: 0.2046\tD(x): 0.8078\tD(G(z)): 0.3020 / 0.2562\n"
          ],
          "name": "stdout"
        }
      ]
    },
    {
      "cell_type": "markdown",
      "metadata": {
        "id": "zIFvWRSt8_eK"
      },
      "source": [
        "# Visualization\n"
      ]
    },
    {
      "cell_type": "markdown",
      "metadata": {
        "id": "SKz9VrhS3qJX"
      },
      "source": [
        "**Visualize Training Data**"
      ]
    },
    {
      "cell_type": "code",
      "metadata": {
        "id": "hQ3mw3TyT7Yl"
      },
      "source": [
        "\n",
        "import plotly.graph_objects as go\n",
        "import plotly.express as px\n",
        "def visualize_rotate(data):\n",
        "    x_eye, y_eye, z_eye = 1.25, 1.25, 0.8\n",
        "    frames=[]\n",
        "\n",
        "    def rotate_z(x, y, z, theta):\n",
        "        w = x+1j*y\n",
        "        return np.real(np.exp(1j*theta)*w), np.imag(np.exp(1j*theta)*w), z\n",
        "\n",
        "    for t in np.arange(0, 10.26, 0.1):\n",
        "        xe, ye, ze = rotate_z(x_eye, y_eye, z_eye, -t)\n",
        "        frames.append(dict(layout=dict(scene=dict(camera=dict(eye=dict(x=xe, y=ye, z=ze))))))\n",
        "    fig = go.Figure(data=data,\n",
        "                    layout=go.Layout(\n",
        "                        updatemenus=[dict(type='buttons',\n",
        "                                    showactive=False,\n",
        "                                    y=1,\n",
        "                                    x=0.8,\n",
        "                                    xanchor='left',\n",
        "                                    yanchor='bottom',\n",
        "                                    pad=dict(t=45, r=10),\n",
        "                                    buttons=[dict(label='Play',\n",
        "                                                    method='animate',\n",
        "                                                    args=[None, dict(frame=dict(duration=50, redraw=True),\n",
        "                                                                    transition=dict(duration=0),\n",
        "                                                                    fromcurrent=True,\n",
        "                                                                    mode='immediate'\n",
        "                                                                    )]\n",
        "                                                    )\n",
        "                                            ]\n",
        "                                    )\n",
        "                                ]\n",
        "                    ),\n",
        "                    frames=frames\n",
        "            )\n",
        "\n",
        "    return fig\n",
        "\n",
        "\n",
        "def pcshow(xs,ys,zs):\n",
        "    data=[go.Scatter3d(x=xs, y=ys, z=zs,\n",
        "                                   mode='markers')]\n",
        "    fig = visualize_rotate(data)\n",
        "    fig.update_traces(marker=dict(size=2,\n",
        "                      line=dict(width=2,\n",
        "                      color='DarkSlateGrey')),\n",
        "                      selector=dict(mode='markers'))\n",
        "    fig.show()"
      ],
      "execution_count": null,
      "outputs": []
    },
    {
      "cell_type": "code",
      "metadata": {
        "colab": {
          "base_uri": "https://localhost:8080/",
          "height": 542
        },
        "id": "fiaqlnAurmZ1",
        "outputId": "9f17763a-9d5d-46f5-ba9b-1be6a4823caf"
      },
      "source": [
        "pcd = reordering_pcd(o3d.io.read_point_cloud(pcd_files[0]))\n",
        "pcd_array = np.array(pcd.points)\n",
        "kdtree(pcd_array,0,1000)\n",
        "x = pcd_array[:,0]\n",
        "y = pcd_array[:,1]\n",
        "z = pcd_array[:,2]\n",
        "pcshow(x,y,z)"
      ],
      "execution_count": null,
      "outputs": [
        {
          "output_type": "display_data",
          "data": {
            "text/html": [
              "<html>\n",
              "<head><meta charset=\"utf-8\" /></head>\n",
              "<body>\n",
              "    <div>\n",
              "            <script src=\"https://cdnjs.cloudflare.com/ajax/libs/mathjax/2.7.5/MathJax.js?config=TeX-AMS-MML_SVG\"></script><script type=\"text/javascript\">if (window.MathJax) {MathJax.Hub.Config({SVG: {font: \"STIX-Web\"}});}</script>\n",
              "                <script type=\"text/javascript\">window.PlotlyConfig = {MathJaxConfig: 'local'};</script>\n",
              "        <script src=\"https://cdn.plot.ly/plotly-latest.min.js\"></script>    \n",
              "            <div id=\"0ee9a994-04b6-435e-a030-38f803a7b1f1\" class=\"plotly-graph-div\" style=\"height:525px; width:100%;\"></div>\n",
              "            <script type=\"text/javascript\">\n",
              "                \n",
              "                    window.PLOTLYENV=window.PLOTLYENV || {};\n",
              "                    \n",
              "                if (document.getElementById(\"0ee9a994-04b6-435e-a030-38f803a7b1f1\")) {\n",
              "                    Plotly.newPlot(\n",
              "                        '0ee9a994-04b6-435e-a030-38f803a7b1f1',\n",
              "                        [{\"marker\": {\"line\": {\"color\": \"DarkSlateGrey\", \"width\": 2}, \"size\": 2}, \"mode\": \"markers\", \"type\": \"scatter3d\", \"x\": [-0.21798641, -0.25788407, -0.20231132, -0.21281279, -0.23938717, -0.25774331, -0.20651094, -0.20139093, -0.19131927, -0.2009873, -0.20001374, -0.19884456, -0.1926923, -0.19886667, -0.20091488, -0.19929183, -0.33960982, -0.30971131, -0.30234294, -0.29418623, -0.2904609, -0.36550347, -0.38197736, -0.26569246, -0.19206727, -0.25023234, -0.26424896, -0.23625758, -0.20045799, -0.19582314, -0.22070964, -0.32779048, -0.26724924, -0.28181692, -0.28502323, -0.25848545, -0.26366306, -0.27892708, -0.28415571, -0.25040736, -0.21235571, -0.21718646, -0.20866772, -0.23766312, -0.24623604, -0.22119046, -0.20800455, -0.20348644, -0.34459439, -0.36526161, -0.37783392, -0.36566994, -0.35135605, -0.36732328, -0.37851538, -0.33783524, -0.29447387, -0.30837474, -0.31939047, -0.31406327, -0.3024436, -0.33769664, -0.1899309, -0.17433455, -0.18307446, -0.14307466, -0.17751736, -0.14055685, -0.17743201, -0.18223705, -0.13919105, -0.12104286, -0.09418079, -0.10694908, -0.1196174, -0.13407426, -0.12627088, -0.10870104, -0.18544757, -0.17831059, -0.17030091, -0.14185564, -0.17968487, -0.1887063, -0.16223976, -0.18629246, -0.13872323, -0.11984831, -0.09299364, -0.11856589, -0.11262268, -0.09436204, -0.12692581, -0.0980047, -0.10506355, -0.16587382, -0.15173164, -0.16975317, -0.1572522, -0.15116484, -0.17611576, -0.16624972, -0.13360544, -0.1234066, -0.13215548, -0.09169952, -0.09379734, -0.13252054, -0.10571883, -0.09644532, -0.12721324, -0.15915856, -0.16718907, -0.14850274, -0.14733727, -0.17520374, -0.16456169, -0.15683288, -0.14159311, -0.13481274, -0.12948352, -0.12004018, -0.09935358, -0.0960033, -0.12927716, -0.1292052, -0.29855044, -0.30019847, -0.30550423, -0.30550423, -0.3631792, -0.30269245, -0.30550423, -0.29837424, -0.27473184, -0.27644175, -0.2573599, -0.27696876, -0.260009, -0.27622179, -0.28668464, -0.30527672, -0.30524357, -0.29630256, -0.29626255, -0.33318242, -0.2996159, -0.45130302, -0.38951099, -0.29151874, -0.28710233, -0.27700041, -0.25703886, -0.28125775, -0.26946255, -0.2642286, -0.28088109, -0.32542886, -0.42328552, -0.4122884, -0.43636483, -0.43571918, -0.41722727, -0.42524661, -0.44378702, -0.41052273, -0.31168215, -0.34191708, -0.38407714, -0.39569917, -0.39187661, -0.39785098, -0.40529173, -0.34449569, -0.45357479, -0.41886651, -0.38089783, -0.3663227, -0.41048973, -0.40768682, -0.37039672, -0.33157203, -0.29296454, -0.29530161, -0.25706038, -0.32976703, -0.3076912, -0.25711618, -0.25606344, -0.22570422, -0.23164645, -0.21019314, -0.22367806, -0.24666782, -0.21805917, -0.21755271, -0.20219868, -0.18739668, -0.18321335, -0.17605821, -0.1690618, -0.17906289, -0.17636583, -0.16696146, -0.16696146, -0.24887619, -0.20077771, -0.214511, -0.21404432, -0.25288136, -0.22671879, -0.22998303, -0.18566733, -0.16905804, -0.17233697, -0.17935053, -0.17119933, -0.17791931, -0.18166067, -0.22608779, -0.23481939, -0.19238613, -0.17057135, -0.19250864, -0.22090927, -0.1886846, -0.17090931, -0.16770486, -0.15189314, -0.13574427, -0.12164187, -0.09041797, -0.11108571, -0.10879041, -0.09070744, -0.23266367, -0.19361906, -0.22031612, -0.21794, -0.21059545, -0.20329379, -0.16720415, -0.15687666, -0.15606332, -0.13583994, -0.13829336, -0.09335627, -0.10639329, -0.13893222, -0.12441954, -0.31915621, -0.27668463, -0.27943444, -0.29847086, -0.27331728, -0.28055883, -0.2914463, -0.29622658, -0.27314616, -0.24140423, -0.24354894, -0.26310026, -0.26486789, -0.24006972, -0.24928243, -0.25524195, -0.29865906, -0.35687755, -0.372924, -0.37593014, -0.38132626, -0.35764732, -0.36924395, -0.38328538, -0.35043912, -0.3156832, -0.32002405, -0.33386545, -0.33412819, -0.30349935, -0.3170813, -0.32855242, -0.28664832, -0.29750322, -0.31288911, -0.32211294, -0.28245858, -0.27184966, -0.27316916, -0.30483539, -0.27179645, -0.23957829, -0.23902054, -0.25895266, -0.23834109, -0.24031997, -0.23503078, -0.24305408, -0.2792936, -0.33943084, -0.3660982, -0.38820272, -0.34539471, -0.33344872, -0.37030985, -0.35229997, -0.31272093, -0.30731817, -0.2778234, -0.30714368, -0.28229928, -0.26280431, -0.24567642, -0.22876927, -0.2277438, -0.21817579, -0.21531483, -0.20851282, -0.22197034, -0.22178482, -0.2180658, -0.20277435, -0.20256246, -0.20087538, -0.17990848, -0.17765448, -0.19020833, -0.18764514, -0.17612345, -0.17526061, -0.16461177, -0.16284308, -0.1600597, -0.15685109, -0.17507552, -0.16300399, -0.15121351, -0.14891097, -0.14735583, -0.136346, -0.1325609, -0.1347417, -0.1417328, -0.13855297, -0.17524901, -0.22042749, -0.20855003, -0.20851613, -0.21468317, -0.20591467, -0.19909432, -0.20014077, -0.19635003, -0.18746576, -0.17680537, -0.17562674, -0.18703313, -0.18359132, -0.18530673, -0.17313081, -0.16478633, -0.22723978, -0.16182563, -0.15684636, -0.22821956, -0.15174579, -0.18274446, -0.17981103, -0.15034719, -0.1392328, -0.13828504, -0.13214021, -0.13329634, -0.13805565, -0.13024696, -0.39211419, -0.43103211, -0.45331549, -0.45665979, -0.44658082, -0.44090149, -0.45655604, -0.45707108, -0.4282316, -0.39657467, -0.39978028, -0.41546071, -0.4197789, -0.39772327, -0.41026811, -0.42507373, -0.41653413, -0.40513886, -0.3822383, -0.36546979, -0.37847258, -0.39845302, -0.39820301, -0.36396903, -0.34516518, -0.32303459, -0.29651394, -0.26883135, -0.31200806, -0.32679595, -0.31228736, -0.27164259, -0.44163152, -0.40103622, -0.41229283, -0.42144972, -0.4318208, -0.40198652, -0.42007386, -0.4000351, -0.38684512, -0.35829732, -0.33841105, -0.35479517, -0.30767836, -0.30607869, -0.26598241, -0.27141592, -0.44054758, -0.44989326, -0.44299429, -0.40662553, -0.38200261, -0.37566123, -0.41097224, -0.33976398, -0.33401028, -0.31970199, -0.31651477, -0.29031776, -0.27194089, -0.3034292, -0.2880469, -0.26307314, -0.12424627, -0.25116415, -0.22975919, -0.12628368, -0.12528069, -0.1231604, -0.25561151, -0.1122197, -0.10990567, -0.09737587, -0.09584702, -0.09122113, -0.1116988, -0.10970882, -0.102432, -0.22901111, -0.20323263, -0.19411174, -0.17377746, -0.16481727, -0.22315306, -0.20993073, -0.17991511, -0.16282633, -0.14033972, -0.09718429, -0.09231102, -0.13754847, -0.13297121, -0.12132547, -0.1035202, -0.24997325, -0.22113179, -0.17651595, -0.2148897, -0.14577914, -0.1897324, -0.14948797, -0.12472173, -0.11623762, -0.10906763, -0.09610569, -0.09508392, -0.11779252, -0.10705361, -0.11518267, -0.13683375, -0.23617468, -0.24404184, -0.19509158, -0.19909586, -0.2400715, -0.25546049, -0.19746615, -0.15998945, -0.12203117, -0.13978156, -0.13781015, -0.15398184, -0.14105954, -0.11274077, -0.08988329, -0.08494206, -0.0856735, -0.07245352, -0.08514604, -0.0785197, -0.08878472, -0.08861072, -0.068817, -0.06489999, -0.06456436, -0.06456436, -0.0660121, -0.00166502, -0.06850078, -0.06668166, -0.06732421, -0.08705762, 0.16252287, 0.16133034, -0.07614054, -0.080492, -0.08898031, 0.1635679, 0.16384699, 0.17382098, 0.16406732, 0.16447225, 0.16584275, 0.16572843, 0.16443756, 0.16517216, -0.07517089, -0.03762503, -0.04289816, -0.05351413, -0.03609059, 0.00631502, 0.00896811, 0.05929613, 0.07061979, 0.08301651, 0.11196558, 0.07283627, 0.11224674, 0.14972083, 0.154027, 0.14796072, 0.16067696, -0.04408947, -0.07498938, -0.05251016, -0.04246702, 0.07768676, 0.06906867, 0.04456422, 0.08754352, 0.1185271, 0.10776128, 0.11621607, 0.14026052, 0.15151363, 0.1482057, 0.17577105, 0.25034179, 0.19975654, 0.19067951, 0.20502494, 0.2320517, 0.24404667, 0.19975098, 0.25138768, 0.25689101, 0.28674259, 0.29541531, 0.29897863, 0.26030123, 0.28156361, 0.29452822, 0.18799638, 0.18996055, 0.21677009, 0.2576416, 0.19744013, 0.18592383, 0.2673179, 0.2531864, 0.27091682, 0.29905856, 0.28908503, 0.2773356, 0.29523324, 0.29852147, 0.28455154, 0.20623891, 0.19378743, 0.21887541, 0.18939784, 0.20768527, 0.23649644, 0.21058348, 0.20850843, 0.23973253, 0.3083498, 0.26045232, 0.26628805, 0.31906382, 0.37140006, 0.4221987, 0.38254635, 0.27473438, 0.2782677, 0.26322329, 0.21810204, 0.18779724, 0.29205454, 0.27249592, 0.22132078, 0.29563129, 0.29899155, 0.29851922, 0.30961998, 0.33013796, 0.34430325, 0.36795576, 0.22824604, 0.07897184, 0.0764738, 0.08390642, 0.06886075, 0.07845601, 0.06882402, 0.06819778, 0.08683643, 0.12073512, 0.10605617, 0.12621361, 0.08729906, 0.11168945, 0.11096602, 0.10719324, 0.06624239, 0.06715676, 0.07838657, 0.08006689, 0.0665243, 0.07045343, 0.07117699, 0.09187109, 0.09197282, 0.09732165, 0.11910759, 0.12527991, 0.12673553, 0.09594049, 0.09693135, 0.13137494, 0.09575588, -0.06131565, -0.04851553, -0.05355167, -0.01457788, 0.00603305, -0.01297043, -0.00664155, 0.04222272, 0.05347645, 0.05883044, 0.08890112, 0.09050971, 0.13126265, 0.12190818, 0.12862361, -0.01589744, -0.08747182, -0.07237421, -0.0487899, -0.06060096, -0.00085979, -0.05966138, -0.03410202, 0.0019868, 0.04917811, 0.03921178, 0.07209263, 0.06809743, 0.10386467, 0.11002116, 0.13268369, 0.1403759, 0.15025194, 0.18057339, 0.15637715, 0.17765057, 0.13663229, 0.14782683, 0.18580777, 0.18722061, 0.18895544, 0.1962584, 0.2370467, 0.18581953, 0.19436233, 0.20456684, 0.20478495, 0.16202728, 0.18321304, 0.15771957, 0.1762296, 0.17167306, 0.16525668, 0.14508207, 0.18336217, 0.20181455, 0.20047063, 0.1886773, 0.2037506, 0.20162087, 0.19449598, 0.3475086, 0.17738832, 0.17047934, 0.14792624, 0.20711279, 0.21861037, 0.24415478, 0.25452314, 0.26351975, 0.30545156, 0.30714059, 0.29693658, 0.31707884, 0.34352656, 0.36121033, 0.34412389, 0.38148166, 0.17584942, 0.1448295, 0.15943443, 0.19150567, 0.22446941, 0.21338213, 0.2132399, 0.23962131, 0.27949649, 0.25207059, 0.2461306, 0.28373706, 0.32302464, 0.33464459, 0.39627992, 0.04705485, 0.03060764, 0.02839294, -0.07250192, 0.05902005, 0.01423196, -0.03157589, 0.09095363, 0.09695766, 0.12267611, 0.174338, 0.1307273, 0.14040354, 0.13971762, 0.14590144, 0.08006268, 0.02415073, -0.07710342, 0.02061952, 0.06464511, 0.09271113, 0.08238426, 0.06611032, 0.10033205, 0.10070474, 0.10406441, 0.11453178, 0.13832931, 0.14014887, 0.14282007, 0.13969461, 0.15987041, -0.05626888, -0.05600102, -0.05443662, -0.04916804, -0.01863577, -0.02577412, -0.00545715, -0.00472405, 0.0012837, 0.0227602, 0.03885616, 0.05087892, 0.0555365, 0.0556225, 0.09490876, -0.05010051, -0.04859078, -0.07173409, -0.04151678, -0.04136623, -0.02018991, -0.03299431, -0.00972735, 0.00754528, 0.02041357, 0.03022531, 0.00843248, 0.04453259, 0.17574835, 0.16629551, 0.17849694, 0.21045079, 0.28520995, 0.33611483, 0.25394767, 0.21553673, 0.23161855, 0.29284644, 0.33783278, 0.36737908, 0.37969646, 0.41862205, 0.39438937, 0.34873731, 0.41458791, 0.42678284, 0.40053969, 0.44011992, 0.44251971, 0.40783843, 0.44945555, 0.43840063, 0.36867988, 0.42750533, 0.45015212, 0.45445271, 0.4560492, 0.45260445, 0.45707108, 0.45138588, 0.45354489, 0.38908167, 0.19115017, 0.18530813, 0.21747157, 0.21979055, 0.27530095, 0.23136782, 0.22077176, 0.27677752, 0.30388276, 0.30710353, 0.30289137, 0.34628681, 0.36087907, 0.38614592, 0.35647834, 0.19759937, 0.22580307, 0.22413105, 0.22888963, 0.26178917, 0.28107677, 0.27332914, 0.27962799, 0.31893028, 0.3297496, 0.335365, 0.34467472, 0.37845613, 0.4118069, 0.42707757, 0.39585264, -0.08871699, -0.08143007, -0.06783858, -0.06746932, -0.08553659, -0.0772392, -0.07517355, -0.06719351, -0.04849627, -0.03325909, -0.03640152, -0.01925233, -0.06478714, -0.06342095, -0.05178626, -0.05150709, -0.08839859, -0.08753077, -0.0438905, -0.04666673, -0.07091601, -0.06838683, -0.05898434, -0.04303102, -0.02492353, -0.03810783, -0.02428864, -0.03893026, -0.03993688, -0.02764051, -0.02756448, -0.05478071, -0.08570611, -0.07913499, -0.0765081, -0.08599057, -0.08622339, -0.08559877, -0.08436195, -0.07567457, -0.07411139, -0.06391056, -0.06258929, -0.06415447, -0.07285444, -0.0625609, -0.05247715, -0.0515527, -0.04923476, -0.08931448, -0.07310819, -0.043922, -0.05021637, -0.05117243, -0.08184885, -0.04197946, -0.03505259, -0.0410813, -0.02283564, -0.02304433, -0.03687211, -0.0234138, -0.01617078, 0.02332393, 0.02199321, 0.32176985, 0.23073978, 0.23818143, 0.29940891, 0.25822972, 0.34143588, 0.41336081, 0.41089206, 0.39307282, 0.36163008, 0.42951814, 0.41785115, 0.39287816, 0.30223415, 0.02086716, 0.02701972, 0.06197395, 0.0294054, 0.10811882, 0.08724161, 0.02698775, 0.12735719, 0.23413628, 0.19802309, 0.15633042, 0.28015479, 0.23973717, 0.18657939, 0.36960748, 0.05791408, 0.02285515, 0.08522378, 0.09097225, 0.13589695, 0.10729328, 0.15129782, 0.17521838, 0.18747708, 0.2979581, 0.19158807, 0.31599112, 0.42590307, 0.35673823, 0.32016613, 0.00984197, 0.02753194, -0.0025354, 0.00131531, 0.04394092, 0.07209967, 0.05462208, 0.09164346, 0.10012867, 0.13408753, 0.15360105, 0.13538178, 0.19621411, 0.35044909, 0.20397647], \"y\": [-0.15993947, -0.15993947, -0.38104658, -0.15993947, -0.15818361, -0.1537805, -0.15993947, -0.2547069, -0.5, -0.45260147, -0.43661374, -0.35761136, -0.15993947, -0.30266605, -0.20434219, -0.24042725, -0.15993947, -0.15993947, -0.15993947, -0.15993947, -0.15993947, -0.1537657, -0.1497749, -0.15993947, -0.18948069, -0.15993947, -0.15993947, -0.15993947, -0.15993947, -0.15993947, -0.15993947, -0.13333977, -0.11384398, -0.086836, -0.12857227, -0.070518, -0.02223427, -0.04095387, -0.00252397, -0.11638936, -0.07428429, -0.128355, -0.0636954, -0.05087253, 0.00234019, 0.0009026, 0.00213128, -0.04553741, -0.10904257, -0.1113442, -0.0730692, -0.04927694, -0.0254994, 0.00951243, -0.02049661, -0.04610177, -0.04763086, -0.10640184, -0.07296592, -0.03502197, 0.00026048, 0.00563661, 0.00232289, -0.49344939, -0.43686128, -0.5, -0.38280917, -0.26758742, -0.22159036, -0.26590247, -0.41518476, -0.48644434, -0.42921538, -0.5, -0.36162553, -0.3079699, -0.22143413, -0.18392537, -0.5, -0.44164006, -0.37926834, -0.45498976, -0.33734263, -0.28905372, -0.1950738, -0.15993947, -0.23583186, -0.5, -0.44757088, -0.38292429, -0.32457438, -0.24847329, -0.16962816, -0.15993947, -0.15993947, -0.13810108, -0.15993947, -0.15993947, -0.09466234, -0.0636954, -0.0636954, -0.0636954, -0.0636954, -0.15993947, -0.15993947, -0.15993947, -0.08019403, -0.06420572, -0.0636954, -0.0636954, -0.0636954, -0.0636954, -0.15993947, -0.15993947, -0.0636954, -0.02375205, -0.00209015, -0.0390187, -0.03435545, -0.15993947, -0.0636954, -0.15993947, -0.0636954, -0.0636954, -0.05004284, -0.00560878, -0.44031062, -0.49018631, -0.32549793, -0.27445808, -0.15993947, -0.21465222, -0.1739476, -0.39441186, -0.48200268, -0.41536611, -0.5, -0.35852761, -0.23937895, -0.19103352, -0.28514487, -0.47772721, -0.42600011, -0.38998902, -0.23189701, -0.17918747, -0.15993947, -0.17226816, -0.16996812, -0.49694736, -0.43598054, -0.34947643, -0.45567315, -0.28957689, -0.19875784, -0.23938564, -0.17918747, -0.15993947, -0.09968535, -0.15993947, -0.15993947, -0.07330585, -0.05996901, 0.00063358, -0.03013666, -0.12108451, -0.15993947, -0.15993947, -0.15993947, -0.13114447, -0.05345942, -0.0917995, -0.01466562, -0.15993947, -0.09921223, -0.1439779, -0.12407673, -0.08151229, -0.02858589, -0.07571789, -0.02777505, -0.13180316, -0.15993947, -0.09228697, -0.09084223, -0.06581248, -0.02471689, -0.01448276, -0.13993425, -0.44846922, -0.5, -0.5, -0.38434838, -0.30851387, -0.27470695, -0.23347179, -0.33505133, -0.37275178, -0.46936042, -0.41041702, -0.34287741, -0.28122127, -0.23566161, -0.30152362, -0.38546213, -0.5, -0.5, -0.46184256, -0.41356944, -0.39331648, -0.29892829, -0.35190587, -0.36896625, -0.5, -0.45872919, -0.41829578, -0.33930811, -0.22767566, -0.29122646, -0.21757897, -0.19359158, -0.20178689, -0.19107086, -0.18981497, -0.15993947, -0.16054101, -0.17403954, -0.15993947, -0.15993947, -0.15993947, -0.15993947, -0.15993947, -0.05066489, 0.00730113, 0.00943737, -0.15993947, -0.15993947, -0.15993947, -0.10894876, -0.06487934, -0.02071351, -0.05393647, 0.00760686, -0.1238505, -0.15993947, -0.17362282, -0.17918747, -0.15993947, -0.0271868, -0.07710122, 0.01240797, 0.03547733, 0.0767599, 0.09165683, 0.1270674, 0.16197575, 0.19939362, 0.14585916, 0.22641829, 0.12096214, 0.04297397, 0.09155424, 0.18085944, 0.22255469, 0.1859068, 0.24711026, 0.0483986, 0.06063342, 0.08444492, 0.04299666, 0.12059358, 0.21735655, 0.15918203, 0.2443032, 0.12557773, 0.12143637, 0.06475948, 0.0846864, 0.1675845, 0.23108937, 0.20287199, 0.22881292, 0.25188756, 0.29642383, 0.27391247, 0.3076287, 0.32243276, 0.35548975, 0.38060371, 0.34346822, 0.28935021, 0.27102424, 0.31495171, 0.32175759, 0.35841565, 0.39821364, 0.41834257, 0.42457476, 0.39313619, 0.27670249, 0.27220558, 0.31354697, 0.31804073, 0.3541458, 0.32470917, 0.35957486, 0.40270219, 0.37011973, 0.40726513, 0.38671286, 0.42016376, 0.4265565, 0.44322827, 0.06477109, 0.14169076, 0.08764299, 0.03838675, 0.14300695, 0.26631915, 0.22238802, 0.17581986, 0.21296602, 0.09460852, 0.04256978, 0.08096533, 0.12962294, 0.24670334, 0.1572616, 0.18006817, 0.03424466, 0.15566466, 0.08924374, 0.03944741, 0.18721978, 0.22178168, 0.222304, 0.24972211, 0.02168412, 0.11516322, 0.03204655, 0.06959544, 0.12116569, 0.15340684, 0.22791144, 0.2702333, 0.31833516, 0.27806016, 0.33176096, 0.37346381, 0.42082166, 0.3840793, 0.44434347, 0.34284997, 0.30075786, 0.35842745, 0.31537649, 0.38139561, 0.4236388, 0.46464338, 0.40210909, 0.45732136, 0.44547798, 0.30697802, 0.35603935, 0.45147872, 0.46538606, 0.47815031, 0.47672502, 0.29655427, 0.36652361, 0.27320962, 0.31548463, 0.40469019, 0.44574009, 0.5, 0.19778865, 0.06880881, 0.06471381, 0.01484848, 0.10685287, 0.16068969, 0.15142744, 0.197827, 0.12968841, 0.02455471, 0.09139844, 0.05140219, 0.09591891, 0.1403885, 0.19798922, 0.18788035, 0.11524105, 0.06675881, 0.0171134, 0.06237004, 0.11826543, 0.16780615, 0.2222307, 0.20546312, 0.01424999, 0.06070325, 0.01898008, 0.08972652, 0.10181979, 0.14193626, 0.19087231, 0.16849219, 0.22274944, 0.23107438, 0.27107106, 0.22819035, 0.27255112, 0.33114428, 0.32793556, 0.35741136, 0.36072745, 0.37545282, 0.39188734, 0.38149272, 0.40233566, 0.40999818, 0.42622279, 0.41105394, 0.33176991, 0.2828112, 0.24605757, 0.26266651, 0.29855691, 0.36318977, 0.34021366, 0.35148803, 0.23805342, 0.32970636, 0.28938287, 0.23024584, 0.33950205, 0.38849124, 0.36664806, 0.2618152, 0.03415968, 0.05053203, 0.16774693, 0.16852698, 0.2302513, 0.27198195, 0.21587326, 0.12148095, 0.07689833, 0.066152, 0.11976615, 0.16941609, 0.18849856, 0.26752711, 0.22172374, 0.12394537, 0.02881472, 0.09413982, 0.13574345, 0.19008709, 0.27402643, 0.23181398, 0.26655865, 0.05730373, 0.0904483, 0.03403245, 0.1030018, 0.14931773, 0.24738593, 0.19916564, 0.27737477, 0.43889464, 0.43976448, 0.44346751, 0.4582299, 0.48378991, 0.46083204, 0.46328547, 0.43756039, 0.3138785, 0.35301631, 0.29642045, 0.38913416, 0.39993883, 0.4457481, 0.48872059, 0.45072679, 0.3636774, 0.30981367, 0.31706842, 0.3799425, 0.41162189, 0.38966549, 0.41130468, 0.35863566, 0.37006421, 0.28775845, 0.32959017, 0.38871005, 0.41743786, 0.40167643, 0.23329321, -0.37904497, -0.5, -0.45205541, -0.32850811, -0.15993947, -0.27317612, -0.2163413, -0.24149734, -0.3500312, -0.30172603, -0.41336837, -0.24483083, -0.15993947, -0.19581977, -0.20300434, -0.49362796, -0.40606516, -0.42706332, -0.47016108, -0.36017804, -0.31234262, -0.1996393, -0.33702294, -0.21925435, -0.38256051, -0.39566973, -0.44713548, -0.3164929, -0.21843071, -0.26138294, -0.26221728, -0.15993947, -0.15993947, -0.15993947, -0.15993947, -0.15993947, -0.15993947, -0.15993947, -0.15993947, -0.15993947, -0.15993947, -0.15993947, -0.15993947, -0.15993947, -0.15993947, -0.15993947, -0.15993947, -0.15993947, -0.15993947, -0.15993947, -0.15993947, -0.15993947, -0.15993947, -0.15993947, -0.15993947, -0.15993947, -0.15993947, -0.15993947, -0.15993947, -0.15993947, -0.15993947, -0.15993947, -0.3009365, -0.48585232, -0.4674388, -0.5, -0.39817673, -0.3670445, -0.28631248, -0.33849919, -0.5, -0.42276719, -0.49411845, -0.44219805, -0.38638793, -0.32550871, -0.36787485, -0.30025714, -0.5, -0.47013297, -0.5, -0.46582125, -0.40157427, -0.33988279, -0.3755554, -0.32594115, -0.42199528, -0.48358932, -0.46241846, -0.5, -0.42182065, -0.34759999, -0.28518369, -0.26948343, -0.15993947, -0.22844257, -0.17683241, -0.15993947, -0.15993947, -0.15993947, -0.15993947, -0.17396201, -0.15993947, -0.15993947, -0.15993947, -0.15993947, -0.15993947, -0.15993947, -0.15993947, -0.22979939, -0.26927818, -0.23819363, -0.23736652, -0.20990238, -0.16190891, -0.17932564, -0.1642145, -0.16963807, -0.25688493, -0.21291469, -0.15993947, -0.15993947, -0.15993947, -0.15993947, -0.43459011, -0.46120396, -0.38725936, -0.5, -0.35132535, -0.22225789, -0.28360415, -0.18922399, -0.32410624, -0.44575408, -0.49983723, -0.5, -0.42354045, -0.22702011, -0.26823086, -0.37090218, -0.40710157, -0.46364931, -0.43644992, -0.38000983, -0.31120671, -0.26872601, -0.22162876, -0.18888945, -0.24255531, -0.5, -0.41762174, -0.46025192, -0.36291543, -0.29631386, -0.33764745, -0.21341962, -0.18093397, -0.15993947, -0.15993947, -0.15993947, -0.15993947, -0.15993947, -0.15993947, -0.15993947, -0.15993947, -0.15993947, -0.15993947, -0.15993947, -0.15993947, -0.15993947, -0.15993947, -0.15993947, -0.15993947, -0.15993947, -0.15993947, -0.17746782, -0.15993947, -0.15993947, -0.15993947, -0.15993947, -0.15993947, -0.15993947, -0.15993947, -0.16487052, -0.15993947, -0.15993947, -0.15993947, -0.32664836, -0.39240192, -0.48692924, -0.27566659, -0.24680875, -0.15993947, -0.16092855, -0.20542679, -0.488836, -0.43201135, -0.32824278, -0.37922699, -0.27933925, -0.19533258, -0.23871618, -0.19013828, -0.40851875, -0.5, -0.39307181, -0.5, -0.34390633, -0.25267038, -0.19217318, -0.3012079, -0.30500999, -0.48227069, -0.35348941, -0.43646247, -0.2954042, -0.24917805, -0.19896343, -0.15993947, -0.15993947, -0.15993947, -0.15993947, -0.15993947, -0.15993947, -0.15993947, -0.15993947, -0.15993947, -0.15993947, -0.15993947, -0.15993947, -0.15993947, -0.15993947, -0.15993947, -0.15993947, -0.15993947, -0.15993947, -0.15993947, -0.15993947, -0.15993947, -0.15993947, -0.15993947, -0.15993947, -0.15993947, -0.15993947, -0.15993947, -0.15993947, -0.15993947, -0.15993947, -0.15993947, -0.15993947, -0.13601606, -0.15993947, -0.15993947, -0.11897923, -0.08493067, -0.07727161, -0.11668122, -0.0636954, -0.09798871, -0.13329056, -0.13524598, -0.06646531, -0.0636954, -0.0636954, -0.0636954, -0.0636954, -0.15993947, -0.0636954, -0.15993947, -0.0636954, -0.0636954, -0.0636954, -0.0636954, -0.0636954, -0.0636954, -0.0636954, -0.0636954, -0.0636954, -0.0636954, -0.0636954, -0.0636954, -0.0636954, -0.0636954, -0.0636954, -0.0636954, -0.0636954, -0.0636954, -0.0636954, -0.0636954, -0.0636954, -0.0636954, -0.0636954, -0.0636954, -0.0636954, -0.0636954, -0.0636954, -0.0636954, -0.0636954, -0.0636954, -0.0636954, -0.0636954, -0.0636954, -0.0636954, -0.0636954, -0.0636954, -0.0636954, -0.0636954, -0.0636954, -0.0636954, -0.0636954, -0.0636954, -0.0636954, -0.0636954, -0.1490111, -0.14893718, -0.12105777, -0.11919573, -0.10970264, -0.07253859, -0.10715011, -0.15993947, -0.11163151, -0.15348757, -0.11360514, -0.09251978, -0.08528785, -0.06686482, -0.07382333, -0.15993947, -0.15105331, -0.10886383, -0.15993947, -0.08421042, -0.0636954, -0.0636954, -0.0636954, -0.15178687, -0.15010362, -0.13656611, -0.12743571, -0.08965849, -0.08229617, -0.06448269, -0.0636954, -0.0636954, -0.0636954, -0.0636954, -0.0636954, -0.0636954, -0.0636954, -0.0636954, -0.0636954, -0.0636954, -0.0636954, -0.0636954, -0.0636954, -0.0636954, -0.0636954, -0.0636954, -0.0636954, -0.0636954, -0.0636954, -0.0636954, -0.0636954, -0.0636954, -0.0636954, -0.0636954, -0.0636954, -0.0636954, -0.0636954, -0.0636954, -0.0636954, -0.0636954, -0.0636954, -0.0636954, -0.0636954, -0.02369225, -0.0636954, -0.01172651, 0.09654371, 0.02500049, 0.11584493, -0.0636954, -0.0636954, -0.0636954, -0.0636954, -0.0636954, 0.04032712, 0.10059603, 0.12328598, 0.06356613, -0.05694094, -0.09733072, -0.13534772, -0.0533701, -0.00704416, 0.13478622, 0.06186881, -0.01438237, -0.02325551, -0.06646325, 0.01825002, 0.05352251, 0.10510697, 0.09483237, 0.14360629, 0.16194165, 0.27663262, 0.17060884, 0.21681436, 0.31956436, 0.42931418, 0.47186782, 0.44163925, 0.35012157, 0.28650765, 0.19128985, 0.24342124, 0.32664094, 0.40071764, 0.37706909, 0.40408475, 0.35703619, 0.20616045, 0.23332797, 0.17541457, 0.2611243, 0.30297644, 0.37398058, 0.31297461, 0.16304172, 0.2117375, 0.24341772, 0.20031529, 0.2813591, 0.31023169, 0.32784921, -0.10172063, -0.15993947, -0.15993947, -0.09554489, -0.0636954, -0.0636954, -0.0636954, -0.0636954, -0.14868036, -0.15993947, -0.12570599, -0.14486823, -0.11614573, -0.09933845, -0.06696537, -0.06648363, -0.13464747, -0.15993947, -0.15993947, -0.15762106, -0.12527168, -0.1135956, -0.07651643, -0.06619053, -0.06876324, -0.1213592, -0.11147099, -0.10164393, -0.07779595, -0.0636954, -0.06967267, -0.0636954, -0.0636954, -0.0636954, -0.0636954, -0.0636954, -0.0636954, -0.0636954, -0.0636954, -0.0636954, -0.0636954, -0.0636954, -0.0636954, -0.0636954, -0.0636954, -0.0636954, -0.0636954, -0.0636954, -0.0636954, -0.0636954, -0.0636954, -0.0636954, -0.0636954, -0.0636954, -0.0636954, -0.0636954, -0.0636954, -0.0636954, -0.0636954, -0.0636954, -0.0636954, -0.0636954], \"z\": [-0.24727842, -0.19269527, -0.15712834, -0.16206522, -0.29039124, -0.24896616, -0.20784125, -0.18474008, -0.18690222, -0.18624689, -0.14855136, -0.19424604, -0.3172106, -0.19416348, -0.18651726, -0.14585642, -0.04941817, -0.01717996, 0.04018503, -0.08824388, -0.14385136, 0.01119081, 0.05096244, 0.00654811, -0.131533, -0.11966309, 0.06228107, -0.05071495, -0.10216987, -0.06151114, 0.00251937, -0.07985673, -0.22601673, -0.19084711, -0.18310637, -0.24717448, -0.23467456, -0.19782384, -0.18520076, -0.26667677, -0.30882579, -0.30553138, -0.21727355, -0.27841845, -0.27674727, -0.22581388, -0.18370538, -0.16927703, -0.03928836, 0.01060691, 0.04095926, 0.01159269, -0.02296421, 0.01558423, 0.04260445, -0.05560644, -0.16029044, -0.12673063, -0.10013621, -0.11299726, -0.14104972, -0.05594106, -0.12598811, -0.2258217, -0.21794203, -0.18771451, -0.22349912, -0.23848761, -0.22358448, -0.21877944, -0.23848761, -0.2375033, -0.22630851, -0.16699793, -0.23712134, -0.23848761, -0.23848761, -0.23419629, -0.13696016, -0.11572626, -0.11028151, -0.09994484, -0.11710056, -0.12612211, -0.10562721, 0.03311905, -0.09994484, -0.11409416, -0.11280916, -0.10159303, -0.10318568, -0.11201913, -0.09994484, -0.0731925, 0.01042284, -0.34052487, -0.27244114, -0.23703927, -0.34640453, -0.3011044, -0.24262953, -0.18991983, -0.2424189, -0.36703829, -0.32109759, -0.29401701, -0.38018485, -0.36327069, -0.30850304, -0.20743766, -0.16157815, -0.12577971, -0.02576071, 0.01735535, -0.07068447, -0.0789577, -0.0449729, -0.02029134, 0.02837603, -0.05695709, -0.0039103, 0.06504208, -0.05725298, -0.11861422, 0.06770637, 0.06793618, 0.14449575, 0.14735004, 0.1805884, 0.18166731, 0.12528243, 0.15548402, 0.17286504, 0.14419057, 0.11733957, 0.11832664, 0.1600605, 0.11863087, 0.10975651, 0.11819967, 0.12758782, 0.18506948, 0.18519319, 0.20960025, 0.20966955, 0.28284278, 0.21123927, 0.23474716, 0.25968418, 0.21778028, 0.2221967, 0.2315516, 0.24124087, 0.22804128, 0.23590333, 0.23892498, 0.30362087, 0.08725812, 0.1506895, 0.15773067, 0.19804592, 0.18070713, 0.13606355, 0.15542401, 0.20018468, 0.1198773, 0.13201389, 0.1804178, 0.20065899, 0.08408993, 0.07486143, 0.08928489, 0.10724851, 0.22102937, 0.23383036, 0.24783736, 0.26316014, 0.26904213, 0.25121792, 0.25234907, 0.267398, 0.28306623, 0.25678624, 0.29770365, 0.31313642, 0.28379467, 0.29270366, 0.3131139, 0.31353875, 0.10620692, 0.11834093, 0.15243467, 0.10674982, 0.10618183, 0.10825536, 0.10839107, 0.11476296, 0.12597307, 0.13015646, 0.14078424, 0.15814217, 0.13558031, 0.14025146, 0.16812404, 0.17757498, 0.22528438, 0.23025749, 0.24099501, 0.24087, 0.24235491, 0.24426513, 0.24437109, 0.22249909, 0.1838587, 0.20297208, 0.21511941, 0.20003567, 0.21264057, 0.21849242, 0.2440961, 0.10582934, 0.12098356, 0.15250895, 0.2293404, 0.07099325, 0.12468514, 0.19895337, 0.24966354, 0.09557837, 0.16523911, 0.20350975, 0.10219849, 0.12579982, 0.13312974, 0.19087675, 0.26081832, 0.28106173, 0.32159706, 0.32892398, 0.33188797, 0.33483466, 0.34939913, 0.35356692, 0.35389516, 0.27444941, 0.36106647, 0.37983582, 0.3169532, 0.36080864, 0.36666544, -0.10070177, -0.20323761, -0.19659895, -0.15064079, -0.21136713, -0.19388443, -0.16759966, -0.156059, -0.21178025, -0.28841233, -0.28323452, -0.23603329, -0.23176584, -0.2861038, -0.26939259, -0.25500499, -0.15018644, -0.00963408, 0.02910561, 0.03636309, 0.04939053, -0.00777569, 0.02022116, 0.05412029, -0.02517788, -0.10908638, -0.09860662, -0.06519041, -0.0645561, -0.1385009, -0.10571106, -0.07801724, -0.17918305, -0.1529769, -0.11583195, -0.09356358, -0.18929801, -0.16747542, -0.11630683, -0.10685221, -0.21503876, -0.28453444, -0.28275327, -0.24604652, -0.24358011, -0.16168031, -0.12326209, -0.08018798, -0.07379312, -0.05175432, 0.01262661, 0.06599185, -0.03735622, -0.02043346, 0.02279447, 0.0390548, 0.06971708, -0.05229406, -0.03348348, -0.01290636, 0.04247308, -0.00117852, 0.05685737, -0.25001639, -0.24674161, -0.2161867, -0.20705037, -0.18532849, -0.22830439, -0.22771193, -0.21583543, -0.167003, -0.16632633, -0.16093873, -0.09398206, -0.08678402, -0.12687408, -0.11868867, -0.08189476, -0.07913931, -0.04513282, -0.03948461, -0.03059604, -0.02034952, -0.07854827, -0.03999846, -0.00234618, 0.00500685, 0.00997311, 0.0451324, 0.05721994, 0.05025567, 0.02792996, 0.03808459, -0.0791023, -0.22337737, -0.18544732, -0.18533984, -0.20503396, -0.17703145, -0.15525162, -0.1428704, -0.14648796, -0.11811582, -0.08407304, -0.08030856, -0.11673485, -0.10574323, -0.10550229, -0.07233814, -0.04568817, -0.04117497, -0.03623542, -0.02033494, 0.01667973, -0.00404447, 0.02357897, 0.06406106, 0.00042035, 0.03591308, 0.0389402, 0.05856337, 0.05487105, 0.03967356, 0.06687403, 0.07543499, 0.16939149, 0.22318852, 0.23258537, 0.20692953, 0.19321838, 0.23101193, 0.23225535, 0.16263045, 0.08620358, 0.09394263, 0.13179868, 0.14222376, 0.08897655, 0.11926259, 0.15500664, 0.24877862, 0.25337734, 0.26261917, 0.26938633, 0.26413888, 0.2560755, 0.25617639, 0.26999198, 0.27758053, 0.28651163, 0.2972144, 0.30838609, 0.29096154, 0.28499368, 0.29084882, 0.30725157, 0.19498083, 0.09697475, 0.12415072, 0.14625747, 0.17129558, 0.10779157, 0.14632373, 0.18168787, 0.13921884, 0.10458558, 0.13571436, 0.17136931, 0.17227532, 0.11361736, 0.14291946, 0.19275453, 0.20294237, 0.21492652, 0.23810026, 0.25277737, 0.26271428, 0.21523003, 0.23663685, 0.25755411, 0.28208224, 0.28596288, 0.28914279, 0.29971495, 0.29779639, 0.21968221, 0.26447997, 0.31070989, 0.08377227, 0.31551593, 0.32415419, 0.0772659, 0.08046889, 0.08723994, 0.31372113, 0.12217848, 0.12956822, 0.16958147, 0.17446376, 0.18923629, 0.12384194, 0.13019684, 0.15343499, 0.32445608, 0.33485934, 0.3385402, 0.34674638, 0.35036238, 0.32682018, 0.33215623, 0.34426944, 0.35116585, 0.36024063, 0.37765659, 0.37962327, 0.36136708, 0.36321429, 0.36791409, 0.37509965, 0.1021306, 0.16576341, 0.20269954, 0.07723524, 0.11363105, 0.13368811, 0.17724231, 0.08225359, 0.10934747, 0.13224409, 0.17363772, 0.17690048, 0.10438173, 0.13867668, 0.14203119, 0.21683193, 0.29080167, 0.31839023, 0.33814477, 0.29003502, 0.2196517, 0.24907119, 0.24915696, 0.32859518, 0.33493409, 0.36046588, 0.36095985, 0.30083325, 0.27046952, 0.30543458, 0.19350863, -0.21828808, -0.21709314, -0.20144141, -0.21849211, -0.35121187, -0.22212972, -0.22195577, -0.19420704, -0.17958825, -0.16521542, -0.16054376, -0.15469377, -0.30318704, -0.19302688, -0.15219491, -0.14979687, -0.11803005, -0.11083793, -0.10638581, -0.13060395, -0.12459526, -0.11610748, -0.11473939, -0.0726695, -0.13583247, -0.07184701, -0.07033533, -0.06643505, -0.12181432, -0.11798288, -0.06772251, -0.21600881, -0.36736274, -0.32634225, -0.25180559, -0.20286176, -0.36417162, -0.23623441, -0.22724337, -0.33776246, -0.37983193, -0.34242106, -0.29515458, -0.27923689, -0.35540159, -0.29083653, -0.22284658, -0.18146841, -0.16376545, -0.13014849, -0.06217982, -0.1062045, -0.17301692, -0.12293555, -0.07156741, -0.04138986, -0.17736046, -0.11047191, -0.06945714, -0.13859701, -0.09724339, -0.04593211, -0.13817373, -0.16043219, -0.15687481, -0.13390953, -0.15930505, -0.16349648, -0.1621191, -0.1568716, -0.10764395, -0.1585638, -0.1341173, -0.11694087, -0.10364314, -0.156595, -0.14041275, -0.12025135, -0.09352777, -0.03723097, -0.03496735, -0.03031942, -0.03291202, -0.04012397, -0.03590578, -0.0287799, -0.03798352, -0.09165684, -0.05838992, -0.0522492, -0.07082907, -0.08310077, -0.05102585, -0.15963033, -0.33796502, -0.16301623, -0.15089388, -0.27258346, -0.30520763, -0.2257716, -0.18621872, -0.16327516, -0.27666854, -0.23109526, -0.19023414, -0.20098037, -0.18974568, -0.1528545, -0.15051344, -0.14724207, -0.1437087, -0.03354186, -0.02564116, -0.03848013, -0.12491692, -0.03896934, -0.02495385, -0.07231457, -0.08485513, -0.08309237, -0.02932681, -0.14095759, -0.09741491, -0.0652925, -0.02495355, 0.21762435, 0.22195128, 0.2286446, 0.2393424, 0.21851784, 0.23947944, 0.24181618, 0.2089469, 0.1904783, 0.19525312, 0.22945239, 0.2084843, 0.1929021, 0.19309595, 0.19459655, 0.25854118, 0.27076422, 0.29782888, 0.30073912, 0.26840358, 0.28306892, 0.28534221, 0.31255597, 0.31265774, 0.29860683, 0.32555287, 0.32720627, 0.32750473, 0.31537451, 0.31594659, 0.32750473, 0.20120066, 0.01152286, 0.06677818, 0.16054011, 0.13960346, -0.0159458, 0.04768971, 0.09274163, 0.08419925, -0.00535329, 0.03881887, 0.1618415, 0.08153425, -0.00086944, 0.04046815, 0.09917857, 0.18842848, 0.24943542, 0.34551701, 0.3971868, 0.20329793, 0.2729776, 0.27792425, 0.33128535, 0.23181818, 0.21001743, 0.26459855, 0.28692805, 0.32911907, 0.34685809, 0.39936305, 0.18896197, 0.18896197, 0.19046739, 0.20532838, 0.19210866, 0.03058181, 0.18896197, 0.18981757, 0.21056277, 0.2119756, 0.21371044, 0.22490425, -0.02495316, 0.21057453, 0.22161974, 0.24830133, 0.25332669, 0.26643174, 0.30849961, 0.31122513, 0.31471514, 0.31734597, 0.32105063, 0.32738464, 0.30835046, 0.27843938, 0.2834526, 0.30303468, 0.27121737, 0.27916186, 0.29461545, 0.00366829, -0.01904132, 0.09081249, 0.13431312, 0.10918313, 0.01838841, 0.07472893, 0.1198793, 0.00591617, 0.01575754, 0.06836339, 0.14303853, 0.10709998, 0.04368301, 0.07940032, 0.1418416, 0.15625076, 0.17629261, 0.34647066, 0.39052615, 0.3140309, 0.15991902, 0.2160119, 0.36477025, 0.33312564, 0.20180624, 0.23263088, 0.27708919, 0.26427258, 0.17591231, 0.2219693, 0.05582094, -0.40762172, -0.33215642, -0.27221452, -0.38506633, -0.40583994, -0.40494805, -0.39444767, -0.36914955, -0.40019053, -0.3963607, -0.38866755, -0.39516177, -0.35048432, -0.30924362, -0.26130977, -0.22347111, -0.1963457, -0.00732972, 0.02544737, -0.08758892, -0.1239502, -0.03312441, 0.00465916, 0.06237681, -0.17168672, -0.07929784, -0.00327165, -0.21648345, -0.13929527, -0.09560846, 0.03354293, -0.03321081, -0.38012937, -0.32353212, -0.18258494, -0.25431785, -0.36351593, -0.29488621, -0.14598233, -0.21427954, -0.32869546, -0.28208678, -0.22276895, -0.17706761, -0.34765416, -0.30618488, -0.29298341, -0.13794583, -0.06785454, 0.03925744, 0.07443486, 0.01356835, -0.10362493, -0.02949138, 0.04927226, -0.00983293, -0.05948559, 0.03741499, 0.08751192, -0.12319785, 0.00848372, 0.07837552, -0.16930227, -0.37265299, -0.32975009, -0.28837627, -0.34769093, -0.36973426, -0.3605052, -0.32536764, -0.23749614, -0.24944756, -0.23411057, -0.17608442, -0.21581569, -0.27265938, -0.18896743, -0.15002292, -0.11116693, -0.10743095, -0.0997672, 0.00733872, 0.09649659, -0.11086775, -0.06586935, -0.00462368, 0.08651914, -0.06165917, 0.00205072, 0.05139258, -0.01258648, -0.0714531, 0.03792183, 0.05648464, -0.37509849, -0.3008384, -0.25107626, -0.13515102, -0.32021762, -0.31060791, -0.18156665, -0.16119682, -0.29239248, -0.24947653, -0.20900957, -0.14777788, -0.21717891, -0.14100144, -0.10636139, -0.10162003, -0.05923284, 0.02228069, 0.06514887, -0.03946118, -0.09976129, 0.00962718, 0.06884928, -0.05798463, -0.00395457, 0.04075397, 0.08855197, 0.01030497, -0.07983357, 0.07102793, 0.09751697, 0.16553661, 0.22050352, 0.22269193, 0.26508645, 0.20738958, 0.23388686, 0.24048339, 0.11069358, 0.18388154, 0.24829123, 0.29373194, 0.14902173, 0.27365185, 0.27801471, 0.31516948, 0.31606098, 0.38120218, 0.3815524, 0.39916402, 0.33151841, 0.38825751, 0.3892782, 0.3930727, 0.34312886, 0.40095417, 0.4014977, 0.40707462, 0.35622443, 0.35300982, 0.39227764, 0.40575261, 0.30560685, 0.20684823, 0.22783273, 0.23622158, 0.20593982, 0.20519452, 0.21203753, 0.26621738, 0.23888316, 0.24387534, 0.27645115, 0.28067056, 0.27567223, 0.24788831, 0.28076096, 0.31296149, 0.31591516, 0.32331753, 0.38083256, 0.38737283, 0.34028356, 0.32018281, 0.36113346, 0.38384542, 0.34648696, 0.36860755, 0.40029772, 0.40762172, 0.4069553, 0.36279702, 0.40577541, 0.40761057, 0.1191399, 0.16803381, 0.30254511, 0.17786939, 0.11254702, 0.2453454, 0.24750212, 0.28404837, 0.11450363, 0.18643224, 0.224003, 0.26505486, 0.14716031, 0.17175942, 0.22441344, 0.32091928, 0.33771598, 0.38676095, 0.40695131, 0.40722607, 0.40656202, 0.40673814, 0.40724647, 0.40639971, 0.36460434, 0.37909518, 0.39582486, 0.34168586, 0.34170431, 0.3836871, 0.18354563, 0.14126898, 0.1628322, 0.19250406, 0.10285036, 0.10731812, 0.14483959, 0.16462954, 0.20776906, 0.11635433, 0.11685123, 0.16694917, 0.16133825, 0.12542079, 0.1377355, 0.20123462, 0.20841528, 0.2696159, 0.32479389, 0.37688218, 0.35458, 0.24630766, 0.31242639, 0.36832671, 0.27893825, 0.21732753, 0.29111593, 0.33681544, 0.24434679, 0.24853069, 0.30906588]}],\n",
              "                        {\"template\": {\"data\": {\"bar\": [{\"error_x\": {\"color\": \"#2a3f5f\"}, \"error_y\": {\"color\": \"#2a3f5f\"}, \"marker\": {\"line\": {\"color\": \"#E5ECF6\", \"width\": 0.5}}, \"type\": \"bar\"}], \"barpolar\": [{\"marker\": {\"line\": {\"color\": \"#E5ECF6\", \"width\": 0.5}}, \"type\": \"barpolar\"}], \"carpet\": [{\"aaxis\": {\"endlinecolor\": \"#2a3f5f\", \"gridcolor\": \"white\", \"linecolor\": \"white\", \"minorgridcolor\": \"white\", \"startlinecolor\": \"#2a3f5f\"}, \"baxis\": {\"endlinecolor\": \"#2a3f5f\", \"gridcolor\": \"white\", \"linecolor\": \"white\", \"minorgridcolor\": \"white\", \"startlinecolor\": \"#2a3f5f\"}, \"type\": \"carpet\"}], \"choropleth\": [{\"colorbar\": {\"outlinewidth\": 0, \"ticks\": \"\"}, \"type\": \"choropleth\"}], \"contour\": [{\"colorbar\": {\"outlinewidth\": 0, \"ticks\": \"\"}, \"colorscale\": [[0.0, \"#0d0887\"], [0.1111111111111111, \"#46039f\"], [0.2222222222222222, \"#7201a8\"], [0.3333333333333333, \"#9c179e\"], [0.4444444444444444, \"#bd3786\"], [0.5555555555555556, \"#d8576b\"], [0.6666666666666666, \"#ed7953\"], [0.7777777777777778, \"#fb9f3a\"], [0.8888888888888888, \"#fdca26\"], [1.0, \"#f0f921\"]], \"type\": \"contour\"}], \"contourcarpet\": [{\"colorbar\": {\"outlinewidth\": 0, \"ticks\": \"\"}, \"type\": \"contourcarpet\"}], \"heatmap\": [{\"colorbar\": {\"outlinewidth\": 0, \"ticks\": \"\"}, \"colorscale\": [[0.0, \"#0d0887\"], [0.1111111111111111, \"#46039f\"], [0.2222222222222222, \"#7201a8\"], [0.3333333333333333, \"#9c179e\"], [0.4444444444444444, \"#bd3786\"], [0.5555555555555556, \"#d8576b\"], [0.6666666666666666, \"#ed7953\"], [0.7777777777777778, \"#fb9f3a\"], [0.8888888888888888, \"#fdca26\"], [1.0, \"#f0f921\"]], \"type\": \"heatmap\"}], \"heatmapgl\": [{\"colorbar\": {\"outlinewidth\": 0, \"ticks\": \"\"}, \"colorscale\": [[0.0, \"#0d0887\"], [0.1111111111111111, \"#46039f\"], [0.2222222222222222, \"#7201a8\"], [0.3333333333333333, \"#9c179e\"], [0.4444444444444444, \"#bd3786\"], [0.5555555555555556, \"#d8576b\"], [0.6666666666666666, \"#ed7953\"], [0.7777777777777778, \"#fb9f3a\"], [0.8888888888888888, \"#fdca26\"], [1.0, \"#f0f921\"]], \"type\": \"heatmapgl\"}], \"histogram\": [{\"marker\": {\"colorbar\": {\"outlinewidth\": 0, \"ticks\": \"\"}}, \"type\": \"histogram\"}], \"histogram2d\": [{\"colorbar\": {\"outlinewidth\": 0, \"ticks\": \"\"}, \"colorscale\": [[0.0, \"#0d0887\"], [0.1111111111111111, \"#46039f\"], [0.2222222222222222, \"#7201a8\"], [0.3333333333333333, \"#9c179e\"], [0.4444444444444444, \"#bd3786\"], [0.5555555555555556, \"#d8576b\"], [0.6666666666666666, \"#ed7953\"], [0.7777777777777778, \"#fb9f3a\"], [0.8888888888888888, \"#fdca26\"], [1.0, \"#f0f921\"]], \"type\": \"histogram2d\"}], \"histogram2dcontour\": [{\"colorbar\": {\"outlinewidth\": 0, \"ticks\": \"\"}, \"colorscale\": [[0.0, \"#0d0887\"], [0.1111111111111111, \"#46039f\"], [0.2222222222222222, \"#7201a8\"], [0.3333333333333333, \"#9c179e\"], [0.4444444444444444, \"#bd3786\"], [0.5555555555555556, \"#d8576b\"], [0.6666666666666666, \"#ed7953\"], [0.7777777777777778, \"#fb9f3a\"], [0.8888888888888888, \"#fdca26\"], [1.0, \"#f0f921\"]], \"type\": \"histogram2dcontour\"}], \"mesh3d\": [{\"colorbar\": {\"outlinewidth\": 0, \"ticks\": \"\"}, \"type\": \"mesh3d\"}], \"parcoords\": [{\"line\": {\"colorbar\": {\"outlinewidth\": 0, \"ticks\": \"\"}}, \"type\": \"parcoords\"}], \"pie\": [{\"automargin\": true, \"type\": \"pie\"}], \"scatter\": [{\"marker\": {\"colorbar\": {\"outlinewidth\": 0, \"ticks\": \"\"}}, \"type\": \"scatter\"}], \"scatter3d\": [{\"line\": {\"colorbar\": {\"outlinewidth\": 0, \"ticks\": \"\"}}, \"marker\": {\"colorbar\": {\"outlinewidth\": 0, \"ticks\": \"\"}}, \"type\": \"scatter3d\"}], \"scattercarpet\": [{\"marker\": {\"colorbar\": {\"outlinewidth\": 0, \"ticks\": \"\"}}, \"type\": \"scattercarpet\"}], \"scattergeo\": [{\"marker\": {\"colorbar\": {\"outlinewidth\": 0, \"ticks\": \"\"}}, \"type\": \"scattergeo\"}], \"scattergl\": [{\"marker\": {\"colorbar\": {\"outlinewidth\": 0, \"ticks\": \"\"}}, \"type\": \"scattergl\"}], \"scattermapbox\": [{\"marker\": {\"colorbar\": {\"outlinewidth\": 0, \"ticks\": \"\"}}, \"type\": \"scattermapbox\"}], \"scatterpolar\": [{\"marker\": {\"colorbar\": {\"outlinewidth\": 0, \"ticks\": \"\"}}, \"type\": \"scatterpolar\"}], \"scatterpolargl\": [{\"marker\": {\"colorbar\": {\"outlinewidth\": 0, \"ticks\": \"\"}}, \"type\": \"scatterpolargl\"}], \"scatterternary\": [{\"marker\": {\"colorbar\": {\"outlinewidth\": 0, \"ticks\": \"\"}}, \"type\": \"scatterternary\"}], \"surface\": [{\"colorbar\": {\"outlinewidth\": 0, \"ticks\": \"\"}, \"colorscale\": [[0.0, \"#0d0887\"], [0.1111111111111111, \"#46039f\"], [0.2222222222222222, \"#7201a8\"], [0.3333333333333333, \"#9c179e\"], [0.4444444444444444, \"#bd3786\"], [0.5555555555555556, \"#d8576b\"], [0.6666666666666666, \"#ed7953\"], [0.7777777777777778, \"#fb9f3a\"], [0.8888888888888888, \"#fdca26\"], [1.0, \"#f0f921\"]], \"type\": \"surface\"}], \"table\": [{\"cells\": {\"fill\": {\"color\": \"#EBF0F8\"}, \"line\": {\"color\": \"white\"}}, \"header\": {\"fill\": {\"color\": \"#C8D4E3\"}, \"line\": {\"color\": \"white\"}}, \"type\": \"table\"}]}, \"layout\": {\"annotationdefaults\": {\"arrowcolor\": \"#2a3f5f\", \"arrowhead\": 0, \"arrowwidth\": 1}, \"coloraxis\": {\"colorbar\": {\"outlinewidth\": 0, \"ticks\": \"\"}}, \"colorscale\": {\"diverging\": [[0, \"#8e0152\"], [0.1, \"#c51b7d\"], [0.2, \"#de77ae\"], [0.3, \"#f1b6da\"], [0.4, \"#fde0ef\"], [0.5, \"#f7f7f7\"], [0.6, \"#e6f5d0\"], [0.7, \"#b8e186\"], [0.8, \"#7fbc41\"], [0.9, \"#4d9221\"], [1, \"#276419\"]], \"sequential\": [[0.0, \"#0d0887\"], [0.1111111111111111, \"#46039f\"], [0.2222222222222222, \"#7201a8\"], [0.3333333333333333, \"#9c179e\"], [0.4444444444444444, \"#bd3786\"], [0.5555555555555556, \"#d8576b\"], [0.6666666666666666, \"#ed7953\"], [0.7777777777777778, \"#fb9f3a\"], [0.8888888888888888, \"#fdca26\"], [1.0, \"#f0f921\"]], \"sequentialminus\": [[0.0, \"#0d0887\"], [0.1111111111111111, \"#46039f\"], [0.2222222222222222, \"#7201a8\"], [0.3333333333333333, \"#9c179e\"], [0.4444444444444444, \"#bd3786\"], [0.5555555555555556, \"#d8576b\"], [0.6666666666666666, \"#ed7953\"], [0.7777777777777778, \"#fb9f3a\"], [0.8888888888888888, \"#fdca26\"], [1.0, \"#f0f921\"]]}, \"colorway\": [\"#636efa\", \"#EF553B\", \"#00cc96\", \"#ab63fa\", \"#FFA15A\", \"#19d3f3\", \"#FF6692\", \"#B6E880\", \"#FF97FF\", \"#FECB52\"], \"font\": {\"color\": \"#2a3f5f\"}, \"geo\": {\"bgcolor\": \"white\", \"lakecolor\": \"white\", \"landcolor\": \"#E5ECF6\", \"showlakes\": true, \"showland\": true, \"subunitcolor\": \"white\"}, \"hoverlabel\": {\"align\": \"left\"}, \"hovermode\": \"closest\", \"mapbox\": {\"style\": \"light\"}, \"paper_bgcolor\": \"white\", \"plot_bgcolor\": \"#E5ECF6\", \"polar\": {\"angularaxis\": {\"gridcolor\": \"white\", \"linecolor\": \"white\", \"ticks\": \"\"}, \"bgcolor\": \"#E5ECF6\", \"radialaxis\": {\"gridcolor\": \"white\", \"linecolor\": \"white\", \"ticks\": \"\"}}, \"scene\": {\"xaxis\": {\"backgroundcolor\": \"#E5ECF6\", \"gridcolor\": \"white\", \"gridwidth\": 2, \"linecolor\": \"white\", \"showbackground\": true, \"ticks\": \"\", \"zerolinecolor\": \"white\"}, \"yaxis\": {\"backgroundcolor\": \"#E5ECF6\", \"gridcolor\": \"white\", \"gridwidth\": 2, \"linecolor\": \"white\", \"showbackground\": true, \"ticks\": \"\", \"zerolinecolor\": \"white\"}, \"zaxis\": {\"backgroundcolor\": \"#E5ECF6\", \"gridcolor\": \"white\", \"gridwidth\": 2, \"linecolor\": \"white\", \"showbackground\": true, \"ticks\": \"\", \"zerolinecolor\": \"white\"}}, \"shapedefaults\": {\"line\": {\"color\": \"#2a3f5f\"}}, \"ternary\": {\"aaxis\": {\"gridcolor\": \"white\", \"linecolor\": \"white\", \"ticks\": \"\"}, \"baxis\": {\"gridcolor\": \"white\", \"linecolor\": \"white\", \"ticks\": \"\"}, \"bgcolor\": \"#E5ECF6\", \"caxis\": {\"gridcolor\": \"white\", \"linecolor\": \"white\", \"ticks\": \"\"}}, \"title\": {\"x\": 0.05}, \"xaxis\": {\"automargin\": true, \"gridcolor\": \"white\", \"linecolor\": \"white\", \"ticks\": \"\", \"title\": {\"standoff\": 15}, \"zerolinecolor\": \"white\", \"zerolinewidth\": 2}, \"yaxis\": {\"automargin\": true, \"gridcolor\": \"white\", \"linecolor\": \"white\", \"ticks\": \"\", \"title\": {\"standoff\": 15}, \"zerolinecolor\": \"white\", \"zerolinewidth\": 2}}}, \"updatemenus\": [{\"buttons\": [{\"args\": [null, {\"frame\": {\"duration\": 50, \"redraw\": true}, \"fromcurrent\": true, \"mode\": \"immediate\", \"transition\": {\"duration\": 0}}], \"label\": \"Play\", \"method\": \"animate\"}], \"pad\": {\"r\": 10, \"t\": 45}, \"showactive\": false, \"type\": \"buttons\", \"x\": 0.8, \"xanchor\": \"left\", \"y\": 1, \"yanchor\": \"bottom\"}]},\n",
              "                        {\"responsive\": true}\n",
              "                    ).then(function(){\n",
              "                            Plotly.addFrames('0ee9a994-04b6-435e-a030-38f803a7b1f1', [{\"layout\": {\"scene\": {\"camera\": {\"eye\": {\"x\": 1.25, \"y\": 1.25, \"z\": 0.8}}}}}, {\"layout\": {\"scene\": {\"camera\": {\"eye\": {\"x\": 1.3685469774060675, \"y\": 1.1189634357889973, \"z\": 0.8}}}}}, {\"layout\": {\"scene\": {\"camera\": {\"eye\": {\"x\": 1.4734198857953784, \"y\": 0.9767465588077254, \"z\": 0.8}}}}}, {\"layout\": {\"scene\": {\"camera\": {\"eye\": {\"x\": 1.5635708697336819, \"y\": 0.824770353080333, \"z\": 0.8}}}}}, {\"layout\": {\"scene\": {\"camera\": {\"eye\": {\"x\": 1.6380991703894194, \"y\": 0.6645533146177932, \"z\": 0.8}}}}}, {\"layout\": {\"scene\": {\"camera\": {\"eye\": {\"x\": 1.6962601256182197, \"y\": 0.4976962791077122, \"z\": 0.8}}}}}, {\"layout\": {\"scene\": {\"camera\": {\"eye\": {\"x\": 1.737472610380892, \"y\": 0.32586642689330336, \"z\": 0.8}}}}}, {\"layout\": {\"scene\": {\"camera\": {\"eye\": {\"x\": 1.7613248431527242, \"y\": 0.15078062505849654, \"z\": 0.8}}}}}, {\"layout\": {\"scene\": {\"camera\": {\"eye\": {\"x\": 1.7675785003083602, \"y\": -0.025811726940446755, \"z\": 0.8}}}}}, {\"layout\": {\"scene\": {\"camera\": {\"eye\": {\"x\": 1.7561710973726847, \"y\": -0.20214617669602375, \"z\": 0.8}}}}}, {\"layout\": {\"scene\": {\"camera\": {\"eye\": {\"x\": 1.7272166133450453, \"y\": -0.376460848674696, \"z\": 0.8}}}}}, {\"layout\": {\"scene\": {\"camera\": {\"eye\": {\"x\": 1.6810043518587658, \"y\": -0.5470140482948226, \"z\": 0.8}}}}}, {\"layout\": {\"scene\": {\"camera\": {\"eye\": {\"x\": 1.6179960505548747, \"y\": -0.7121016643631912, \"z\": 0.8}}}}}, {\"layout\": {\"scene\": {\"camera\": {\"eye\": {\"x\": 1.5388212675522255, \"y\": -0.870074195990757, \"z\": 0.8}}}}}, {\"layout\": {\"scene\": {\"camera\": {\"eye\": {\"x\": 1.4442710911108763, \"y\": -1.0193532338602744, \"z\": 0.8}}}}}, {\"layout\": {\"scene\": {\"camera\": {\"eye\": {\"x\": 1.3352902353396967, \"y\": -1.1584472311704395, \"z\": 0.8}}}}}, {\"layout\": {\"scene\": {\"camera\": {\"eye\": {\"x\": 1.2129676009252703, \"y\": -1.2859664066784924, \"z\": 0.8}}}}}, {\"layout\": {\"scene\": {\"camera\": {\"eye\": {\"x\": 1.0785253951961797, \"y\": -1.4006366309349918, \"z\": 0.8}}}}}, {\"layout\": {\"scene\": {\"camera\": {\"eye\": {\"x\": 0.9333069202313851, \"y\": -1.5013121569641028, \"z\": 0.8}}}}}, {\"layout\": {\"scene\": {\"camera\": {\"eye\": {\"x\": 0.7787631510298885, \"y\": -1.5869870681886475, \"z\": 0.8}}}}}, {\"layout\": {\"scene\": {\"camera\": {\"eye\": {\"x\": 0.6164382378481742, \"y\": -1.6568053292160303, \"z\": 0.8}}}}}, {\"layout\": {\"scene\": {\"camera\": {\"eye\": {\"x\": 0.44795407756127026, \"y\": -1.710069339060914, \"z\": 0.8}}}}}, {\"layout\": {\"scene\": {\"camera\": {\"eye\": {\"x\": 0.27499410820530534, \"y\": -1.7462469013436699, \"z\": 0.8}}}}}, {\"layout\": {\"scene\": {\"camera\": {\"eye\": {\"x\": 0.09928648862111944, \"y\": -1.7649765418206806, \"z\": 0.8}}}}}, {\"layout\": {\"scene\": {\"camera\": {\"eye\": {\"x\": -0.07741316873761894, \"y\": -1.7660711201154955, \"z\": 0.8}}}}}, {\"layout\": {\"scene\": {\"camera\": {\"eye\": {\"x\": -0.25333933930372143, \"y\": -1.7495196995636126, \"z\": 0.8}}}}}, {\"layout\": {\"scene\": {\"camera\": {\"eye\": {\"x\": -0.4267342269343539, \"y\": -1.7154876564880144, \"z\": 0.8}}}}}, {\"layout\": {\"scene\": {\"camera\": {\"eye\": {\"x\": -0.5958653272290393, \"y\": -1.6643150278136138, \"z\": 0.8}}}}}, {\"layout\": {\"scene\": {\"camera\": {\"eye\": {\"x\": -0.7590427381409421, \"y\": -1.5965131135307038, \"z\": 0.8}}}}}, {\"layout\": {\"scene\": {\"camera\": {\"eye\": {\"x\": -0.9146360449195108, \"y\": -1.5127593679544658, \"z\": 0.8}}}}}, {\"layout\": {\"scene\": {\"camera\": {\"eye\": {\"x\": -1.0610906106757227, \"y\": -1.4138906308253907, \"z\": 0.8}}}}}, {\"layout\": {\"scene\": {\"camera\": {\"eye\": {\"x\": -1.196943109799986, \"y\": -1.3008947658832124, \"z\": 0.8}}}}}, {\"layout\": {\"scene\": {\"camera\": {\"eye\": {\"x\": -1.3208361490279166, \"y\": -1.1749007904589663, \"z\": 0.8}}}}}, {\"layout\": {\"scene\": {\"camera\": {\"eye\": {\"x\": -1.431531830065142, \"y\": -1.0371675947070202, \"z\": 0.8}}}}}, {\"layout\": {\"scene\": {\"camera\": {\"eye\": {\"x\": -1.5279241182578656, \"y\": -0.8890713631907865, \"z\": 0.8}}}}}, {\"layout\": {\"scene\": {\"camera\": {\"eye\": {\"x\": -1.6090498937255202, \"y\": -0.7320918245014705, \"z\": 0.8}}}}}, {\"layout\": {\"scene\": {\"camera\": {\"eye\": {\"x\": -1.6740985745362496, \"y\": -0.5677974662991182, \"z\": 0.8}}}}}, {\"layout\": {\"scene\": {\"camera\": {\"eye\": {\"x\": -1.7224202157736266, \"y\": -0.39782986350239324, \"z\": 0.8}}}}}, {\"layout\": {\"scene\": {\"camera\": {\"eye\": {\"x\": -1.7535320035714197, \"y\": -0.22388727621462157, \"z\": 0.8}}}}}, {\"layout\": {\"scene\": {\"camera\": {\"eye\": {\"x\": -1.7671230792301427, \"y\": -0.04770768127020719, \"z\": 0.8}}}}}, {\"layout\": {\"scene\": {\"camera\": {\"eye\": {\"x\": -1.7630576452144253, \"y\": 0.1289485930553954, \"z\": 0.8}}}}}, {\"layout\": {\"scene\": {\"camera\": {\"eye\": {\"x\": -1.741376321997099, \"y\": 0.30431645566392784, \"z\": 0.8}}}}}, {\"layout\": {\"scene\": {\"camera\": {\"eye\": {\"x\": -1.7022957421928595, \"y\": 0.47664368884111097, \"z\": 0.8}}}}}, {\"layout\": {\"scene\": {\"camera\": {\"eye\": {\"x\": -1.646206386036788, \"y\": 0.6442084558368493, \"z\": 0.8}}}}}, {\"layout\": {\"scene\": {\"camera\": {\"eye\": {\"x\": -1.573668679834919, \"y\": 0.8053365048888708, \"z\": 0.8}}}}}, {\"layout\": {\"scene\": {\"camera\": {\"eye\": {\"x\": -1.4854073963698458, \"y\": 0.9584178977928967, \"z\": 0.8}}}}}, {\"layout\": {\"scene\": {\"camera\": {\"eye\": {\"x\": -1.3823044132106481, \"y\": 1.101923095873013, \"z\": 0.8}}}}}, {\"layout\": {\"scene\": {\"camera\": {\"eye\": {\"x\": -1.2653899012837393, \"y\": 1.2344182426265127, \"z\": 0.8}}}}}, {\"layout\": {\"scene\": {\"camera\": {\"eye\": {\"x\": -1.1358320317454915, \"y\": 1.3545794903441097, \"z\": 0.8}}}}}, {\"layout\": {\"scene\": {\"camera\": {\"eye\": {\"x\": -0.9949253040021958, \"y\": 1.4612062275586353, \"z\": 0.8}}}}}, {\"layout\": {\"scene\": {\"camera\": {\"eye\": {\"x\": -0.8440776114998902, \"y\": 1.553233075157956, \"z\": 0.8}}}}}, {\"layout\": {\"scene\": {\"camera\": {\"eye\": {\"x\": -0.6847961745184389, \"y\": 1.6297405313008917, \"z\": 0.8}}}}}, {\"layout\": {\"scene\": {\"camera\": {\"eye\": {\"x\": -0.5186724805247199, \"y\": 1.6899641587756626, \"z\": 0.8}}}}}, {\"layout\": {\"scene\": {\"camera\": {\"eye\": {\"x\": -0.347366382555924, \"y\": 1.733302223003828, \"z\": 0.8}}}}}, {\"layout\": {\"scene\": {\"camera\": {\"eye\": {\"x\": -0.17258951451669058, \"y\": 1.7593217043732774, \"z\": 0.8}}}}}, {\"layout\": {\"scene\": {\"camera\": {\"eye\": {\"x\": 0.0039118109010850555, \"y\": 1.767762624827065, \"z\": 0.8}}}}}, {\"layout\": {\"scene\": {\"camera\": {\"eye\": {\"x\": 0.18037405079741164, \"y\": 1.7585406454782138, \"z\": 0.8}}}}}, {\"layout\": {\"scene\": {\"camera\": {\"eye\": {\"x\": 0.3550340528019027, \"y\": 1.7317479092959966, \"z\": 0.8}}}}}, {\"layout\": {\"scene\": {\"camera\": {\"eye\": {\"x\": 0.5261466719094534, \"y\": 1.6876521204438448, \"z\": 0.8}}}}}, {\"layout\": {\"scene\": {\"camera\": {\"eye\": {\"x\": 0.6920022073922499, \"y\": 1.62669386946784, \"z\": 0.8}}}}}, {\"layout\": {\"scene\": {\"camera\": {\"eye\": {\"x\": 0.8509434855643001, \"y\": 1.5494822310616148, \"z\": 0.8}}}}}, {\"layout\": {\"scene\": {\"camera\": {\"eye\": {\"x\": 1.001382417713112, \"y\": 1.4567886783933495, \"z\": 0.8}}}}}, {\"layout\": {\"scene\": {\"camera\": {\"eye\": {\"x\": 1.1418158677571515, \"y\": 1.3495393748008924, \"z\": 0.8}}}}}, {\"layout\": {\"scene\": {\"camera\": {\"eye\": {\"x\": 1.270840671084707, \"y\": 1.2288059198738308, \"z\": 0.8}}}}}, {\"layout\": {\"scene\": {\"camera\": {\"eye\": {\"x\": 1.3871676545108578, \"y\": 1.0957946423846239, \"z\": 0.8}}}}}, {\"layout\": {\"scene\": {\"camera\": {\"eye\": {\"x\": 1.4896345172697987, \"y\": 0.9518345470502599, \"z\": 0.8}}}}}, {\"layout\": {\"scene\": {\"camera\": {\"eye\": {\"x\": 1.577217444339885, \"y\": 0.7983640355564382, \"z\": 0.8}}}}}, {\"layout\": {\"scene\": {\"camera\": {\"eye\": {\"x\": 1.6490413360648972, \"y\": 0.6369165345234014, \"z\": 0.8}}}}}, {\"layout\": {\"scene\": {\"camera\": {\"eye\": {\"x\": 1.7043885518605422, \"y\": 0.46910517401401974, \"z\": 0.8}}}}}, {\"layout\": {\"scene\": {\"camera\": {\"eye\": {\"x\": 1.742706080641946, \"y\": 0.2966066696714459, \"z\": 0.8}}}}}, {\"layout\": {\"scene\": {\"camera\": {\"eye\": {\"x\": 1.7636110663276172, \"y\": 0.12114456953064445, \"z\": 0.8}}}}}, {\"layout\": {\"scene\": {\"camera\": {\"eye\": {\"x\": 1.766894633210853, \"y\": -0.05552796710383823, \"z\": 0.8}}}}}, {\"layout\": {\"scene\": {\"camera\": {\"eye\": {\"x\": 1.7525239729767597, \"y\": -0.23164568664612328, \"z\": 0.8}}}}}, {\"layout\": {\"scene\": {\"camera\": {\"eye\": {\"x\": 1.7206426725120867, \"y\": -0.4054488790593255, \"z\": 0.8}}}}}, {\"layout\": {\"scene\": {\"camera\": {\"eye\": {\"x\": 1.6715692792325216, \"y\": -0.5752009602965458, \"z\": 0.8}}}}}, {\"layout\": {\"scene\": {\"camera\": {\"eye\": {\"x\": 1.605794118262206, \"y\": -0.7392058236746413, \"z\": 0.8}}}}}, {\"layout\": {\"scene\": {\"camera\": {\"eye\": {\"x\": 1.5239743932671765, \"y\": -0.8958247868115395, \"z\": 0.8}}}}}, {\"layout\": {\"scene\": {\"camera\": {\"eye\": {\"x\": 1.426927619893581, \"y\": -1.04349296479892, \"z\": 0.8}}}}}, {\"layout\": {\"scene\": {\"camera\": {\"eye\": {\"x\": 1.3156234574215673, \"y\": -1.180734906014945, \"z\": 0.8}}}}}, {\"layout\": {\"scene\": {\"camera\": {\"eye\": {\"x\": 1.1911740202502938, \"y\": -1.3061793343491364, \"z\": 0.8}}}}}, {\"layout\": {\"scene\": {\"camera\": {\"eye\": {\"x\": 1.0548227660184604, \"y\": -1.4185728505399942, \"z\": 0.8}}}}}, {\"layout\": {\"scene\": {\"camera\": {\"eye\": {\"x\": 0.9079320713866189, \"y\": -1.5167924557260966, \"z\": 0.8}}}}}, {\"layout\": {\"scene\": {\"camera\": {\"eye\": {\"x\": 0.7519696196199205, \"y\": -1.599856772079511, \"z\": 0.8}}}}}, {\"layout\": {\"scene\": {\"camera\": {\"eye\": {\"x\": 0.5884937359820905, \"y\": -1.6669358484086425, \"z\": 0.8}}}}}, {\"layout\": {\"scene\": {\"camera\": {\"eye\": {\"x\": 0.41913781746449363, \"y\": -1.7173594527562077, \"z\": 0.8}}}}}, {\"layout\": {\"scene\": {\"camera\": {\"eye\": {\"x\": 0.24559401242333323, \"y\": -1.7506237691353923, \"z\": 0.8}}}}}, {\"layout\": {\"scene\": {\"camera\": {\"eye\": {\"x\": 0.06959631319262605, \"y\": -1.7663964314926572, \"z\": 0.8}}}}}, {\"layout\": {\"scene\": {\"camera\": {\"eye\": {\"x\": -0.10709676939402235, \"y\": -1.7645198445994774, \"z\": 0.8}}}}}, {\"layout\": {\"scene\": {\"camera\": {\"eye\": {\"x\": -0.2827197764623679, \"y\": -1.745012758691772, \"z\": 0.8}}}}}, {\"layout\": {\"scene\": {\"camera\": {\"eye\": {\"x\": -0.45551794097903464, \"y\": -1.7080700821237462, \"z\": 0.8}}}}}, {\"layout\": {\"scene\": {\"camera\": {\"eye\": {\"x\": -0.6237647208036504, \"y\": -1.6540609339080419, \"z\": 0.8}}}}}, {\"layout\": {\"scene\": {\"camera\": {\"eye\": {\"x\": -0.7857790497271997, \"y\": -1.58352495560058, \"z\": 0.8}}}}}, {\"layout\": {\"scene\": {\"camera\": {\"eye\": {\"x\": -0.9399421341298975, \"y\": -1.4971669193805124, \"z\": 0.8}}}}}, {\"layout\": {\"scene\": {\"camera\": {\"eye\": {\"x\": -1.0847136274319271, \"y\": -1.3958496861995813, \"z\": 0.8}}}}}, {\"layout\": {\"scene\": {\"camera\": {\"eye\": {\"x\": -1.218647020727311, \"y\": -1.2805855843607052, \"z\": 0.8}}}}}, {\"layout\": {\"scene\": {\"camera\": {\"eye\": {\"x\": -1.3404040958227346, \"y\": -1.1525262946682115, \"z\": 0.8}}}}}, {\"layout\": {\"scene\": {\"camera\": {\"eye\": {\"x\": -1.448768296271385, \"y\": -1.0129513432139317, \"z\": 0.8}}}}}, {\"layout\": {\"scene\": {\"camera\": {\"eye\": {\"x\": -1.5426568828028173, \"y\": -0.8632553167754569, \"z\": 0.8}}}}}, {\"layout\": {\"scene\": {\"camera\": {\"eye\": {\"x\": -1.6211317516958519, \"y\": -0.7049339285660311, \"z\": 0.8}}}}}, {\"layout\": {\"scene\": {\"camera\": {\"eye\": {\"x\": -1.6834088080008527, \"y\": -0.5395690735625494, \"z\": 0.8}}}}}, {\"layout\": {\"scene\": {\"camera\": {\"eye\": {\"x\": -1.7288657999572776, \"y\": -0.3688130227338533, \"z\": 0.8}}}}}, {\"layout\": {\"scene\": {\"camera\": {\"eye\": {\"x\": -1.7570485363275825, \"y\": -0.1943719140953739, \"z\": 0.8}}}}}, {\"layout\": {\"scene\": {\"camera\": {\"eye\": {\"x\": -1.7676754245259283, \"y\": -0.017988705542069106, \"z\": 0.8}}}}}]);\n",
              "                        }).then(function(){\n",
              "                            \n",
              "var gd = document.getElementById('0ee9a994-04b6-435e-a030-38f803a7b1f1');\n",
              "var x = new MutationObserver(function (mutations, observer) {{\n",
              "        var display = window.getComputedStyle(gd).display;\n",
              "        if (!display || display === 'none') {{\n",
              "            console.log([gd, 'removed!']);\n",
              "            Plotly.purge(gd);\n",
              "            observer.disconnect();\n",
              "        }}\n",
              "}});\n",
              "\n",
              "// Listen for the removal of the full notebook cells\n",
              "var notebookContainer = gd.closest('#notebook-container');\n",
              "if (notebookContainer) {{\n",
              "    x.observe(notebookContainer, {childList: true});\n",
              "}}\n",
              "\n",
              "// Listen for the clearing of the current output cell\n",
              "var outputEl = gd.closest('.output');\n",
              "if (outputEl) {{\n",
              "    x.observe(outputEl, {childList: true});\n",
              "}}\n",
              "\n",
              "                        })\n",
              "                };\n",
              "                \n",
              "            </script>\n",
              "        </div>\n",
              "</body>\n",
              "</html>"
            ]
          },
          "metadata": {
            "tags": []
          }
        }
      ]
    },
    {
      "cell_type": "markdown",
      "metadata": {
        "id": "eY4m198Z9IcS"
      },
      "source": [
        "**Visualize Result**"
      ]
    },
    {
      "cell_type": "code",
      "metadata": {
        "colab": {
          "base_uri": "https://localhost:8080/"
        },
        "id": "IzzzJMfXsADX",
        "outputId": "b20179bc-a8b9-42e8-b379-d990a844cb4d"
      },
      "source": [
        "noise = torch.randn(64, 100, device=device)\n",
        "fake = netG(noise).detach().cpu()\n",
        "print(fake.shape)"
      ],
      "execution_count": null,
      "outputs": [
        {
          "output_type": "stream",
          "text": [
            "torch.Size([64, 100])\n"
          ],
          "name": "stdout"
        }
      ]
    },
    {
      "cell_type": "code",
      "metadata": {
        "id": "BSlW32jdzUez"
      },
      "source": [
        "points = []\n",
        "proj = torch.from_numpy(V).float()\n",
        "for i in range(len(fake)):\n",
        "  temp = fake[i]\n",
        "  temp = temp.reshape(-1,1)\n",
        "  out = torch.matmul(proj,temp).numpy()\n",
        "  points.append(out)"
      ],
      "execution_count": null,
      "outputs": []
    },
    {
      "cell_type": "code",
      "metadata": {
        "id": "TCXVhb9Bz0ZO"
      },
      "source": [
        "temp = points[20]\n",
        "temp = temp.reshape(1000,3)"
      ],
      "execution_count": null,
      "outputs": []
    },
    {
      "cell_type": "code",
      "metadata": {
        "colab": {
          "base_uri": "https://localhost:8080/",
          "height": 542
        },
        "id": "k_mMa6DA04vP",
        "outputId": "98e666df-d81b-40b5-9101-3c2e84782ecb"
      },
      "source": [
        "pcshow(temp[:,0],temp[:,1],temp[:,2])"
      ],
      "execution_count": null,
      "outputs": [
        {
          "output_type": "display_data",
          "data": {
            "text/html": [
              "<html>\n",
              "<head><meta charset=\"utf-8\" /></head>\n",
              "<body>\n",
              "    <div>\n",
              "            <script src=\"https://cdnjs.cloudflare.com/ajax/libs/mathjax/2.7.5/MathJax.js?config=TeX-AMS-MML_SVG\"></script><script type=\"text/javascript\">if (window.MathJax) {MathJax.Hub.Config({SVG: {font: \"STIX-Web\"}});}</script>\n",
              "                <script type=\"text/javascript\">window.PlotlyConfig = {MathJaxConfig: 'local'};</script>\n",
              "        <script src=\"https://cdn.plot.ly/plotly-latest.min.js\"></script>    \n",
              "            <div id=\"4d67653b-0c26-40ec-9f33-9f6d5f9e2f4e\" class=\"plotly-graph-div\" style=\"height:525px; width:100%;\"></div>\n",
              "            <script type=\"text/javascript\">\n",
              "                \n",
              "                    window.PLOTLYENV=window.PLOTLYENV || {};\n",
              "                    \n",
              "                if (document.getElementById(\"4d67653b-0c26-40ec-9f33-9f6d5f9e2f4e\")) {\n",
              "                    Plotly.newPlot(\n",
              "                        '4d67653b-0c26-40ec-9f33-9f6d5f9e2f4e',\n",
              "                        [{\"marker\": {\"line\": {\"color\": \"DarkSlateGrey\", \"width\": 2}, \"size\": 2}, \"mode\": \"markers\", \"type\": \"scatter3d\", \"x\": [-91.05308532714844, -92.2079849243164, -90.44890594482422, -90.232177734375, -89.90921783447266, -88.28361511230469, -88.57221984863281, -87.76622009277344, -83.58683013916016, -82.74303436279297, -83.35623168945312, -80.88186645507812, -80.86257934570312, -80.42098999023438, -81.18382263183594, -87.1064453125, -92.18743896484375, -90.63996887207031, -89.79773712158203, -91.04994201660156, -87.63719177246094, -87.91683197021484, -85.96200561523438, -86.84261322021484, -82.92306518554688, -83.037353515625, -84.15663146972656, -83.31734466552734, -81.72183227539062, -81.62755584716797, -82.73939514160156, -83.29740905761719, -81.30307006835938, -82.05545043945312, -82.40763854980469, -80.37095642089844, -80.79598999023438, -79.58879852294922, -78.9512939453125, -79.95510864257812, -75.48260498046875, -76.62715148925781, -77.0616455078125, -74.90495300292969, -74.9674072265625, -75.95655059814453, -76.65628814697266, -79.0505142211914, -78.33930969238281, -77.95159149169922, -77.25093078613281, -76.14715576171875, -76.09183502197266, -75.62930297851562, -75.9241714477539, -75.66226959228516, -75.0321044921875, -75.57042694091797, -75.60955047607422, -76.0223159790039, -75.67784118652344, -73.6878662109375, -70.845458984375, -63.66318893432617, -62.39091873168945, -63.45618438720703, -62.31846618652344, -63.236087799072266, -62.45185852050781, -64.00259399414062, -54.66558837890625, -45.834144592285156, -46.010292053222656, -45.3111457824707, -44.566219329833984, -46.30903625488281, -43.145633697509766, -43.40373611450195, -52.22840881347656, -61.77029800415039, -64.50567626953125, -63.18946075439453, -60.64900207519531, -60.769588470458984, -59.72075271606445, -59.820220947265625, -53.688045501708984, -45.15561294555664, -46.1080322265625, -46.852874755859375, -44.77127456665039, -43.422367095947266, -44.06833267211914, -46.21599578857422, -54.12015151977539, -63.50835037231445, -61.541908264160156, -63.21577835083008, -63.558433532714844, -63.301673889160156, -62.13368606567383, -61.69460678100586, -55.45680618286133, -46.041778564453125, -47.62154006958008, -48.088497161865234, -45.79639434814453, -46.7206916809082, -48.04445266723633, -46.455848693847656, -51.52651596069336, -61.14048385620117, -62.620182037353516, -61.842918395996094, -61.43812942504883, -60.60848617553711, -59.877479553222656, -60.279151916503906, -55.61463928222656, -48.07194137573242, -48.22953796386719, -48.10456085205078, -48.221473693847656, -48.16547775268555, -49.9397087097168, -61.913352966308594, -90.47171783447266, -90.3530502319336, -92.3149185180664, -88.80070495605469, -87.33536529541016, -88.10331726074219, -88.08341979980469, -86.50067901611328, -82.11852264404297, -81.6455078125, -82.87210845947266, -82.45858001708984, -79.64254760742188, -80.085693359375, -82.07829284667969, -89.76121520996094, -91.47571563720703, -90.29804229736328, -91.12019348144531, -90.21915435791016, -88.58551788330078, -88.0437240600586, -88.39282989501953, -86.60537719726562, -81.32650756835938, -82.57062530517578, -81.92987823486328, -80.11700439453125, -79.28914642333984, -79.35626220703125, -79.6347427368164, -81.91584014892578, -76.83702850341797, -77.47628021240234, -77.46024322509766, -76.16070556640625, -74.86968231201172, -75.69677734375, -76.36632537841797, -74.7933120727539, -75.52639770507812, -75.28269958496094, -75.877685546875, -75.00006866455078, -74.5577392578125, -74.08500671386719, -74.77897644042969, -75.99929809570312, -81.4928970336914, -81.77861022949219, -81.0810546875, -79.51657104492188, -78.57754516601562, -78.16560363769531, -79.60797119140625, -78.1383056640625, -74.68215942382812, -75.38005065917969, -74.55448150634766, -73.99181365966797, -74.93191528320312, -74.8265609741211, -69.83633422851562, -60.47320556640625, -61.88084411621094, -63.091739654541016, -60.76884078979492, -59.1734619140625, -59.07862091064453, -59.39596939086914, -53.338138580322266, -45.43351745605469, -44.663368225097656, -46.0013542175293, -45.0283317565918, -45.3505744934082, -45.4278564453125, -43.6262092590332, -52.08477020263672, -61.85887145996094, -62.587303161621094, -61.3401985168457, -61.5514030456543, -61.0418815612793, -61.01934814453125, -59.87006759643555, -52.385799407958984, -42.5838508605957, -44.12872314453125, -43.81612014770508, -41.439640045166016, -41.727264404296875, -43.617984771728516, -55.65066909790039, -61.507572174072266, -60.3840446472168, -61.06299591064453, -62.107582092285156, -59.590736389160156, -59.414241790771484, -60.40056228637695, -54.79685974121094, -47.06684875488281, -47.212127685546875, -46.77202606201172, -46.55848693847656, -48.22366714477539, -47.34111785888672, -47.97331237792969, -55.250457763671875, -60.36671829223633, -60.568599700927734, -61.970359802246094, -60.449729919433594, -61.11787796020508, -59.138954162597656, -61.68402099609375, -53.36029815673828, -43.812808990478516, -43.95368957519531, -44.57039260864258, -44.77578353881836, -45.62106704711914, -45.32655334472656, -62.76533126831055, -83.59031677246094, -84.15592956542969, -84.00338745117188, -85.0264663696289, -86.13072204589844, -86.9861831665039, -85.50216674804688, -81.07957458496094, -76.03665924072266, -76.3306884765625, -76.01399993896484, -76.05157470703125, -76.50135040283203, -76.35548400878906, -76.7582778930664, -78.69134521484375, -82.60794067382812, -82.41447448730469, -82.1866455078125, -83.51809692382812, -85.00077056884766, -84.5190200805664, -84.72404479980469, -79.99974060058594, -76.02433013916016, -75.90867614746094, -76.08572387695312, -76.5965347290039, -77.03894805908203, -76.72821807861328, -77.8046875, -84.26455688476562, -93.44401550292969, -94.62064361572266, -93.7494888305664, -95.06147766113281, -95.1149673461914, -95.00434112548828, -95.67488098144531, -89.6346664428711, -82.03971099853516, -82.16856384277344, -83.00067138671875, -83.25834655761719, -83.94486236572266, -84.23804473876953, -85.61009216308594, -91.33114624023438, -94.20330047607422, -94.49285125732422, -94.06558227539062, -95.8790512084961, -96.224853515625, -96.9918212890625, -96.79046630859375, -91.29276275634766, -86.14434814453125, -86.99279022216797, -88.42707061767578, -87.05650329589844, -87.42223358154297, -87.2530746459961, -71.46975708007812, -64.46527099609375, -63.55126953125, -61.66830062866211, -63.290008544921875, -65.40092468261719, -63.91298294067383, -64.57455444335938, -58.151702880859375, -52.28334045410156, -51.66481399536133, -52.081661224365234, -53.36973190307617, -55.405921936035156, -52.976478576660156, -53.28594207763672, -56.85779571533203, -57.337890625, -58.390846252441406, -57.21010971069336, -57.514793395996094, -57.39390563964844, -57.421443939208984, -57.273990631103516, -50.068687438964844, -49.56721115112305, -47.81577682495117, -46.430973052978516, -45.74943542480469, -46.74793243408203, -44.57953643798828, -56.34797286987305, -63.635013580322266, -64.10395050048828, -63.36058807373047, -64.18524169921875, -64.34977722167969, -65.2846908569336, -64.81330871582031, -56.15510559082031, -47.382904052734375, -47.63569641113281, -48.11853790283203, -49.14577865600586, -48.263580322265625, -48.10495376586914, -47.40886306762695, -57.67515182495117, -63.71937561035156, -63.45737838745117, -62.473453521728516, -64.41643524169922, -64.3268814086914, -64.40767669677734, -64.39356994628906, -56.435035705566406, -50.289451599121094, -48.9102897644043, -49.72304916381836, -48.154197692871094, -48.65766525268555, -49.678504943847656, -76.37727355957031, -81.04668426513672, -81.23954010009766, -81.03131866455078, -83.2793960571289, -84.00840759277344, -83.72808074951172, -83.17691802978516, -78.76116943359375, -75.2139892578125, -75.03153991699219, -74.27641296386719, -75.76390075683594, -75.5808334350586, -76.53897094726562, -75.81755828857422, -78.75257873535156, -82.58389282226562, -83.09880065917969, -82.24020385742188, -83.63381958007812, -84.45407104492188, -85.31405639648438, -84.03176879882812, -79.27095031738281, -73.85069274902344, -74.0103530883789, -75.07929992675781, -75.76007843017578, -76.19786834716797, -75.99254608154297, -75.88560485839844, -84.70638275146484, -94.77839660644531, -94.45430755615234, -95.04914093017578, -96.43894958496094, -96.48915100097656, -96.43151092529297, -96.21441650390625, -91.99281311035156, -86.43132019042969, -87.4953384399414, -86.208984375, -87.29088592529297, -87.34693145751953, -87.44557189941406, -86.97196960449219, -89.87942504882812, -92.12982177734375, -91.70846557617188, -91.93965148925781, -93.21862030029297, -94.12040710449219, -93.78887939453125, -92.919921875, -87.45291900634766, -81.37368774414062, -81.43245697021484, -81.69528198242188, -82.39102935791016, -83.62461853027344, -82.07457733154297, -71.14518737792969, -57.71147918701172, -57.76945114135742, -58.55907440185547, -58.75368118286133, -56.414405822753906, -57.97394943237305, -58.17934036254883, -50.832977294921875, -46.419578552246094, -46.24732208251953, -48.10454559326172, -44.824974060058594, -44.53183364868164, -45.0158805847168, -46.874176025390625, -54.799556732177734, -61.53855895996094, -62.72467041015625, -62.35919189453125, -61.964176177978516, -61.01936340332031, -63.41061782836914, -63.68711853027344, -55.94091796875, -51.34535217285156, -50.16130065917969, -52.68288803100586, -50.88223648071289, -52.4633903503418, -53.50471496582031, -53.95140075683594, -64.13404083251953, -64.23527526855469, -63.85594940185547, -64.36089324951172, -63.81505584716797, -63.96693420410156, -64.60698699951172, -56.976524353027344, -49.814109802246094, -48.99312973022461, -48.84999465942383, -49.07638168334961, -49.205596923828125, -48.81513214111328, -49.77705764770508, -53.666961669921875, -60.68536376953125, -63.17209243774414, -63.50515365600586, -62.67042541503906, -63.403343200683594, -63.366737365722656, -63.735618591308594, -54.70566940307617, -45.931884765625, -46.51998519897461, -46.594356536865234, -46.7576789855957, -46.8134765625, -47.55259704589844, -33.237178802490234, -5.524206638336182, -9.995255470275879, -5.635647773742676, -4.67255973815918, -2.837402820587158, -2.1155242919921875, -4.026155948638916, 20.528017044067383, 42.39401626586914, 42.49628829956055, 39.894256591796875, 45.75059127807617, 47.52069091796875, 46.51350021362305, 47.73480224609375, 25.44139862060547, 3.6184792518615723, 3.885774612426758, 3.472472667694092, 7.285708427429199, 9.866310119628906, 10.993484497070312, 9.596248626708984, 34.09151077270508, 50.92717361450195, 48.309417724609375, 46.822662353515625, 50.32380676269531, 55.88877868652344, 53.492530822753906, 53.386409759521484, 18.252300262451172, -12.493497848510742, -13.93864917755127, -13.117959976196289, -10.5903959274292, -6.483266830444336, -2.7468245029449463, -9.065277099609375, 16.992626190185547, 39.11846923828125, 36.21406936645508, 36.90172576904297, 44.1218376159668, 49.734798431396484, 45.02965545654297, 48.65483093261719, 15.142940521240234, -14.022451400756836, -11.975532531738281, -11.254034996032715, -4.7749834060668945, 0.6314394474029541, 1.4572672843933105, 0.9975950717926025, 19.312335968017578, 36.7547492980957, 36.470458984375, 36.29328918457031, 41.089595794677734, 47.606719970703125, 48.39146423339844, 68.29952239990234, 90.1728515625, 88.68579864501953, 88.09822845458984, 87.87693786621094, 87.3116455078125, 85.59135437011719, 83.89566040039062, 97.02998352050781, 105.43524169921875, 106.99464416503906, 105.39250946044922, 105.13451385498047, 105.95941162109375, 105.52305603027344, 103.97042083740234, 95.75375366210938, 90.91864776611328, 92.14314270019531, 92.94792938232422, 93.480224609375, 91.17344665527344, 92.93134307861328, 93.59365844726562, 101.40619659423828, 109.17572021484375, 107.39269256591797, 108.24053192138672, 109.5859375, 108.1730728149414, 108.51741790771484, 100.76091766357422, 81.94491577148438, 79.37471008300781, 81.72259521484375, 81.25458526611328, 81.2901840209961, 80.16991424560547, 80.24958801269531, 93.18379974365234, 102.53768157958984, 103.79741668701172, 104.51675415039062, 103.1717529296875, 101.25801849365234, 103.95894622802734, 101.53781127929688, 92.16205596923828, 86.62001037597656, 83.64742279052734, 84.70599365234375, 83.42411041259766, 85.33389282226562, 84.22048950195312, 85.33885955810547, 96.05538177490234, 102.1182861328125, 103.16121673583984, 101.76740264892578, 100.98942565917969, 101.94593048095703, 101.53077697753906, 164.2681121826172, 1.6643047332763672, 0.8515796661376953, 0.4357585906982422, 2.416044235229492, 5.523015975952148, 5.190810203552246, 4.945696830749512, 33.97990417480469, 51.032958984375, 49.009552001953125, 48.33535385131836, 52.08096694946289, 52.32044219970703, 55.51907730102539, 52.58320236206055, 20.242717742919922, -8.269454956054688, -7.33655309677124, -9.396415710449219, -7.885503768920898, -4.193443298339844, -2.2478532791137695, -9.34248161315918, 22.71155548095703, 41.16729736328125, 42.41468048095703, 48.43874740600586, 42.64026641845703, 47.0443000793457, 49.81824493408203, 46.51823043823242, 22.789348602294922, -13.548338890075684, -12.16755485534668, -13.258131980895996, -8.697982788085938, -1.6603827476501465, -2.2290844917297363, -1.0660725831985474, 18.39458465576172, 34.2249641418457, 39.31489562988281, 38.12623977661133, 39.724124908447266, 52.12712860107422, 49.03946304321289, 49.85917282104492, 22.670042037963867, -11.50187873840332, -12.660703659057617, -15.004295349121094, -6.315008163452148, 1.298990249633789, -2.997054100036621, -3.8717193603515625, 22.138973236083984, 41.69227981567383, 42.129398345947266, 41.720367431640625, 45.00547790527344, 50.89789962768555, 50.49132537841797, 69.5078353881836, 94.2823715209961, 93.86540985107422, 92.00752258300781, 93.63561248779297, 95.44417572021484, 91.56874084472656, 91.52953338623047, 102.51153564453125, 110.017822265625, 110.74119567871094, 110.87332916259766, 110.68343353271484, 109.94197082519531, 110.14459228515625, 108.203125, 97.35525512695312, 89.5487289428711, 89.35353088378906, 90.02252197265625, 89.2879867553711, 85.24348449707031, 86.72016906738281, 85.89791107177734, 98.65557861328125, 107.66030883789062, 108.93534088134766, 106.62901306152344, 107.35991668701172, 107.17173767089844, 105.99644470214844, 100.05010986328125, 85.4967041015625, 85.25308227539062, 85.69967651367188, 82.1512222290039, 86.02783203125, 83.88488006591797, 84.68571472167969, 96.4195785522461, 103.02812194824219, 103.68778991699219, 103.7548828125, 102.50807189941406, 99.6115493774414, 100.54596710205078, 100.93854522705078, 93.37674713134766, 85.55093383789062, 80.89785766601562, 82.90924835205078, 84.37935638427734, 84.05039978027344, 82.06364440917969, 84.05133819580078, 95.76542663574219, 107.2791748046875, 105.85122680664062, 103.94782257080078, 105.50470733642578, 104.17095184326172, 102.58523559570312, -27.670854568481445, -20.77095603942871, -18.68440818786621, -18.18609619140625, -15.352542877197266, -17.353824615478516, -13.010651588439941, -17.312028884887695, -1.9423179626464844, 15.545495986938477, 14.240493774414062, 11.656606674194336, 15.185874938964844, 17.69270896911621, 14.70311164855957, 14.288858413696289, 2.760528564453125, -18.627891540527344, -20.06935691833496, -20.147886276245117, -12.953056335449219, -12.939929008483887, -11.727859497070312, -9.21296501159668, -1.4422450065612793, 9.808182716369629, 9.250251770019531, 8.963329315185547, 12.226919174194336, 13.776153564453125, 14.2238130569458, 13.733110427856445, 5.758241176605225, -13.415909767150879, -12.163534164428711, -10.272212028503418, -7.896369934082031, -6.862016677856445, -3.480130195617676, -3.106313705444336, 7.260419845581055, 17.44192123413086, 15.673460006713867, 16.76626205444336, 19.575088500976562, 22.70936393737793, 21.188302993774414, 24.270828247070312, 9.42392349243164, -7.656920433044434, -8.104050636291504, -8.06498908996582, -0.8217906951904297, 2.3575496673583984, 4.701962471008301, 4.228346824645996, 11.385437965393066, 16.8580265045166, 16.961334228515625, 17.130701065063477, 22.582000732421875, 26.080078125, 28.608280181884766, 33.72713851928711, 58.15780258178711, 57.36608123779297, 57.11885452270508, 59.01643371582031, 62.398338317871094, 61.659244537353516, 62.45724868774414, 83.4534683227539, 99.81671142578125, 100.37033081054688, 101.97215270996094, 103.56298828125, 99.82192993164062, 99.88587951660156, 100.3136978149414, 86.35224914550781, 65.25056457519531, 64.35079956054688, 65.5150375366211, 72.82533264160156, 79.27519226074219, 79.55715942382812, 76.94745635986328, 95.06786346435547, 103.57322692871094, 101.57157135009766, 103.2701416015625, 105.22528076171875, 104.13577270507812, 103.03514862060547, 77.24650573730469, 48.56450653076172, 46.603370666503906, 46.05101013183594, 52.03512191772461, 54.32243347167969, 54.19689178466797, 55.23937225341797, 66.73709106445312, 80.89936828613281, 80.69761657714844, 79.848388671875, 82.11382293701172, 88.00171661376953, 87.07035064697266, 86.55491638183594, 63.92860412597656, 37.9722785949707, 39.36560821533203, 37.698123931884766, 49.00606918334961, 55.565086364746094, 55.81471633911133, 55.747840881347656, 62.41764831542969, 74.28103637695312, 74.54430389404297, 73.86804962158203, 79.40808868408203, 82.46407318115234, 82.62928009033203, 24.389766693115234, -20.47809600830078, -19.055124282836914, -21.265825271606445, -15.098807334899902, -12.886797904968262, -13.476806640625, -14.860836029052734, -3.3519039154052734, 5.939319610595703, 5.79124116897583, 7.37339973449707, 10.243536949157715, 13.423975944519043, 12.851975440979004, 13.173311233520508, 1.5916314125061035, -16.119579315185547, -20.260875701904297, -23.027605056762695, -16.10645866394043, -16.79758644104004, -17.027111053466797, -15.490155220031738, -3.9074268341064453, 12.252452850341797, 12.127558708190918, 11.590873718261719, 12.60415267944336, 11.124269485473633, 11.663878440856934, 12.699161529541016, -0.13719654083251953, -6.018510818481445, -8.80595588684082, -8.048057556152344, -1.3809280395507812, 3.0504798889160156, 1.9810333251953125, 0.051665306091308594, 8.447214126586914, 15.515620231628418, 14.000811576843262, 14.238555908203125, 17.799514770507812, 24.778545379638672, 24.904077529907227, 24.57846450805664, 4.77996826171875, -9.6812105178833, -12.839223861694336, -11.797455787658691, -7.867585182189941, -5.234670639038086, -3.71407413482666, -5.804218292236328, 7.257546901702881, 15.381409645080566, 14.354973793029785, 17.078140258789062, 17.69916343688965, 20.21883201599121, 20.060836791992188, 31.537208557128906, 60.85303497314453, 61.78708267211914, 57.10887908935547, 69.11209106445312, 75.97906494140625, 75.50906372070312, 75.36966705322266, 92.30897521972656, 100.49506378173828, 102.19558715820312, 102.03137969970703, 104.66204833984375, 103.04643249511719, 104.83668518066406, 103.78288269042969, 89.99568176269531, 54.01235580444336, 54.020408630371094, 55.62665557861328, 57.884666442871094, 63.64396667480469, 62.571075439453125, 59.69552230834961, 83.69993591308594, 103.1951904296875, 99.86883544921875, 95.77122497558594, 98.96267700195312, 99.40495300292969, 99.3982162475586, 76.3499755859375, 37.58244323730469, 39.17163848876953, 38.328346252441406, 46.10936737060547, 52.867393493652344, 51.519935607910156, 52.58805847167969, 59.511390686035156, 71.0553207397461, 70.38516998291016, 72.16802215576172, 76.22889709472656, 81.8172607421875, 81.40032958984375, 81.9488754272461, 63.87104797363281, 44.901004791259766, 45.844356536865234, 46.74929428100586, 49.47311782836914, 54.87819290161133, 55.140098571777344, 55.24333953857422, 68.22758483886719, 79.8207778930664, 82.85653686523438, 82.7811050415039, 85.282958984375, 87.88299560546875, 87.2022933959961], \"y\": [-107.48314666748047, -108.22444152832031, -109.96224975585938, -83.33502197265625, -61.4676513671875, -65.7939224243164, -62.69099426269531, -84.24989318847656, -101.59596252441406, -99.63236999511719, -101.7643051147461, -77.50867462158203, -67.96675872802734, -63.30756759643555, -64.60076904296875, -130.00802612304688, -149.9465789794922, -143.8440704345703, -142.77552795410156, -110.9326400756836, -76.17134094238281, -76.04550170898438, -74.33232116699219, -84.97081756591797, -131.0824737548828, -120.00504302978516, -118.12969970703125, -96.56114196777344, -79.30484771728516, -76.363037109375, -70.02318572998047, -52.80739212036133, -31.785823822021484, -30.716964721679688, -31.586137771606445, -10.407369613647461, 13.611883163452148, 12.77546215057373, 13.927560806274414, -1.454249382019043, -31.56977081298828, -24.716609954833984, -26.250768661499023, -3.7152891159057617, 14.601073265075684, 22.644298553466797, 22.311573028564453, -3.985701560974121, -25.9884090423584, -24.293853759765625, -20.120986938476562, -5.150615692138672, 14.53891372680664, 12.038946151733398, 18.040298461914062, 3.044588327407837, -14.028072357177734, -15.39077377319336, -9.617197036743164, 10.245323181152344, 24.634294509887695, 25.719764709472656, -29.011428833007812, -68.44774627685547, -72.36604309082031, -71.80496978759766, -37.700340270996094, -19.046550750732422, -12.397867202758789, -12.89885139465332, -30.031143188476562, -45.22985076904297, -41.0833625793457, -47.507564544677734, -17.66883087158203, -12.973865509033203, -12.610145568847656, -14.236539840698242, -74.82827758789062, -80.19586181640625, -77.2923812866211, -68.85482025146484, -54.42637252807617, -44.2423210144043, -39.74464416503906, -35.34870147705078, -54.24625778198242, -90.77925109863281, -94.81968688964844, -86.57403564453125, -68.30426788330078, -50.481590270996094, -49.151527404785156, -42.41173553466797, -17.61742401123047, -8.829597473144531, -3.091897964477539, -0.05779862403869629, 14.713233947753906, 27.732011795043945, 30.489124298095703, 32.990142822265625, 16.3861083984375, -7.361466407775879, -5.284492492675781, -2.202463150024414, 9.642855644226074, 24.773147583007812, 27.287200927734375, 26.610471725463867, 13.430742263793945, 0.7268764972686768, 1.268242597579956, 2.901057720184326, 15.552550315856934, 28.834753036499023, 28.9774112701416, 29.71957015991211, 14.707805633544922, -2.9835705757141113, 1.4314123392105103, 0.960303544998169, 12.152535438537598, 24.353282928466797, 25.27263832092285, -1.003763198852539, -151.86988830566406, -154.52352905273438, -156.09268188476562, -121.67984008789062, -86.28216552734375, -88.23811340332031, -90.81171417236328, -111.81132507324219, -140.49404907226562, -131.98611450195312, -142.9416961669922, -112.04013061523438, -83.82542419433594, -84.7308349609375, -80.3908462524414, -116.73580932617188, -121.12895202636719, -116.28080749511719, -111.68107604980469, -90.07368469238281, -70.89466094970703, -67.76324462890625, -68.6927261352539, -105.48089599609375, -111.25052642822266, -105.4338150024414, -93.28446197509766, -80.07975006103516, -78.01260375976562, -71.16848754882812, -55.861488342285156, -56.95759201049805, -26.384708404541016, -25.535499572753906, -28.80693817138672, -4.097927570343018, 13.179750442504883, 15.924614906311035, 15.92397689819336, -0.6375799179077148, -20.548789978027344, -19.31349754333496, -22.573379516601562, 0.8750513792037964, 20.251760482788086, 23.915586471557617, 22.185083389282227, -10.582847595214844, -33.862037658691406, -31.83986473083496, -37.405033111572266, -10.765162467956543, 12.072456359863281, 14.217146873474121, 14.65599536895752, -2.6827216148376465, -30.09437370300293, -28.757083892822266, -21.550416946411133, 4.1459856033325195, 23.287137985229492, 26.45152473449707, 15.699695587158203, -88.50346374511719, -85.00798034667969, -86.4404296875, -63.38587188720703, -51.324859619140625, -45.099327087402344, -42.608726501464844, -72.4279556274414, -104.84808349609375, -99.45989227294922, -98.49828338623047, -76.5469970703125, -52.84951400756836, -54.48887252807617, -49.55207061767578, -74.42399597167969, -70.68087768554688, -66.24702453613281, -54.28620910644531, -29.104610443115234, -30.351848602294922, -18.387706756591797, 0.5314788818359375, -34.9815788269043, -43.892189025878906, -45.327388763427734, -28.59636688232422, -14.837516784667969, -18.56694793701172, -9.445364952087402, -24.358928680419922, -2.887068748474121, -3.9757847785949707, -0.684274435043335, 12.86668586730957, 27.802658081054688, 31.12296485900879, 30.657142639160156, 11.02320671081543, -4.627058506011963, -6.818993091583252, -3.56215763092041, 7.415884017944336, 22.9056339263916, 23.865184783935547, 25.64669418334961, 8.947309494018555, -11.675048828125, -9.524542808532715, -5.311272621154785, 11.670353889465332, 26.35930061340332, 27.299482345581055, 31.19853973388672, 8.76991081237793, -9.608421325683594, -8.991554260253906, -5.470267295837402, 9.90720272064209, 24.473819732666016, 26.220458984375, 45.711830139160156, 97.91880798339844, 99.486572265625, 101.72978210449219, 116.74374389648438, 131.95240783691406, 128.84967041015625, 130.07635498046875, 109.4609603881836, 82.80221557617188, 80.8945083618164, 86.77018737792969, 101.5625, 117.26199340820312, 121.93805694580078, 121.28646087646484, 106.05060577392578, 98.31005096435547, 99.73330688476562, 99.4400405883789, 115.97150421142578, 128.2646942138672, 129.20364379882812, 129.74853515625, 110.43059539794922, 87.40135192871094, 84.89840698242188, 85.17933654785156, 101.50933837890625, 119.00762939453125, 116.77500915527344, 117.1502685546875, 140.15867614746094, 156.16282653808594, 155.92262268066406, 157.411376953125, 166.3575897216797, 175.04934692382812, 173.77291870117188, 174.4246368408203, 160.7134246826172, 148.07888793945312, 147.43907165527344, 147.19216918945312, 156.66571044921875, 165.56590270996094, 167.26048278808594, 163.81802368164062, 161.80648803710938, 157.91116333007812, 159.533447265625, 158.02354431152344, 167.68255615234375, 173.3280029296875, 173.7788543701172, 175.0333709716797, 158.16131591796875, 145.89671325683594, 147.8556365966797, 147.34217834472656, 155.87820434570312, 164.47792053222656, 163.0135498046875, 78.00125122070312, 53.96038818359375, 57.57662582397461, 59.258487701416016, 68.37798309326172, 76.97594451904297, 78.10308837890625, 78.8959732055664, 68.56745147705078, 50.564720153808594, 51.15562057495117, 52.24510955810547, 62.19132614135742, 73.7971420288086, 73.88738250732422, 73.40851593017578, 63.297935485839844, 60.73905944824219, 61.28579330444336, 62.04478454589844, 70.91190338134766, 78.38409423828125, 77.61772155761719, 79.24359893798828, 65.52764129638672, 54.95684814453125, 56.09237289428711, 56.10070037841797, 65.45590209960938, 71.2211685180664, 72.08959197998047, 86.14546203613281, 103.78992462158203, 103.45951080322266, 101.6843032836914, 118.05889129638672, 130.0716094970703, 132.269775390625, 129.5440673828125, 112.5935287475586, 99.59398651123047, 97.53851318359375, 96.46517944335938, 109.69062805175781, 120.13895416259766, 119.2375259399414, 120.04069519042969, 111.32929229736328, 100.00984191894531, 101.45521545410156, 100.26010131835938, 110.92164611816406, 121.2256088256836, 118.46227264404297, 118.87080383300781, 104.1778564453125, 93.16500091552734, 93.08271026611328, 92.5315170288086, 102.31918334960938, 111.0709228515625, 109.1786117553711, 153.87881469726562, 98.10033416748047, 98.19693756103516, 99.34356689453125, 113.22010803222656, 124.66273498535156, 125.0591049194336, 126.86549377441406, 109.03254699707031, 83.14134216308594, 84.62039947509766, 84.668212890625, 100.46849060058594, 116.63033294677734, 114.73472595214844, 117.2662582397461, 109.45870208740234, 100.07527923583984, 98.48712921142578, 98.57927703857422, 116.37539672851562, 130.4188232421875, 129.8782958984375, 129.90750122070312, 101.52254486083984, 80.03534698486328, 79.51190948486328, 81.70326232910156, 97.61055755615234, 116.43634796142578, 115.96722412109375, 118.19044494628906, 138.79248046875, 159.0773468017578, 157.90419006347656, 160.18408203125, 167.72789001464844, 174.6962127685547, 174.19627380371094, 176.0043182373047, 157.31967163085938, 146.61981201171875, 145.10391235351562, 143.73301696777344, 153.16217041015625, 162.75648498535156, 162.43368530273438, 161.7242889404297, 160.4725341796875, 155.9847869873047, 154.38754272460938, 154.5671844482422, 165.25692749023438, 173.69302368164062, 174.21075439453125, 173.292236328125, 161.5001983642578, 143.28387451171875, 146.29664611816406, 148.31422424316406, 155.47903442382812, 163.81021118164062, 165.0828094482422, 73.19761657714844, 63.698402404785156, 64.5020751953125, 62.64133071899414, 72.67115783691406, 80.54254150390625, 81.57212829589844, 81.15962982177734, 68.64286041259766, 54.97642135620117, 56.047752380371094, 55.58205032348633, 63.63264083862305, 72.8617172241211, 70.9384994506836, 70.19514465332031, 66.50725555419922, 56.585933685302734, 55.610328674316406, 56.46511459350586, 68.80017852783203, 78.1609878540039, 77.82659912109375, 82.71202850341797, 67.19230651855469, 51.9310302734375, 53.186344146728516, 52.81344223022461, 64.96113586425781, 75.08747863769531, 75.92064666748047, 87.99903869628906, 101.37603759765625, 100.408203125, 102.96160888671875, 111.37434387207031, 117.81541442871094, 119.90555572509766, 124.39607238769531, 108.96082305908203, 94.25405883789062, 94.87088012695312, 95.28302764892578, 103.95957946777344, 111.30836486816406, 114.44900512695312, 115.31939697265625, 112.8554916381836, 103.52101135253906, 101.48912048339844, 108.8348388671875, 119.570556640625, 131.61013793945312, 132.34820556640625, 132.24246215820312, 116.51362609863281, 102.05411529541016, 102.08252716064453, 104.37144470214844, 115.4930419921875, 125.25242614746094, 123.97925567626953, -22.061264038085938, -88.22857666015625, -91.10030364990234, -90.57660675048828, -68.9188232421875, -52.86848831176758, -52.77677917480469, -55.04191970825195, -60.03783416748047, -92.0365219116211, -88.72083282470703, -92.28191375732422, -73.47811889648438, -56.15005874633789, -53.84568786621094, -60.43852233886719, -76.69032287597656, -90.2850341796875, -91.58043670654297, -97.5027847290039, -90.63371276855469, -79.3434066772461, -80.17802429199219, -79.97734832763672, -89.96858215332031, -100.24593353271484, -103.40989685058594, -106.81169891357422, -93.34768676757812, -80.49557495117188, -81.29090118408203, -79.07416534423828, -67.3479995727539, -63.53685760498047, -62.500999450683594, -59.014991760253906, -55.32026672363281, -45.85344314575195, -45.20465850830078, -41.754241943359375, -49.2135124206543, -62.978580474853516, -63.24665832519531, -59.41325378417969, -53.21672439575195, -47.271942138671875, -44.61680603027344, -41.622596740722656, -48.777076721191406, -53.31425857543945, -51.069419860839844, -49.56029510498047, -42.69806671142578, -36.88123321533203, -35.922157287597656, -36.012237548828125, -42.71355438232422, -51.381202697753906, -47.0734977722168, -47.321529388427734, -37.010684967041016, -35.867881774902344, -32.43841552734375, -56.841278076171875, -140.97569274902344, -132.91732788085938, -135.9717254638672, -110.6531753540039, -92.03197479248047, -86.31317138671875, -81.87538146972656, -120.54574584960938, -153.35836791992188, -154.47915649414062, -149.3662109375, -132.4961395263672, -112.44377899169922, -105.92259216308594, -100.65303802490234, -119.27108001708984, -142.4833221435547, -134.53176879882812, -129.24205017089844, -110.46642303466797, -88.50473022460938, -89.34561157226562, -85.4465103149414, -114.91837310791016, -137.80148315429688, -135.8423614501953, -133.4420928955078, -113.20051574707031, -96.0618896484375, -95.02870178222656, -71.65784454345703, -61.8405647277832, -59.12400436401367, -57.068153381347656, -45.95633316040039, -40.06816864013672, -35.274147033691406, -32.51908874511719, -49.695804595947266, -58.901893615722656, -60.14982223510742, -59.15279769897461, -47.20697784423828, -37.545936584472656, -34.846561431884766, -38.835235595703125, -44.752159118652344, -49.22584915161133, -40.948341369628906, -38.974708557128906, -35.194400787353516, -33.21379089355469, -31.26087760925293, -29.947023391723633, -43.607383728027344, -57.62165451049805, -51.48823165893555, -48.18696975708008, -41.51220703125, -37.58559036254883, -36.946044921875, -48.78896713256836, -98.466796875, -98.33875274658203, -92.83214569091797, -91.32073211669922, -85.7105712890625, -83.13192749023438, -79.70960998535156, -99.76658630371094, -114.10692596435547, -110.42794036865234, -106.47059631347656, -99.23394775390625, -87.6504898071289, -84.1133804321289, -82.586181640625, -80.44892120361328, -91.9897232055664, -95.32884216308594, -91.61139678955078, -69.69352722167969, -56.0672492980957, -54.219669342041016, -53.21656799316406, -78.55001068115234, -95.45856475830078, -95.4153060913086, -94.63495635986328, -74.72953796386719, -70.22196197509766, -60.40345764160156, -53.43779373168945, -71.0264663696289, -55.06678009033203, -53.84290313720703, -52.33656311035156, -42.39295196533203, -36.10434341430664, -37.8292236328125, -36.273494720458984, -44.13374328613281, -52.96216583251953, -50.21276092529297, -50.892879486083984, -39.80132293701172, -32.893218994140625, -34.97481155395508, -32.77400588989258, -51.57752227783203, -66.40609741210938, -63.896095275878906, -64.53548431396484, -55.80078887939453, -46.470298767089844, -47.82609558105469, -42.864463806152344, -57.375877380371094, -66.52481079101562, -64.59873962402344, -61.89815139770508, -51.349586486816406, -44.44007873535156, -42.27656173706055, -66.84127044677734, -137.0470428466797, -137.29725646972656, -136.87339782714844, -112.13983917236328, -93.60567474365234, -89.55748748779297, -89.15400695800781, -121.02803039550781, -139.7775421142578, -142.35877990722656, -143.55718994140625, -123.07258605957031, -103.72498321533203, -104.78661346435547, -101.36591339111328, -121.53409576416016, -142.50637817382812, -138.50930786132812, -130.9190673828125, -114.3311996459961, -97.53732299804688, -92.61138916015625, -87.26254272460938, -122.38477325439453, -149.4737091064453, -153.04945373535156, -148.57225036621094, -128.36029052734375, -104.17106628417969, -104.64437103271484, -74.7716064453125, -48.78231430053711, -48.64637756347656, -45.69782257080078, -37.1319694519043, -34.37567901611328, -30.1356258392334, -32.74102020263672, -40.796958923339844, -57.99178695678711, -57.29134750366211, -59.36184310913086, -47.980979919433594, -38.20130157470703, -39.96235275268555, -39.08953094482422, -50.9455680847168, -67.11778259277344, -61.135536193847656, -57.48064041137695, -49.23457336425781, -40.40194320678711, -37.09687042236328, -32.74159622192383, -49.20940399169922, -63.060523986816406, -62.28374481201172, -57.58442306518555, -44.84098434448242, -36.25237274169922, -33.187191009521484, -31.941104888916016, -18.350502014160156, -17.26032066345215, -17.366661071777344, -4.269144058227539, 6.6480560302734375, 8.199321746826172, 7.324893474578857, -3.4480233192443848, -21.827232360839844, -21.723255157470703, -20.664493560791016, -10.853426933288574, 2.1036784648895264, 1.8345062732696533, 2.4257984161376953, -8.815690040588379, -18.98250961303711, -18.104991912841797, -18.31252670288086, -7.807149887084961, 5.514386177062988, 5.227441310882568, 3.277169942855835, -9.295011520385742, -20.722919464111328, -20.905410766601562, -21.268531799316406, -14.452421188354492, -2.457402467727661, -3.6889586448669434, -4.9782867431640625, 15.59316349029541, 38.199119567871094, 36.21104431152344, 34.60101318359375, 48.066932678222656, 52.80963134765625, 55.981929779052734, 53.214874267578125, 52.945167541503906, 40.444091796875, 37.027740478515625, 33.603538513183594, 54.640892028808594, 64.5007095336914, 64.4967269897461, 62.943546295166016, 29.983720779418945, 18.103546142578125, 18.1448917388916, 21.06084632873535, 18.935094833374023, 25.613727569580078, 23.617658615112305, 18.020418167114258, 20.584976196289062, 26.03390884399414, 25.86781883239746, 26.567340850830078, 30.89523696899414, 35.801918029785156, 33.913414001464844, 5.696777820587158, -28.7779541015625, -28.37738037109375, -27.634380340576172, -22.456989288330078, -17.907588958740234, -16.52198600769043, -15.422542572021484, -21.99179458618164, -28.005844116210938, -27.852989196777344, -28.350929260253906, -22.284778594970703, -17.489429473876953, -16.239465713500977, -15.457357406616211, -20.942489624023438, -25.42091941833496, -24.56244468688965, -25.9708309173584, -20.787525177001953, -16.359670639038086, -15.817916870117188, -15.10573673248291, -20.029096603393555, -28.08104705810547, -26.6643009185791, -26.353343963623047, -20.57459259033203, -15.43362045288086, -14.810823440551758, -12.729520797729492, -2.7407398223876953, -2.7625064849853516, -5.642704963684082, 3.860027313232422, 12.672883987426758, 11.238017082214355, 7.142847061157227, -1.8632164001464844, -5.332423210144043, -9.878334045410156, -8.652351379394531, -5.3511505126953125, -0.9424095153808594, -2.2395057678222656, -4.649879455566406, -11.407697677612305, -16.481977462768555, -18.260709762573242, -17.459754943847656, -21.39301300048828, -17.932958602905273, -20.259544372558594, -19.69425392150879, -19.561037063598633, -15.489521026611328, -15.116815567016602, -15.475191116333008, -17.978988647460938, -16.430219650268555, -17.05751609802246, -6.836162090301514, -18.445255279541016, -17.62908935546875, -17.013151168823242, -7.093568801879883, 5.94141960144043, 6.494970321655273, 8.896834373474121, -8.628206253051758, -21.020933151245117, -21.941669464111328, -21.456039428710938, -13.624612808227539, -5.27992057800293, -2.0513973236083984, 1.0206081867218018, -4.864263534545898, -15.244369506835938, -17.546630859375, -19.08420181274414, -5.179756164550781, 6.641865253448486, 7.66119384765625, 9.082984924316406, -4.036459922790527, -23.907875061035156, -21.659452438354492, -21.188222885131836, -10.644697189331055, -0.7683126926422119, 0.9305689334869385, 2.5459890365600586, 19.39961814880371, 28.038375854492188, 26.33220672607422, 25.50733184814453, 29.669208526611328, 31.17111587524414, 33.3505859375, 37.857730865478516, 32.51564025878906, 31.26051902770996, 29.31280517578125, 27.969209671020508, 35.82294845581055, 41.85972595214844, 42.74044418334961, 47.35496520996094, 43.782440185546875, 39.922325134277344, 44.59243392944336, 48.62743377685547, 57.4810791015625, 60.27568817138672, 65.0670394897461, 62.921363830566406, 57.98482894897461, 43.92267608642578, 50.44416809082031, 51.923126220703125, 67.79259490966797, 77.08753204345703, 77.26408386230469, -9.539658546447754, -26.170066833496094, -25.328462600708008, -23.85202407836914, -20.647174835205078, -16.54727554321289, -15.394121170043945, -15.89487075805664, -20.508060455322266, -28.168886184692383, -27.656982421875, -27.934329986572266, -22.239402770996094, -15.71601676940918, -14.858149528503418, -16.286752700805664, -22.330097198486328, -30.758209228515625, -29.68787384033203, -27.476306915283203, -23.660419464111328, -16.373268127441406, -18.25749397277832, -16.814220428466797, -20.981277465820312, -28.718835830688477, -28.725265502929688, -27.185333251953125, -21.23335838317871, -16.093904495239258, -16.05695343017578, -12.859696388244629, -14.863138198852539, -16.4295711517334, -17.651901245117188, -19.475040435791016, -18.619962692260742, -16.22581672668457, -8.505514144897461, -18.50995635986328, -15.063257217407227, -15.921360969543457, -15.22226619720459, -17.199962615966797, -16.70381736755371, -14.473567962646484, -13.488636016845703, -5.9449462890625, -6.079522132873535, -3.4121246337890625, -0.12611770629882812, 2.5878124237060547, 8.511463165283203, 9.673519134521484, 11.811796188354492, -4.481576919555664, -8.41140365600586, -7.0057172775268555, -6.339234352111816, -2.9015121459960938, 0.5855007171630859, 2.408205032348633], \"z\": [-75.11567687988281, -69.80027770996094, -63.72055435180664, -70.10350799560547, -75.4749984741211, -69.74140930175781, -64.39022064208984, -69.81748962402344, -73.18009948730469, -66.82018280029297, -60.856075286865234, -71.28550720214844, -77.0973892211914, -72.43974304199219, -66.2457046508789, -58.76445388793945, -56.3254508972168, -53.42207336425781, -49.8043098449707, -54.19785690307617, -60.430606842041016, -54.7941780090332, -48.45951843261719, -39.81680679321289, -52.216251373291016, -47.325958251953125, -44.612060546875, -44.58605194091797, -47.29612350463867, -39.402732849121094, -32.74658966064453, -58.644081115722656, -80.02472686767578, -75.39363098144531, -69.1427993774414, -73.91415405273438, -75.92472076416016, -71.31689453125, -66.13935089111328, -68.2989730834961, -78.8886489868164, -72.99639892578125, -65.89778900146484, -75.21183776855469, -77.46546936035156, -70.46337127685547, -62.89987564086914, -56.396690368652344, -49.52682113647461, -40.555686950683594, -28.681167602539062, -37.22735595703125, -46.37823486328125, -36.17915344238281, -24.284759521484375, -23.892324447631836, -40.156856536865234, -26.469730377197266, -11.995992660522461, -24.14696502685547, -30.36221694946289, -12.500521659851074, -54.56261444091797, -71.75867462158203, -68.55197143554688, -65.37220764160156, -71.50023651123047, -78.00164794921875, -74.61277770996094, -69.9452896118164, -68.26750946044922, -72.52388000488281, -68.8125228881836, -63.51994323730469, -73.97181701660156, -80.50899505615234, -76.39669036865234, -68.67494201660156, -58.929569244384766, -51.655765533447266, -41.92570495605469, -25.339841842651367, -33.24884033203125, -50.475162506103516, -36.73026657104492, -22.00349998474121, -35.5469970703125, -50.08281326293945, -40.020957946777344, -31.191478729248047, -43.22361373901367, -50.03341293334961, -39.5999755859375, -23.82883071899414, -61.34769058227539, -79.27140045166016, -73.09475708007812, -64.09754943847656, -72.03224182128906, -77.1584701538086, -70.56048583984375, -62.75259017944336, -68.24491882324219, -78.43958282470703, -73.49406433105469, -62.28343963623047, -70.39212799072266, -76.44388580322266, -67.40150451660156, -59.53494644165039, -53.44094467163086, -41.46141815185547, -27.289005279541016, -10.09708023071289, -29.239206314086914, -40.51621627807617, -25.5575008392334, -10.196282386779785, -27.511287689208984, -38.57401657104492, -25.0135498046875, -12.225922584533691, -23.60773468017578, -35.82084655761719, -18.88768768310547, 17.56413459777832, 75.41462707519531, 75.0665512084961, 76.43843841552734, 74.91108703613281, 71.70574188232422, 75.54405212402344, 76.74642944335938, 79.91461944580078, 72.042724609375, 74.56187438964844, 79.9834976196289, 78.09060668945312, 70.2020492553711, 74.48149871826172, 78.03837585449219, 80.85301971435547, 82.22620391845703, 88.28807067871094, 93.8383560180664, 88.6541976928711, 83.38849639892578, 89.45108795166016, 95.35882568359375, 91.9854736328125, 83.53490447998047, 90.66327667236328, 95.95423126220703, 95.18382263183594, 91.6486587524414, 97.31140899658203, 100.41765594482422, 96.97949981689453, 51.200950622558594, 61.25851058959961, 71.05790710449219, 61.9935302734375, 43.9271240234375, 54.36890411376953, 65.29075622558594, 66.65992736816406, 54.39459991455078, 69.91349792480469, 80.73336791992188, 63.55458068847656, 51.467689514160156, 64.76049041748047, 75.89387512207031, 85.83255767822266, 91.83814239501953, 96.11530303955078, 99.92154693603516, 94.70350646972656, 89.13806915283203, 92.2574462890625, 96.22232055664062, 98.3260269165039, 100.88307189941406, 103.67993927001953, 104.25909423828125, 101.42701721191406, 97.76732635498047, 102.54206085205078, 75.93245697021484, 53.268917083740234, 64.75849914550781, 73.31835174560547, 58.095062255859375, 51.57863998413086, 63.25288391113281, 74.10289001464844, 62.839813232421875, 59.59458541870117, 68.09187316894531, 76.24803924560547, 68.00048065185547, 57.63484573364258, 70.86650848388672, 77.97021484375, 82.78260040283203, 87.12367248535156, 90.60556030273438, 93.00616455078125, 91.99554443359375, 91.67236328125, 95.39125061035156, 98.88593292236328, 92.34449768066406, 85.59424591064453, 91.44384002685547, 94.26893615722656, 93.44427490234375, 92.35899353027344, 98.74706268310547, 77.3983383178711, 41.8256950378418, 55.64038848876953, 68.68038177490234, 58.6099967956543, 44.16094970703125, 57.82941436767578, 71.55302429199219, 59.17182922363281, 46.488529205322266, 59.69704055786133, 72.28437042236328, 63.450538635253906, 50.655731201171875, 64.3822250366211, 75.2161636352539, 83.39947509765625, 91.6003189086914, 99.38018035888672, 102.48319244384766, 98.21562957763672, 87.664306640625, 94.57929992675781, 98.89382934570312, 94.0549545288086, 89.73439025878906, 97.82240295410156, 102.45674133300781, 96.7350845336914, 91.15707397460938, 97.45227813720703, -0.10579681396484375, -74.07312774658203, -65.08901977539062, -56.05223846435547, -65.55469512939453, -78.2478256225586, -66.57463073730469, -55.371315002441406, -59.766841888427734, -71.65602111816406, -63.781333923339844, -52.240474700927734, -62.56915283203125, -75.72372436523438, -65.34027099609375, -51.20817565917969, -43.071144104003906, -33.02528762817383, -21.264799118041992, -9.321647644042969, -18.803388595581055, -33.614681243896484, -22.016427993774414, -10.695634841918945, -12.713421821594238, -23.202533721923828, -11.732470512390137, 0.30863332748413086, -11.942511558532715, -25.74420166015625, -16.378459930419922, -2.9189505577087402, -56.79444122314453, -78.26570892333984, -68.3494644165039, -56.97151565551758, -66.35149383544922, -78.13035583496094, -67.33711242675781, -54.97343063354492, -64.74121856689453, -79.30458068847656, -68.9103012084961, -54.20888900756836, -66.19060516357422, -79.89058685302734, -68.61811828613281, -56.93162155151367, -43.04692459106445, -30.02336883544922, -16.7947940826416, -4.975334644317627, -18.369983673095703, -33.372005462646484, -18.296749114990234, -4.149450302124023, -12.17611026763916, -28.50716781616211, -15.392759323120117, 0.33026134967803955, -14.245349884033203, -27.379871368408203, -7.7924089431762695, -54.87869644165039, -71.48827362060547, -59.512115478515625, -47.128173828125, -53.94774627685547, -72.79438781738281, -61.246097564697266, -46.540096282958984, -58.935726165771484, -68.33319854736328, -53.07833480834961, -40.295711517333984, -52.592796325683594, -68.31027221679688, -55.94869613647461, -45.59026336669922, -30.428951263427734, -19.724185943603516, -8.252152442932129, 5.017447471618652, -5.02400016784668, -23.109970092773438, -10.301551818847656, 3.495241165161133, -0.2827720642089844, -12.16922664642334, -0.14003372192382812, 11.415685653686523, 0.9413776397705078, -9.044942855834961, 8.387666702270508, -38.32755661010742, -81.4463119506836, -73.7390365600586, -63.55158996582031, -71.97938537597656, -83.0095443725586, -73.17084503173828, -60.89614486694336, -72.17636108398438, -79.84489440917969, -71.05643463134766, -58.62431335449219, -68.56879425048828, -81.88018798828125, -74.17015838623047, -62.0122184753418, -49.66746520996094, -36.65806198120117, -21.090679168701172, -5.089609146118164, -21.64501953125, -36.28002166748047, -20.300121307373047, -4.80851936340332, -20.36627960205078, -35.50733184814453, -22.805023193359375, -6.15830135345459, -22.141361236572266, -35.83072280883789, -16.48103141784668, 10.528154373168945, 21.365955352783203, 33.869384765625, 43.89053726196289, 32.863861083984375, 21.634389877319336, 33.125980377197266, 46.947853088378906, 36.304222106933594, 29.146406173706055, 39.99454116821289, 52.8862419128418, 36.77788543701172, 32.79716491699219, 45.96662902832031, 55.369964599609375, 63.323516845703125, 72.63236236572266, 81.280029296875, 90.04415893554688, 82.83609771728516, 73.5792465209961, 83.26653289794922, 93.15603637695312, 84.0749740600586, 76.71709442138672, 84.04672241210938, 94.2535629272461, 87.89378356933594, 75.81241607666016, 88.24691009521484, 96.9044189453125, 67.02352142333984, 20.34908676147461, 34.47459030151367, 48.36683654785156, 39.19314956665039, 19.855594635009766, 34.89188003540039, 48.62915802001953, 36.97944641113281, 26.284719467163086, 42.432132720947266, 57.72309875488281, 43.601417541503906, 29.016653060913086, 43.796173095703125, 56.39860916137695, 67.09082794189453, 76.49229431152344, 87.59153747558594, 97.76410675048828, 89.921142578125, 75.47077178955078, 85.44176483154297, 96.98262786865234, 89.44914245605469, 80.2958984375, 91.02360534667969, 100.49853515625, 92.51654052734375, 85.40130615234375, 98.8294906616211, 72.66649627685547, 15.534561157226562, 30.091243743896484, 43.8978385925293, 26.71323013305664, 15.420140266418457, 29.850448608398438, 44.90049743652344, 30.04216957092285, 13.19504451751709, 27.584699630737305, 41.98186492919922, 28.708980560302734, 11.692684173583984, 25.729158401489258, 43.25087356567383, 56.470333099365234, 70.4490737915039, 79.81880187988281, 92.37633514404297, 79.23955535888672, 66.44529724121094, 80.422119140625, 92.56806945800781, 77.84916687011719, 67.12783813476562, 78.73979187011719, 89.81333923339844, 77.44942474365234, 73.29827117919922, 88.98658752441406, 62.287967681884766, 26.14788818359375, 43.962337493896484, 61.24360656738281, 44.65885543823242, 31.20726203918457, 49.57310104370117, 64.68765258789062, 42.425628662109375, 29.700376510620117, 45.88515853881836, 61.23752212524414, 48.73419189453125, 36.829017639160156, 50.73743438720703, 64.96369171142578, 75.0182876586914, 86.25518035888672, 97.57001495361328, 103.81707763671875, 96.52955627441406, 84.8134765625, 96.01841735839844, 104.99089813232422, 93.95001220703125, 84.7176284790039, 95.07539367675781, 103.02455139160156, 97.19076538085938, 88.88578796386719, 102.14714050292969, -11.924468994140625, -70.50331115722656, -66.68769836425781, -62.171409606933594, -67.3755111694336, -74.95370483398438, -69.77010345458984, -64.18502044677734, -65.23698425292969, -73.36187744140625, -67.3602066040039, -60.00291442871094, -64.50264739990234, -74.95294189453125, -70.09281921386719, -61.73696517944336, -54.283538818359375, -44.9937858581543, -33.503089904785156, -25.61416244506836, -39.92889404296875, -49.344669342041016, -37.87367248535156, -26.82799530029297, -40.92965316772461, -44.09823226928711, -33.24152374267578, -21.60805892944336, -34.933353424072266, -48.70771789550781, -36.00094985961914, -24.955860137939453, -59.43443298339844, -79.74649810791016, -72.75245666503906, -63.60612487792969, -70.92635345458984, -78.21773529052734, -70.7987060546875, -59.585853576660156, -66.71243286132812, -81.07276153564453, -73.27506256103516, -64.70698547363281, -66.95252990722656, -77.06793975830078, -69.74300384521484, -58.749183654785156, -49.432273864746094, -39.84395217895508, -24.3486385345459, -11.706178665161133, -26.63152313232422, -36.532554626464844, -20.440780639648438, -3.188436508178711, -26.099655151367188, -39.125640869140625, -28.037307739257812, -14.750457763671875, -23.787750244140625, -30.564302444458008, -12.171476364135742, -41.86616134643555, -71.28970336914062, -66.61460876464844, -58.50251007080078, -64.25838470458984, -69.88662719726562, -64.60800170898438, -59.171749114990234, -63.96875762939453, -72.09748840332031, -65.70232391357422, -59.507545471191406, -65.49620056152344, -71.44680786132812, -64.59571838378906, -54.76396179199219, -45.464778900146484, -39.49629592895508, -28.733600616455078, -20.93120002746582, -33.957462310791016, -37.32798767089844, -31.02330207824707, -25.7783203125, -29.195152282714844, -35.85688018798828, -24.381694793701172, -14.66455078125, -26.0018367767334, -34.6771240234375, -22.31195831298828, -64.73953247070312, -82.10749053955078, -79.60722351074219, -74.65200805664062, -79.38607788085938, -80.12945556640625, -73.94425964355469, -67.74739074707031, -81.19309997558594, -80.3399429321289, -76.14629364013672, -69.8315658569336, -74.86884307861328, -82.45254516601562, -76.1123046875, -68.48503875732422, -61.23713684082031, -53.08092498779297, -41.6264762878418, -23.814373016357422, -35.691200256347656, -46.70024871826172, -30.297468185424805, -11.706537246704102, -37.56670379638672, -46.41497039794922, -35.64907455444336, -20.521345138549805, -31.340681076049805, -41.68858337402344, -20.78496551513672, 18.27865982055664, 54.43328094482422, 62.637176513671875, 70.4776840209961, 65.4978256225586, 55.952796936035156, 67.13102722167969, 75.97361755371094, 62.38157653808594, 52.487815856933594, 62.91926574707031, 73.3691177368164, 64.88875579833984, 59.128509521484375, 66.32569122314453, 74.20012664794922, 78.91276550292969, 81.48222351074219, 85.04204559326172, 90.53028869628906, 87.57738494873047, 89.40972900390625, 90.57205200195312, 95.9549331665039, 89.23633575439453, 81.74927520751953, 87.06148529052734, 92.28758239746094, 85.26795959472656, 87.22021484375, 90.18402099609375, 95.3570785522461, 92.52255249023438, 50.2374153137207, 62.53020477294922, 71.73008728027344, 57.30732727050781, 38.951194763183594, 55.694175720214844, 67.82176208496094, 56.02671813964844, 49.851810455322266, 64.97514343261719, 74.15727233886719, 57.317710876464844, 38.81304931640625, 53.23246383666992, 65.83668518066406, 79.20940399169922, 88.4265365600586, 93.88774108886719, 100.33537292480469, 93.12384796142578, 87.40837860107422, 95.49785614013672, 98.07999420166016, 89.83002471923828, 91.65339660644531, 95.8267822265625, 99.34388732910156, 94.61234283447266, 86.11808776855469, 93.4148941040039, 68.4515609741211, 45.25377655029297, 52.94304656982422, 59.455013275146484, 50.48381805419922, 48.18464279174805, 55.009124755859375, 61.1325569152832, 52.03614044189453, 36.944419860839844, 47.57954406738281, 57.341468811035156, 48.756996154785156, 46.31161880493164, 52.74668884277344, 61.918701171875, 66.09886932373047, 76.59575653076172, 84.24503326416016, 89.01485443115234, 84.11585235595703, 77.3974380493164, 83.08724212646484, 87.36846160888672, 83.617431640625, 76.66730499267578, 83.19546508789062, 89.24078369140625, 81.67546844482422, 74.88137817382812, 84.27265167236328, 84.50267791748047, 53.728515625, 67.58132934570312, 76.72750854492188, 60.86284637451172, 43.449527740478516, 61.39897155761719, 75.08231353759766, 60.94397735595703, 54.071075439453125, 69.52398681640625, 79.79818725585938, 65.38296508789062, 49.3392448425293, 65.61441040039062, 77.484375, 86.80209350585938, 95.98485565185547, 97.32994079589844, 98.02050018310547, 100.69669342041016, 92.95719909667969, 96.74749755859375, 98.49745178222656, 95.18255615234375, 89.3281021118164, 95.90147399902344, 98.61990356445312, 97.35095977783203, 94.91942596435547, 98.16339111328125, 0.23104286193847656, -76.36310577392578, -69.10777282714844, -60.30242156982422, -71.12303924560547, -76.87882995605469, -70.47234344482422, -60.611934661865234, -67.39189147949219, -79.1004409790039, -70.93537902832031, -62.74252700805664, -72.55139923095703, -76.37068939208984, -66.25838470458984, -57.85179138183594, -48.462303161621094, -35.65596008300781, -22.108840942382812, -4.01438045501709, -24.907882690429688, -39.23520278930664, -25.590259552001953, -9.142568588256836, -27.038551330566406, -37.20262145996094, -20.584012985229492, -5.75430965423584, -18.812061309814453, -36.819759368896484, -23.108898162841797, -7.1481828689575195, -40.24595642089844, -79.2496337890625, -68.55492401123047, -57.90647506713867, -70.04721069335938, -80.90087127685547, -71.12240600585938, -59.79580307006836, -69.74775695800781, -76.9547348022461, -65.86024475097656, -53.971168518066406, -68.13043975830078, -78.20318603515625, -68.85901641845703, -58.0312614440918, -45.37603759765625, -33.12688446044922, -15.385725021362305, 0.11375236511230469, -13.942377090454102, -33.11118698120117, -17.419696807861328, -0.10581159591674805, -17.685569763183594, -31.334627151489258, -14.10366153717041, 1.3889951705932617, -15.78451919555664, -31.75238037109375, -10.596328735351562, -60.32196807861328, -81.55169677734375, -76.73900604248047, -71.83811950683594, -80.38270568847656, -83.01675415039062, -82.26150512695312, -70.97222900390625, -78.28581237792969, -82.68070983886719, -77.98530578613281, -68.60913848876953, -77.09255981445312, -84.89314270019531, -75.35648345947266, -66.87932586669922, -58.30021667480469, -47.029239654541016, -32.15651321411133, -15.034292221069336, -33.31840896606445, -47.350791931152344, -32.46204376220703, -17.019031524658203, -29.114315032958984, -44.160064697265625, -27.70460319519043, -11.89406681060791, -30.866661071777344, -40.77427291870117, -19.657855987548828, -24.119754791259766, -77.39462280273438, -65.70805358886719, -54.139835357666016, -66.68634033203125, -79.71484375, -68.78712463378906, -57.506622314453125, -67.30215454101562, -80.51309204101562, -68.58175659179688, -55.3839111328125, -65.39251708984375, -80.75653839111328, -68.31288146972656, -56.213623046875, -43.99271774291992, -29.464557647705078, -10.717438697814941, 9.232110023498535, -9.454408645629883, -32.346107482910156, -15.942703247070312, 3.1985225677490234, -10.675366401672363, -31.860977172851562, -14.231261253356934, 7.744272232055664, -17.275442123413086, -28.122230529785156, -7.692970275878906, 4.989903450012207, 10.90317153930664, 29.80794334411621, 48.5408935546875, 32.1676025390625, 21.929553985595703, 37.72734069824219, 52.809814453125, 37.82707595825195, 16.51256561279297, 32.591007232666016, 48.321895599365234, 33.416236877441406, 21.37782096862793, 38.25135040283203, 51.803741455078125, 61.18581008911133, 71.12054443359375, 79.88065338134766, 91.01933288574219, 82.97161102294922, 71.78453063964844, 84.39167785644531, 90.00980377197266, 84.04541015625, 74.99969482421875, 84.04090118408203, 92.51882934570312, 87.48783874511719, 72.93253326416016, 82.18075561523438, 92.71214294433594, 55.70940017700195, 13.341937065124512, 31.51797866821289, 50.275367736816406, 31.763574600219727, 20.18362045288086, 36.12110900878906, 52.06382751464844, 34.12163162231445, 19.323871612548828, 36.947364807128906, 52.949745178222656, 33.40530776977539, 22.98685646057129, 40.400428771972656, 54.68585968017578, 65.25022888183594, 74.48934173583984, 84.2457504272461, 93.58767700195312, 87.44889068603516, 75.83218383789062, 84.96247863769531, 93.56269073486328, 83.78494262695312, 77.50553894042969, 87.36799621582031, 94.86579895019531, 85.94503021240234, 79.59637451171875, 91.11369323730469, 69.3589859008789, 28.277402877807617, 43.342559814453125, 57.33774948120117, 45.21068572998047, 28.120853424072266, 42.633182525634766, 58.757545471191406, 42.496070861816406, 28.427635192871094, 46.10065841674805, 60.734107971191406, 41.487266540527344, 30.048851013183594, 45.4512825012207, 61.597591400146484, 71.67828369140625, 84.68106842041016, 90.19501495361328, 95.7409439086914, 92.51762390136719, 82.5709228515625, 89.92420196533203, 94.26038360595703, 91.41738891601562, 81.46774291992188, 90.93169403076172, 97.20881652832031, 91.94483184814453, 80.01026153564453, 90.48410034179688, 38.2547492980957, -0.5087242126464844, 20.6949520111084, 41.90436553955078, 24.317703247070312, 11.289360046386719, 31.739343643188477, 48.110107421875, 24.950204849243164, -0.3257637023925781, 21.049530029296875, 40.66593551635742, 30.20296287536621, 19.337291717529297, 37.255958557128906, 50.601097106933594, 58.098628997802734, 68.71305847167969, 79.37818145751953, 89.50591278076172, 82.09487915039062, 69.1376724243164, 80.22843933105469, 90.65934753417969, 78.4912109375, 67.07064819335938, 79.07679748535156, 90.41171264648438, 81.51224517822266, 72.65040588378906, 87.36785888671875]}],\n",
              "                        {\"template\": {\"data\": {\"bar\": [{\"error_x\": {\"color\": \"#2a3f5f\"}, \"error_y\": {\"color\": \"#2a3f5f\"}, \"marker\": {\"line\": {\"color\": \"#E5ECF6\", \"width\": 0.5}}, \"type\": \"bar\"}], \"barpolar\": [{\"marker\": {\"line\": {\"color\": \"#E5ECF6\", \"width\": 0.5}}, \"type\": \"barpolar\"}], \"carpet\": [{\"aaxis\": {\"endlinecolor\": \"#2a3f5f\", \"gridcolor\": \"white\", \"linecolor\": \"white\", \"minorgridcolor\": \"white\", \"startlinecolor\": \"#2a3f5f\"}, \"baxis\": {\"endlinecolor\": \"#2a3f5f\", \"gridcolor\": \"white\", \"linecolor\": \"white\", \"minorgridcolor\": \"white\", \"startlinecolor\": \"#2a3f5f\"}, \"type\": \"carpet\"}], \"choropleth\": [{\"colorbar\": {\"outlinewidth\": 0, \"ticks\": \"\"}, \"type\": \"choropleth\"}], \"contour\": [{\"colorbar\": {\"outlinewidth\": 0, \"ticks\": \"\"}, \"colorscale\": [[0.0, \"#0d0887\"], [0.1111111111111111, \"#46039f\"], [0.2222222222222222, \"#7201a8\"], [0.3333333333333333, \"#9c179e\"], [0.4444444444444444, \"#bd3786\"], [0.5555555555555556, \"#d8576b\"], [0.6666666666666666, \"#ed7953\"], [0.7777777777777778, \"#fb9f3a\"], [0.8888888888888888, \"#fdca26\"], [1.0, \"#f0f921\"]], \"type\": \"contour\"}], \"contourcarpet\": [{\"colorbar\": {\"outlinewidth\": 0, \"ticks\": \"\"}, \"type\": \"contourcarpet\"}], \"heatmap\": [{\"colorbar\": {\"outlinewidth\": 0, \"ticks\": \"\"}, \"colorscale\": [[0.0, \"#0d0887\"], [0.1111111111111111, \"#46039f\"], [0.2222222222222222, \"#7201a8\"], [0.3333333333333333, \"#9c179e\"], [0.4444444444444444, \"#bd3786\"], [0.5555555555555556, \"#d8576b\"], [0.6666666666666666, \"#ed7953\"], [0.7777777777777778, \"#fb9f3a\"], [0.8888888888888888, \"#fdca26\"], [1.0, \"#f0f921\"]], \"type\": \"heatmap\"}], \"heatmapgl\": [{\"colorbar\": {\"outlinewidth\": 0, \"ticks\": \"\"}, \"colorscale\": [[0.0, \"#0d0887\"], [0.1111111111111111, \"#46039f\"], [0.2222222222222222, \"#7201a8\"], [0.3333333333333333, \"#9c179e\"], [0.4444444444444444, \"#bd3786\"], [0.5555555555555556, \"#d8576b\"], [0.6666666666666666, \"#ed7953\"], [0.7777777777777778, \"#fb9f3a\"], [0.8888888888888888, \"#fdca26\"], [1.0, \"#f0f921\"]], \"type\": \"heatmapgl\"}], \"histogram\": [{\"marker\": {\"colorbar\": {\"outlinewidth\": 0, \"ticks\": \"\"}}, \"type\": \"histogram\"}], \"histogram2d\": [{\"colorbar\": {\"outlinewidth\": 0, \"ticks\": \"\"}, \"colorscale\": [[0.0, \"#0d0887\"], [0.1111111111111111, \"#46039f\"], [0.2222222222222222, \"#7201a8\"], [0.3333333333333333, \"#9c179e\"], [0.4444444444444444, \"#bd3786\"], [0.5555555555555556, \"#d8576b\"], [0.6666666666666666, \"#ed7953\"], [0.7777777777777778, \"#fb9f3a\"], [0.8888888888888888, \"#fdca26\"], [1.0, \"#f0f921\"]], \"type\": \"histogram2d\"}], \"histogram2dcontour\": [{\"colorbar\": {\"outlinewidth\": 0, \"ticks\": \"\"}, \"colorscale\": [[0.0, \"#0d0887\"], [0.1111111111111111, \"#46039f\"], [0.2222222222222222, \"#7201a8\"], [0.3333333333333333, \"#9c179e\"], [0.4444444444444444, \"#bd3786\"], [0.5555555555555556, \"#d8576b\"], [0.6666666666666666, \"#ed7953\"], [0.7777777777777778, \"#fb9f3a\"], [0.8888888888888888, \"#fdca26\"], [1.0, \"#f0f921\"]], \"type\": \"histogram2dcontour\"}], \"mesh3d\": [{\"colorbar\": {\"outlinewidth\": 0, \"ticks\": \"\"}, \"type\": \"mesh3d\"}], \"parcoords\": [{\"line\": {\"colorbar\": {\"outlinewidth\": 0, \"ticks\": \"\"}}, \"type\": \"parcoords\"}], \"pie\": [{\"automargin\": true, \"type\": \"pie\"}], \"scatter\": [{\"marker\": {\"colorbar\": {\"outlinewidth\": 0, \"ticks\": \"\"}}, \"type\": \"scatter\"}], \"scatter3d\": [{\"line\": {\"colorbar\": {\"outlinewidth\": 0, \"ticks\": \"\"}}, \"marker\": {\"colorbar\": {\"outlinewidth\": 0, \"ticks\": \"\"}}, \"type\": \"scatter3d\"}], \"scattercarpet\": [{\"marker\": {\"colorbar\": {\"outlinewidth\": 0, \"ticks\": \"\"}}, \"type\": \"scattercarpet\"}], \"scattergeo\": [{\"marker\": {\"colorbar\": {\"outlinewidth\": 0, \"ticks\": \"\"}}, \"type\": \"scattergeo\"}], \"scattergl\": [{\"marker\": {\"colorbar\": {\"outlinewidth\": 0, \"ticks\": \"\"}}, \"type\": \"scattergl\"}], \"scattermapbox\": [{\"marker\": {\"colorbar\": {\"outlinewidth\": 0, \"ticks\": \"\"}}, \"type\": \"scattermapbox\"}], \"scatterpolar\": [{\"marker\": {\"colorbar\": {\"outlinewidth\": 0, \"ticks\": \"\"}}, \"type\": \"scatterpolar\"}], \"scatterpolargl\": [{\"marker\": {\"colorbar\": {\"outlinewidth\": 0, \"ticks\": \"\"}}, \"type\": \"scatterpolargl\"}], \"scatterternary\": [{\"marker\": {\"colorbar\": {\"outlinewidth\": 0, \"ticks\": \"\"}}, \"type\": \"scatterternary\"}], \"surface\": [{\"colorbar\": {\"outlinewidth\": 0, \"ticks\": \"\"}, \"colorscale\": [[0.0, \"#0d0887\"], [0.1111111111111111, \"#46039f\"], [0.2222222222222222, \"#7201a8\"], [0.3333333333333333, \"#9c179e\"], [0.4444444444444444, \"#bd3786\"], [0.5555555555555556, \"#d8576b\"], [0.6666666666666666, \"#ed7953\"], [0.7777777777777778, \"#fb9f3a\"], [0.8888888888888888, \"#fdca26\"], [1.0, \"#f0f921\"]], \"type\": \"surface\"}], \"table\": [{\"cells\": {\"fill\": {\"color\": \"#EBF0F8\"}, \"line\": {\"color\": \"white\"}}, \"header\": {\"fill\": {\"color\": \"#C8D4E3\"}, \"line\": {\"color\": \"white\"}}, \"type\": \"table\"}]}, \"layout\": {\"annotationdefaults\": {\"arrowcolor\": \"#2a3f5f\", \"arrowhead\": 0, \"arrowwidth\": 1}, \"coloraxis\": {\"colorbar\": {\"outlinewidth\": 0, \"ticks\": \"\"}}, \"colorscale\": {\"diverging\": [[0, \"#8e0152\"], [0.1, \"#c51b7d\"], [0.2, \"#de77ae\"], [0.3, \"#f1b6da\"], [0.4, \"#fde0ef\"], [0.5, \"#f7f7f7\"], [0.6, \"#e6f5d0\"], [0.7, \"#b8e186\"], [0.8, \"#7fbc41\"], [0.9, \"#4d9221\"], [1, \"#276419\"]], \"sequential\": [[0.0, \"#0d0887\"], [0.1111111111111111, \"#46039f\"], [0.2222222222222222, \"#7201a8\"], [0.3333333333333333, \"#9c179e\"], [0.4444444444444444, \"#bd3786\"], [0.5555555555555556, \"#d8576b\"], [0.6666666666666666, \"#ed7953\"], [0.7777777777777778, \"#fb9f3a\"], [0.8888888888888888, \"#fdca26\"], [1.0, \"#f0f921\"]], \"sequentialminus\": [[0.0, \"#0d0887\"], [0.1111111111111111, \"#46039f\"], [0.2222222222222222, \"#7201a8\"], [0.3333333333333333, \"#9c179e\"], [0.4444444444444444, \"#bd3786\"], [0.5555555555555556, \"#d8576b\"], [0.6666666666666666, \"#ed7953\"], [0.7777777777777778, \"#fb9f3a\"], [0.8888888888888888, \"#fdca26\"], [1.0, \"#f0f921\"]]}, \"colorway\": [\"#636efa\", \"#EF553B\", \"#00cc96\", \"#ab63fa\", \"#FFA15A\", \"#19d3f3\", \"#FF6692\", \"#B6E880\", \"#FF97FF\", \"#FECB52\"], \"font\": {\"color\": \"#2a3f5f\"}, \"geo\": {\"bgcolor\": \"white\", \"lakecolor\": \"white\", \"landcolor\": \"#E5ECF6\", \"showlakes\": true, \"showland\": true, \"subunitcolor\": \"white\"}, \"hoverlabel\": {\"align\": \"left\"}, \"hovermode\": \"closest\", \"mapbox\": {\"style\": \"light\"}, \"paper_bgcolor\": \"white\", \"plot_bgcolor\": \"#E5ECF6\", \"polar\": {\"angularaxis\": {\"gridcolor\": \"white\", \"linecolor\": \"white\", \"ticks\": \"\"}, \"bgcolor\": \"#E5ECF6\", \"radialaxis\": {\"gridcolor\": \"white\", \"linecolor\": \"white\", \"ticks\": \"\"}}, \"scene\": {\"xaxis\": {\"backgroundcolor\": \"#E5ECF6\", \"gridcolor\": \"white\", \"gridwidth\": 2, \"linecolor\": \"white\", \"showbackground\": true, \"ticks\": \"\", \"zerolinecolor\": \"white\"}, \"yaxis\": {\"backgroundcolor\": \"#E5ECF6\", \"gridcolor\": \"white\", \"gridwidth\": 2, \"linecolor\": \"white\", \"showbackground\": true, \"ticks\": \"\", \"zerolinecolor\": \"white\"}, \"zaxis\": {\"backgroundcolor\": \"#E5ECF6\", \"gridcolor\": \"white\", \"gridwidth\": 2, \"linecolor\": \"white\", \"showbackground\": true, \"ticks\": \"\", \"zerolinecolor\": \"white\"}}, \"shapedefaults\": {\"line\": {\"color\": \"#2a3f5f\"}}, \"ternary\": {\"aaxis\": {\"gridcolor\": \"white\", \"linecolor\": \"white\", \"ticks\": \"\"}, \"baxis\": {\"gridcolor\": \"white\", \"linecolor\": \"white\", \"ticks\": \"\"}, \"bgcolor\": \"#E5ECF6\", \"caxis\": {\"gridcolor\": \"white\", \"linecolor\": \"white\", \"ticks\": \"\"}}, \"title\": {\"x\": 0.05}, \"xaxis\": {\"automargin\": true, \"gridcolor\": \"white\", \"linecolor\": \"white\", \"ticks\": \"\", \"title\": {\"standoff\": 15}, \"zerolinecolor\": \"white\", \"zerolinewidth\": 2}, \"yaxis\": {\"automargin\": true, \"gridcolor\": \"white\", \"linecolor\": \"white\", \"ticks\": \"\", \"title\": {\"standoff\": 15}, \"zerolinecolor\": \"white\", \"zerolinewidth\": 2}}}, \"updatemenus\": [{\"buttons\": [{\"args\": [null, {\"frame\": {\"duration\": 50, \"redraw\": true}, \"fromcurrent\": true, \"mode\": \"immediate\", \"transition\": {\"duration\": 0}}], \"label\": \"Play\", \"method\": \"animate\"}], \"pad\": {\"r\": 10, \"t\": 45}, \"showactive\": false, \"type\": \"buttons\", \"x\": 0.8, \"xanchor\": \"left\", \"y\": 1, \"yanchor\": \"bottom\"}]},\n",
              "                        {\"responsive\": true}\n",
              "                    ).then(function(){\n",
              "                            Plotly.addFrames('4d67653b-0c26-40ec-9f33-9f6d5f9e2f4e', [{\"layout\": {\"scene\": {\"camera\": {\"eye\": {\"x\": 1.25, \"y\": 1.25, \"z\": 0.8}}}}}, {\"layout\": {\"scene\": {\"camera\": {\"eye\": {\"x\": 1.3685469774060675, \"y\": 1.1189634357889973, \"z\": 0.8}}}}}, {\"layout\": {\"scene\": {\"camera\": {\"eye\": {\"x\": 1.4734198857953784, \"y\": 0.9767465588077254, \"z\": 0.8}}}}}, {\"layout\": {\"scene\": {\"camera\": {\"eye\": {\"x\": 1.5635708697336819, \"y\": 0.824770353080333, \"z\": 0.8}}}}}, {\"layout\": {\"scene\": {\"camera\": {\"eye\": {\"x\": 1.6380991703894194, \"y\": 0.6645533146177932, \"z\": 0.8}}}}}, {\"layout\": {\"scene\": {\"camera\": {\"eye\": {\"x\": 1.6962601256182197, \"y\": 0.4976962791077122, \"z\": 0.8}}}}}, {\"layout\": {\"scene\": {\"camera\": {\"eye\": {\"x\": 1.737472610380892, \"y\": 0.32586642689330336, \"z\": 0.8}}}}}, {\"layout\": {\"scene\": {\"camera\": {\"eye\": {\"x\": 1.7613248431527242, \"y\": 0.15078062505849654, \"z\": 0.8}}}}}, {\"layout\": {\"scene\": {\"camera\": {\"eye\": {\"x\": 1.7675785003083602, \"y\": -0.025811726940446755, \"z\": 0.8}}}}}, {\"layout\": {\"scene\": {\"camera\": {\"eye\": {\"x\": 1.7561710973726847, \"y\": -0.20214617669602375, \"z\": 0.8}}}}}, {\"layout\": {\"scene\": {\"camera\": {\"eye\": {\"x\": 1.7272166133450453, \"y\": -0.376460848674696, \"z\": 0.8}}}}}, {\"layout\": {\"scene\": {\"camera\": {\"eye\": {\"x\": 1.6810043518587658, \"y\": -0.5470140482948226, \"z\": 0.8}}}}}, {\"layout\": {\"scene\": {\"camera\": {\"eye\": {\"x\": 1.6179960505548747, \"y\": -0.7121016643631912, \"z\": 0.8}}}}}, {\"layout\": {\"scene\": {\"camera\": {\"eye\": {\"x\": 1.5388212675522255, \"y\": -0.870074195990757, \"z\": 0.8}}}}}, {\"layout\": {\"scene\": {\"camera\": {\"eye\": {\"x\": 1.4442710911108763, \"y\": -1.0193532338602744, \"z\": 0.8}}}}}, {\"layout\": {\"scene\": {\"camera\": {\"eye\": {\"x\": 1.3352902353396967, \"y\": -1.1584472311704395, \"z\": 0.8}}}}}, {\"layout\": {\"scene\": {\"camera\": {\"eye\": {\"x\": 1.2129676009252703, \"y\": -1.2859664066784924, \"z\": 0.8}}}}}, {\"layout\": {\"scene\": {\"camera\": {\"eye\": {\"x\": 1.0785253951961797, \"y\": -1.4006366309349918, \"z\": 0.8}}}}}, {\"layout\": {\"scene\": {\"camera\": {\"eye\": {\"x\": 0.9333069202313851, \"y\": -1.5013121569641028, \"z\": 0.8}}}}}, {\"layout\": {\"scene\": {\"camera\": {\"eye\": {\"x\": 0.7787631510298885, \"y\": -1.5869870681886475, \"z\": 0.8}}}}}, {\"layout\": {\"scene\": {\"camera\": {\"eye\": {\"x\": 0.6164382378481742, \"y\": -1.6568053292160303, \"z\": 0.8}}}}}, {\"layout\": {\"scene\": {\"camera\": {\"eye\": {\"x\": 0.44795407756127026, \"y\": -1.710069339060914, \"z\": 0.8}}}}}, {\"layout\": {\"scene\": {\"camera\": {\"eye\": {\"x\": 0.27499410820530534, \"y\": -1.7462469013436699, \"z\": 0.8}}}}}, {\"layout\": {\"scene\": {\"camera\": {\"eye\": {\"x\": 0.09928648862111944, \"y\": -1.7649765418206806, \"z\": 0.8}}}}}, {\"layout\": {\"scene\": {\"camera\": {\"eye\": {\"x\": -0.07741316873761894, \"y\": -1.7660711201154955, \"z\": 0.8}}}}}, {\"layout\": {\"scene\": {\"camera\": {\"eye\": {\"x\": -0.25333933930372143, \"y\": -1.7495196995636126, \"z\": 0.8}}}}}, {\"layout\": {\"scene\": {\"camera\": {\"eye\": {\"x\": -0.4267342269343539, \"y\": -1.7154876564880144, \"z\": 0.8}}}}}, {\"layout\": {\"scene\": {\"camera\": {\"eye\": {\"x\": -0.5958653272290393, \"y\": -1.6643150278136138, \"z\": 0.8}}}}}, {\"layout\": {\"scene\": {\"camera\": {\"eye\": {\"x\": -0.7590427381409421, \"y\": -1.5965131135307038, \"z\": 0.8}}}}}, {\"layout\": {\"scene\": {\"camera\": {\"eye\": {\"x\": -0.9146360449195108, \"y\": -1.5127593679544658, \"z\": 0.8}}}}}, {\"layout\": {\"scene\": {\"camera\": {\"eye\": {\"x\": -1.0610906106757227, \"y\": -1.4138906308253907, \"z\": 0.8}}}}}, {\"layout\": {\"scene\": {\"camera\": {\"eye\": {\"x\": -1.196943109799986, \"y\": -1.3008947658832124, \"z\": 0.8}}}}}, {\"layout\": {\"scene\": {\"camera\": {\"eye\": {\"x\": -1.3208361490279166, \"y\": -1.1749007904589663, \"z\": 0.8}}}}}, {\"layout\": {\"scene\": {\"camera\": {\"eye\": {\"x\": -1.431531830065142, \"y\": -1.0371675947070202, \"z\": 0.8}}}}}, {\"layout\": {\"scene\": {\"camera\": {\"eye\": {\"x\": -1.5279241182578656, \"y\": -0.8890713631907865, \"z\": 0.8}}}}}, {\"layout\": {\"scene\": {\"camera\": {\"eye\": {\"x\": -1.6090498937255202, \"y\": -0.7320918245014705, \"z\": 0.8}}}}}, {\"layout\": {\"scene\": {\"camera\": {\"eye\": {\"x\": -1.6740985745362496, \"y\": -0.5677974662991182, \"z\": 0.8}}}}}, {\"layout\": {\"scene\": {\"camera\": {\"eye\": {\"x\": -1.7224202157736266, \"y\": -0.39782986350239324, \"z\": 0.8}}}}}, {\"layout\": {\"scene\": {\"camera\": {\"eye\": {\"x\": -1.7535320035714197, \"y\": -0.22388727621462157, \"z\": 0.8}}}}}, {\"layout\": {\"scene\": {\"camera\": {\"eye\": {\"x\": -1.7671230792301427, \"y\": -0.04770768127020719, \"z\": 0.8}}}}}, {\"layout\": {\"scene\": {\"camera\": {\"eye\": {\"x\": -1.7630576452144253, \"y\": 0.1289485930553954, \"z\": 0.8}}}}}, {\"layout\": {\"scene\": {\"camera\": {\"eye\": {\"x\": -1.741376321997099, \"y\": 0.30431645566392784, \"z\": 0.8}}}}}, {\"layout\": {\"scene\": {\"camera\": {\"eye\": {\"x\": -1.7022957421928595, \"y\": 0.47664368884111097, \"z\": 0.8}}}}}, {\"layout\": {\"scene\": {\"camera\": {\"eye\": {\"x\": -1.646206386036788, \"y\": 0.6442084558368493, \"z\": 0.8}}}}}, {\"layout\": {\"scene\": {\"camera\": {\"eye\": {\"x\": -1.573668679834919, \"y\": 0.8053365048888708, \"z\": 0.8}}}}}, {\"layout\": {\"scene\": {\"camera\": {\"eye\": {\"x\": -1.4854073963698458, \"y\": 0.9584178977928967, \"z\": 0.8}}}}}, {\"layout\": {\"scene\": {\"camera\": {\"eye\": {\"x\": -1.3823044132106481, \"y\": 1.101923095873013, \"z\": 0.8}}}}}, {\"layout\": {\"scene\": {\"camera\": {\"eye\": {\"x\": -1.2653899012837393, \"y\": 1.2344182426265127, \"z\": 0.8}}}}}, {\"layout\": {\"scene\": {\"camera\": {\"eye\": {\"x\": -1.1358320317454915, \"y\": 1.3545794903441097, \"z\": 0.8}}}}}, {\"layout\": {\"scene\": {\"camera\": {\"eye\": {\"x\": -0.9949253040021958, \"y\": 1.4612062275586353, \"z\": 0.8}}}}}, {\"layout\": {\"scene\": {\"camera\": {\"eye\": {\"x\": -0.8440776114998902, \"y\": 1.553233075157956, \"z\": 0.8}}}}}, {\"layout\": {\"scene\": {\"camera\": {\"eye\": {\"x\": -0.6847961745184389, \"y\": 1.6297405313008917, \"z\": 0.8}}}}}, {\"layout\": {\"scene\": {\"camera\": {\"eye\": {\"x\": -0.5186724805247199, \"y\": 1.6899641587756626, \"z\": 0.8}}}}}, {\"layout\": {\"scene\": {\"camera\": {\"eye\": {\"x\": -0.347366382555924, \"y\": 1.733302223003828, \"z\": 0.8}}}}}, {\"layout\": {\"scene\": {\"camera\": {\"eye\": {\"x\": -0.17258951451669058, \"y\": 1.7593217043732774, \"z\": 0.8}}}}}, {\"layout\": {\"scene\": {\"camera\": {\"eye\": {\"x\": 0.0039118109010850555, \"y\": 1.767762624827065, \"z\": 0.8}}}}}, {\"layout\": {\"scene\": {\"camera\": {\"eye\": {\"x\": 0.18037405079741164, \"y\": 1.7585406454782138, \"z\": 0.8}}}}}, {\"layout\": {\"scene\": {\"camera\": {\"eye\": {\"x\": 0.3550340528019027, \"y\": 1.7317479092959966, \"z\": 0.8}}}}}, {\"layout\": {\"scene\": {\"camera\": {\"eye\": {\"x\": 0.5261466719094534, \"y\": 1.6876521204438448, \"z\": 0.8}}}}}, {\"layout\": {\"scene\": {\"camera\": {\"eye\": {\"x\": 0.6920022073922499, \"y\": 1.62669386946784, \"z\": 0.8}}}}}, {\"layout\": {\"scene\": {\"camera\": {\"eye\": {\"x\": 0.8509434855643001, \"y\": 1.5494822310616148, \"z\": 0.8}}}}}, {\"layout\": {\"scene\": {\"camera\": {\"eye\": {\"x\": 1.001382417713112, \"y\": 1.4567886783933495, \"z\": 0.8}}}}}, {\"layout\": {\"scene\": {\"camera\": {\"eye\": {\"x\": 1.1418158677571515, \"y\": 1.3495393748008924, \"z\": 0.8}}}}}, {\"layout\": {\"scene\": {\"camera\": {\"eye\": {\"x\": 1.270840671084707, \"y\": 1.2288059198738308, \"z\": 0.8}}}}}, {\"layout\": {\"scene\": {\"camera\": {\"eye\": {\"x\": 1.3871676545108578, \"y\": 1.0957946423846239, \"z\": 0.8}}}}}, {\"layout\": {\"scene\": {\"camera\": {\"eye\": {\"x\": 1.4896345172697987, \"y\": 0.9518345470502599, \"z\": 0.8}}}}}, {\"layout\": {\"scene\": {\"camera\": {\"eye\": {\"x\": 1.577217444339885, \"y\": 0.7983640355564382, \"z\": 0.8}}}}}, {\"layout\": {\"scene\": {\"camera\": {\"eye\": {\"x\": 1.6490413360648972, \"y\": 0.6369165345234014, \"z\": 0.8}}}}}, {\"layout\": {\"scene\": {\"camera\": {\"eye\": {\"x\": 1.7043885518605422, \"y\": 0.46910517401401974, \"z\": 0.8}}}}}, {\"layout\": {\"scene\": {\"camera\": {\"eye\": {\"x\": 1.742706080641946, \"y\": 0.2966066696714459, \"z\": 0.8}}}}}, {\"layout\": {\"scene\": {\"camera\": {\"eye\": {\"x\": 1.7636110663276172, \"y\": 0.12114456953064445, \"z\": 0.8}}}}}, {\"layout\": {\"scene\": {\"camera\": {\"eye\": {\"x\": 1.766894633210853, \"y\": -0.05552796710383823, \"z\": 0.8}}}}}, {\"layout\": {\"scene\": {\"camera\": {\"eye\": {\"x\": 1.7525239729767597, \"y\": -0.23164568664612328, \"z\": 0.8}}}}}, {\"layout\": {\"scene\": {\"camera\": {\"eye\": {\"x\": 1.7206426725120867, \"y\": -0.4054488790593255, \"z\": 0.8}}}}}, {\"layout\": {\"scene\": {\"camera\": {\"eye\": {\"x\": 1.6715692792325216, \"y\": -0.5752009602965458, \"z\": 0.8}}}}}, {\"layout\": {\"scene\": {\"camera\": {\"eye\": {\"x\": 1.605794118262206, \"y\": -0.7392058236746413, \"z\": 0.8}}}}}, {\"layout\": {\"scene\": {\"camera\": {\"eye\": {\"x\": 1.5239743932671765, \"y\": -0.8958247868115395, \"z\": 0.8}}}}}, {\"layout\": {\"scene\": {\"camera\": {\"eye\": {\"x\": 1.426927619893581, \"y\": -1.04349296479892, \"z\": 0.8}}}}}, {\"layout\": {\"scene\": {\"camera\": {\"eye\": {\"x\": 1.3156234574215673, \"y\": -1.180734906014945, \"z\": 0.8}}}}}, {\"layout\": {\"scene\": {\"camera\": {\"eye\": {\"x\": 1.1911740202502938, \"y\": -1.3061793343491364, \"z\": 0.8}}}}}, {\"layout\": {\"scene\": {\"camera\": {\"eye\": {\"x\": 1.0548227660184604, \"y\": -1.4185728505399942, \"z\": 0.8}}}}}, {\"layout\": {\"scene\": {\"camera\": {\"eye\": {\"x\": 0.9079320713866189, \"y\": -1.5167924557260966, \"z\": 0.8}}}}}, {\"layout\": {\"scene\": {\"camera\": {\"eye\": {\"x\": 0.7519696196199205, \"y\": -1.599856772079511, \"z\": 0.8}}}}}, {\"layout\": {\"scene\": {\"camera\": {\"eye\": {\"x\": 0.5884937359820905, \"y\": -1.6669358484086425, \"z\": 0.8}}}}}, {\"layout\": {\"scene\": {\"camera\": {\"eye\": {\"x\": 0.41913781746449363, \"y\": -1.7173594527562077, \"z\": 0.8}}}}}, {\"layout\": {\"scene\": {\"camera\": {\"eye\": {\"x\": 0.24559401242333323, \"y\": -1.7506237691353923, \"z\": 0.8}}}}}, {\"layout\": {\"scene\": {\"camera\": {\"eye\": {\"x\": 0.06959631319262605, \"y\": -1.7663964314926572, \"z\": 0.8}}}}}, {\"layout\": {\"scene\": {\"camera\": {\"eye\": {\"x\": -0.10709676939402235, \"y\": -1.7645198445994774, \"z\": 0.8}}}}}, {\"layout\": {\"scene\": {\"camera\": {\"eye\": {\"x\": -0.2827197764623679, \"y\": -1.745012758691772, \"z\": 0.8}}}}}, {\"layout\": {\"scene\": {\"camera\": {\"eye\": {\"x\": -0.45551794097903464, \"y\": -1.7080700821237462, \"z\": 0.8}}}}}, {\"layout\": {\"scene\": {\"camera\": {\"eye\": {\"x\": -0.6237647208036504, \"y\": -1.6540609339080419, \"z\": 0.8}}}}}, {\"layout\": {\"scene\": {\"camera\": {\"eye\": {\"x\": -0.7857790497271997, \"y\": -1.58352495560058, \"z\": 0.8}}}}}, {\"layout\": {\"scene\": {\"camera\": {\"eye\": {\"x\": -0.9399421341298975, \"y\": -1.4971669193805124, \"z\": 0.8}}}}}, {\"layout\": {\"scene\": {\"camera\": {\"eye\": {\"x\": -1.0847136274319271, \"y\": -1.3958496861995813, \"z\": 0.8}}}}}, {\"layout\": {\"scene\": {\"camera\": {\"eye\": {\"x\": -1.218647020727311, \"y\": -1.2805855843607052, \"z\": 0.8}}}}}, {\"layout\": {\"scene\": {\"camera\": {\"eye\": {\"x\": -1.3404040958227346, \"y\": -1.1525262946682115, \"z\": 0.8}}}}}, {\"layout\": {\"scene\": {\"camera\": {\"eye\": {\"x\": -1.448768296271385, \"y\": -1.0129513432139317, \"z\": 0.8}}}}}, {\"layout\": {\"scene\": {\"camera\": {\"eye\": {\"x\": -1.5426568828028173, \"y\": -0.8632553167754569, \"z\": 0.8}}}}}, {\"layout\": {\"scene\": {\"camera\": {\"eye\": {\"x\": -1.6211317516958519, \"y\": -0.7049339285660311, \"z\": 0.8}}}}}, {\"layout\": {\"scene\": {\"camera\": {\"eye\": {\"x\": -1.6834088080008527, \"y\": -0.5395690735625494, \"z\": 0.8}}}}}, {\"layout\": {\"scene\": {\"camera\": {\"eye\": {\"x\": -1.7288657999572776, \"y\": -0.3688130227338533, \"z\": 0.8}}}}}, {\"layout\": {\"scene\": {\"camera\": {\"eye\": {\"x\": -1.7570485363275825, \"y\": -0.1943719140953739, \"z\": 0.8}}}}}, {\"layout\": {\"scene\": {\"camera\": {\"eye\": {\"x\": -1.7676754245259283, \"y\": -0.017988705542069106, \"z\": 0.8}}}}}]);\n",
              "                        }).then(function(){\n",
              "                            \n",
              "var gd = document.getElementById('4d67653b-0c26-40ec-9f33-9f6d5f9e2f4e');\n",
              "var x = new MutationObserver(function (mutations, observer) {{\n",
              "        var display = window.getComputedStyle(gd).display;\n",
              "        if (!display || display === 'none') {{\n",
              "            console.log([gd, 'removed!']);\n",
              "            Plotly.purge(gd);\n",
              "            observer.disconnect();\n",
              "        }}\n",
              "}});\n",
              "\n",
              "// Listen for the removal of the full notebook cells\n",
              "var notebookContainer = gd.closest('#notebook-container');\n",
              "if (notebookContainer) {{\n",
              "    x.observe(notebookContainer, {childList: true});\n",
              "}}\n",
              "\n",
              "// Listen for the clearing of the current output cell\n",
              "var outputEl = gd.closest('.output');\n",
              "if (outputEl) {{\n",
              "    x.observe(outputEl, {childList: true});\n",
              "}}\n",
              "\n",
              "                        })\n",
              "                };\n",
              "                \n",
              "            </script>\n",
              "        </div>\n",
              "</body>\n",
              "</html>"
            ]
          },
          "metadata": {
            "tags": []
          }
        }
      ]
    },
    {
      "cell_type": "markdown",
      "metadata": {
        "id": "1riZU3RfrKmj"
      },
      "source": [
        "# Iterative Point Ordering\n"
      ]
    },
    {
      "cell_type": "markdown",
      "metadata": {
        "id": "S0cNmO8z_avG"
      },
      "source": [
        "**Optimizing Point Ordering**"
      ]
    },
    {
      "cell_type": "code",
      "metadata": {
        "id": "5xRedydy9nWt"
      },
      "source": [
        "pcd_arrays = list()\n",
        "for file in pcd_files:\n",
        "  pcd_array = np.array(reordering_pcd(o3d.io.read_point_cloud(file)).points)\n",
        "  pcd_arrays.append(pcd_array)\n"
      ],
      "execution_count": null,
      "outputs": []
    },
    {
      "cell_type": "code",
      "metadata": {
        "colab": {
          "base_uri": "https://localhost:8080/",
          "height": 449,
          "referenced_widgets": [
            "1f9110cde1b64b8f994d3661054e0a80",
            "f10c8b7b95e348119eabe18dfe44beaf",
            "7e0fd87a32144759b3f6b42203376d51",
            "59477e10a25b4a24a81ee37d4f59ac29",
            "5e518d3860f04840b0eee6907ff90426",
            "9181fa7d50f9446093517bce2b539526",
            "e05e3cda66ad4ce294efec52c8f75ab9",
            "ed4ac9f6cabd448e9f581e171aacbb49",
            "b347e0d1c1c04b82a9864e67375c8739",
            "70d1219efda84c0eb5d7ce24f736335d",
            "c102b9f8c05f415ba6f847b049027b36",
            "540de84f606146d0b1bba19825e3a709",
            "6bfe86c250a64f1bbec42164bed395ec",
            "05b87f8a8a8546fcaa91c496eab527a6",
            "5e59407862b54bb2b608a71a47fb3243",
            "9b8ba7f838e94de7beb012367f31e12d",
            "11734fdae18e40cbb02ceb6b71ef4dd2",
            "07659b838b7c4a82a68ac97d1b90ba02",
            "2832edb8476a44028e9cec1ca18fb98d",
            "6425ea870dfb4232b7a3e21cda78ac56",
            "81aad9edcf9d48fcb861defdd241d677",
            "984f624c0926499b9c5d4cc06f551629",
            "c1855899cfeb46f59b9a995cc64b040a",
            "d0dacd317d644795adf1b7036eb3f870",
            "17a194d71dfd4253bf9b724e2e7473eb",
            "80b9cbb3ba1a4261a6c8cb9ccae87676",
            "68c7d5457122434fa21d84f9b5a8b99d",
            "bdc8aa34b254487b91722202c29a9ea9",
            "846dbe30fee741348d252f9c9eaa06d9",
            "1ff8bfce2e2447fb907495cc09a85afe",
            "167cc8b7793b4a1f8201067cbfce39f5",
            "65873a6efa7e4a3782d57b9850c5391b",
            "6c55149f78ae455bb1058c69fae5acf4",
            "2be77173b1bf4ea78e9536850f1ead92",
            "8496c01c369345e0a8ce3b083b7f345e",
            "e64e64be865140b3b983a852e576a619",
            "6ddd0b9a5e704b87aed60d6a92c71a31",
            "8ccbb17b256647f3be5d098bb5073c74",
            "9e2c65482b1e4ec8947408ba65fb8578",
            "e2f5ad61ad914584b4255a46e2a2f87e",
            "c21637b411a54f808fbe5aa1be1dd23c",
            "662386ade9ec42b39dc399d36c24a770",
            "a0d04494231c445d83c2943beb2c9374",
            "d57cd0635a644bc88ee3826056091a65",
            "9ff719a823e14aab9f35279a01596a9b",
            "ef3cc5a0aa6a4efbb9c7bf4d6d99de87",
            "c8dc28b21d894ebc8204179a9a6f2dcb",
            "4cb85fbf01ed4e49a09bbe02783efc3c",
            "4371a1ada95d4525a56cdd27145a5622",
            "bec9b04ee48f4a11aca79e5fe25500c6",
            "d55a042626f3445eba15ce59ccd4e762",
            "72707700fdc148cb88d3b263218ba186",
            "afb7cbc6b4a1444092d19b132250a63d",
            "29f207888f7a4acfb3a3a77a1ced6f69",
            "391c98fd9f6c49209975e87fd6606061",
            "e93cde5be9b4447baf09dd81108422a3"
          ]
        },
        "id": "wc1ihL9VAmgp",
        "outputId": "93730cae-1ef7-4344-966d-37c1387b33e7"
      },
      "source": [
        "import random\n",
        "from tqdm.notebook import tqdm\n",
        "\n",
        "# select two points at random, swap, check if reprojection error reduces, return swapped array\n",
        "def shuffle_order(array,mean,u):\n",
        "  old_array = array.copy()\n",
        "  l=0; r=0\n",
        "  while(l==r):\n",
        "    l = random.randint(0,999)\n",
        "    r = random.randint(0,999)\n",
        "  temp = array[l,:].copy()\n",
        "  array[l,:] = array[r,:].copy()\n",
        "  array[r,:] = temp.copy()\n",
        "  array = array.reshape(3000,1)\n",
        "  old_array = old_array.reshape(3000,1)\n",
        "  u = u.reshape(-1,1)\n",
        "  #reproj = np.dot(np.dot(array-mean,u.T),u) + mean\n",
        "  reproj = np.dot(array-mean,np.dot(u.T,u)) + mean\n",
        "  #reproj_old = np.dot(np.dot(old_array-mean,u.T),u) + mean\n",
        "  reproj_old = np.dot(old_array-mean,np.dot(u.T,u)) + mean\n",
        "  error = np.mean((array - reproj)**2)\n",
        "  error_old = np.mean((old_array - reproj_old)**2)\n",
        "  if error<error_old:\n",
        "    # print(\"yes\")\n",
        "    return array.reshape(1000,3),error\n",
        "  else:\n",
        "    return old_array.reshape(1000,3),error_old\n",
        "\n",
        "# Calculate PCA \n",
        "def calculate_PCA(array_list):\n",
        "  new_list = []\n",
        "  for i in range(len(array_list)):\n",
        "    new_list.append(array_list[i].reshape(3000,1))\n",
        "  P = np.concatenate(new_list,axis=1)\n",
        "  basis = 100 #100 shape basis\n",
        "  pca = PCA(basis) \n",
        "  pca.fit(P)\n",
        "  V = pca.transform(P) #Projections\n",
        "  coeffs = pca.components_.T\n",
        "  return coeffs, V\n",
        "\n",
        "# Mean across all the arrays, result size is 3NX1\n",
        "def calculate_mean(array_list):\n",
        "  sumation = np.zeros(array_list[0].shape)\n",
        "  for array in array_list:\n",
        "    sumation+=array\n",
        "  sumation/= len(array_list)\n",
        "  return sumation.reshape(3000,1)\n",
        "\n",
        "# Function that calculates reprojection error for one shape\n",
        "def calculate_error(array,u,mean):\n",
        "  u = u.reshape(-1,1)\n",
        "  array = array.reshape(3000,1)\n",
        "  reproj = np.dot(array-mean,np.dot(u.T,u)) + mean\n",
        "  error = np.mean((array - reproj)**2)\n",
        "  return error\n",
        "\n",
        "\n",
        "iterations = 100\n",
        "K = 10000\n",
        "mean = calculate_mean(pcd_arrays)\n",
        "coeffs,V = calculate_PCA(pcd_arrays)\n",
        "for i in range(iterations):\n",
        "  # print(\"iteration number: \",i)\n",
        "  total_error = 0\n",
        "  for j in tqdm(range(len(pcd_arrays))):\n",
        "    for k in range(K):\n",
        "      pcd_arrays[j], error = shuffle_order(pcd_arrays[j],mean,coeffs[j])\n",
        "  for l in range(len(pcd_arrays)):\n",
        "    total_error+=calculate_error(pcd_arrays[l],coeffs[l],mean)\n",
        "  print(\"error in iteration %d is %f\"%(i,total_error))\n",
        "  coeffs, V = calculate_PCA(pcd_arrays)\n",
        "  mean = calculate_mean(pcd_arrays)\n",
        "\n",
        "# print(coeffs)\n",
        "# print(V)"
      ],
      "execution_count": null,
      "outputs": [
        {
          "output_type": "display_data",
          "data": {
            "application/vnd.jupyter.widget-view+json": {
              "model_id": "1f9110cde1b64b8f994d3661054e0a80",
              "version_major": 2,
              "version_minor": 0
            },
            "text/plain": [
              "HBox(children=(FloatProgress(value=0.0, max=5000.0), HTML(value='')))"
            ]
          },
          "metadata": {
            "tags": []
          }
        },
        {
          "output_type": "stream",
          "text": [
            "\n",
            "error in iteration 0 is 43.445359\n"
          ],
          "name": "stdout"
        },
        {
          "output_type": "display_data",
          "data": {
            "application/vnd.jupyter.widget-view+json": {
              "model_id": "b347e0d1c1c04b82a9864e67375c8739",
              "version_major": 2,
              "version_minor": 0
            },
            "text/plain": [
              "HBox(children=(FloatProgress(value=0.0, max=5000.0), HTML(value='')))"
            ]
          },
          "metadata": {
            "tags": []
          }
        },
        {
          "output_type": "stream",
          "text": [
            "\n",
            "error in iteration 1 is 42.820477\n"
          ],
          "name": "stdout"
        },
        {
          "output_type": "display_data",
          "data": {
            "application/vnd.jupyter.widget-view+json": {
              "model_id": "11734fdae18e40cbb02ceb6b71ef4dd2",
              "version_major": 2,
              "version_minor": 0
            },
            "text/plain": [
              "HBox(children=(FloatProgress(value=0.0, max=5000.0), HTML(value='')))"
            ]
          },
          "metadata": {
            "tags": []
          }
        },
        {
          "output_type": "stream",
          "text": [
            "\n",
            "error in iteration 2 is 42.306123\n"
          ],
          "name": "stdout"
        },
        {
          "output_type": "display_data",
          "data": {
            "application/vnd.jupyter.widget-view+json": {
              "model_id": "17a194d71dfd4253bf9b724e2e7473eb",
              "version_major": 2,
              "version_minor": 0
            },
            "text/plain": [
              "HBox(children=(FloatProgress(value=0.0, max=5000.0), HTML(value='')))"
            ]
          },
          "metadata": {
            "tags": []
          }
        },
        {
          "output_type": "stream",
          "text": [
            "\n",
            "error in iteration 3 is 41.877463\n"
          ],
          "name": "stdout"
        },
        {
          "output_type": "display_data",
          "data": {
            "application/vnd.jupyter.widget-view+json": {
              "model_id": "6c55149f78ae455bb1058c69fae5acf4",
              "version_major": 2,
              "version_minor": 0
            },
            "text/plain": [
              "HBox(children=(FloatProgress(value=0.0, max=5000.0), HTML(value='')))"
            ]
          },
          "metadata": {
            "tags": []
          }
        },
        {
          "output_type": "stream",
          "text": [
            "\n",
            "error in iteration 4 is 41.508089\n"
          ],
          "name": "stdout"
        },
        {
          "output_type": "display_data",
          "data": {
            "application/vnd.jupyter.widget-view+json": {
              "model_id": "c21637b411a54f808fbe5aa1be1dd23c",
              "version_major": 2,
              "version_minor": 0
            },
            "text/plain": [
              "HBox(children=(FloatProgress(value=0.0, max=5000.0), HTML(value='')))"
            ]
          },
          "metadata": {
            "tags": []
          }
        },
        {
          "output_type": "stream",
          "text": [
            "\n",
            "error in iteration 5 is 41.180174\n"
          ],
          "name": "stdout"
        },
        {
          "output_type": "display_data",
          "data": {
            "application/vnd.jupyter.widget-view+json": {
              "model_id": "4371a1ada95d4525a56cdd27145a5622",
              "version_minor": 0,
              "version_major": 2
            },
            "text/plain": [
              "HBox(children=(FloatProgress(value=0.0, max=5000.0), HTML(value='')))"
            ]
          },
          "metadata": {
            "tags": []
          }
        }
      ]
    },
    {
      "cell_type": "code",
      "metadata": {
        "id": "WPNZWck-YSd2"
      },
      "source": [
        ""
      ],
      "execution_count": null,
      "outputs": []
    }
  ]
}